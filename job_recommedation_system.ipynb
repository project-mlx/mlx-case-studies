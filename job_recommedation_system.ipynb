{
  "nbformat": 4,
  "nbformat_minor": 0,
  "metadata": {
    "colab": {
      "name": "job_recommedation_system.ipynb",
      "provenance": [],
      "collapsed_sections": [],
      "authorship_tag": "ABX9TyMPfZKQLWLJ8Au4LhLrjca7",
      "include_colab_link": true
    },
    "kernelspec": {
      "name": "python3",
      "display_name": "Python 3"
    }
  },
  "cells": [
    {
      "cell_type": "markdown",
      "metadata": {
        "id": "view-in-github",
        "colab_type": "text"
      },
      "source": [
        "<a href=\"https://colab.research.google.com/github/project-mlx/mlx-case-studies/blob/main/job_recommedation_system.ipynb\" target=\"_parent\"><img src=\"https://colab.research.google.com/assets/colab-badge.svg\" alt=\"Open In Colab\"/></a>"
      ]
    },
    {
      "cell_type": "markdown",
      "metadata": {
        "id": "ysffOJA0bWnS"
      },
      "source": [
        "# Job Reccomendaer Systems\n",
        "## Please go through the following insta post for more details https://www.instagram.com/p/CKBI9kUp4Mi/\n",
        "\n",
        "Datasets: indeed.com datasets (https://drive.google.com/drive/folders/1zULL590k7dz9_5AiDh330GIrDho8P6CN?usp=sharing)\n",
        "\n",
        "- Cleaning Jobs and user Datasets\n",
        "- Prepreprcessing Datasets\n",
        "- Feature Extraction\n",
        "- Reccomendation generation using Cosine Similarity and KNN"
      ]
    },
    {
      "cell_type": "code",
      "metadata": {
        "colab": {
          "base_uri": "https://localhost:8080/"
        },
        "id": "1YD0JKIAfmsC",
        "outputId": "3972d889-9bd1-4e41-8fc7-a608d8aeaabd"
      },
      "source": [
        "from google.colab import drive\n",
        "drive.mount('/content/drive')"
      ],
      "execution_count": 46,
      "outputs": [
        {
          "output_type": "stream",
          "text": [
            "Drive already mounted at /content/drive; to attempt to forcibly remount, call drive.mount(\"/content/drive\", force_remount=True).\n"
          ],
          "name": "stdout"
        }
      ]
    },
    {
      "cell_type": "code",
      "metadata": {
        "id": "1SjL7VlYjpxC"
      },
      "source": [
        "import pandas as pd\n",
        "import matplotlib.pyplot as plt\n",
        "import seaborn as sns\n",
        "\n",
        "import re\n",
        "import string\n",
        "\n",
        "import nltk\n",
        "from nltk import word_tokenize\n",
        "from nltk.corpus import stopwords\n",
        "from nltk.stem import WordNetLemmatizer\n",
        "\n",
        "from sklearn.feature_extraction.text import TfidfVectorizer\n",
        "from sklearn.metrics.pairwise import cosine_similarity\n",
        "from sklearn.neighbors import NearestNeighbors"
      ],
      "execution_count": 47,
      "outputs": []
    },
    {
      "cell_type": "markdown",
      "metadata": {
        "id": "KR7RbVnxcALk"
      },
      "source": [
        "**Reading the Jobs details dataset and applying NLP preprocessing on the textual data**"
      ]
    },
    {
      "cell_type": "code",
      "metadata": {
        "id": "9-mhcW6ggZa7"
      },
      "source": [
        "jobs_df = pd.read_csv('/content/drive/MyDrive/Datasets/IndeedDatasets/Combined_Jobs_Final.csv')"
      ],
      "execution_count": 48,
      "outputs": []
    },
    {
      "cell_type": "code",
      "metadata": {
        "colab": {
          "base_uri": "https://localhost:8080/",
          "height": 581
        },
        "id": "XX8ilsVnjxhq",
        "outputId": "2a09405c-a310-4c5a-ffe3-3a90409d3448"
      },
      "source": [
        "jobs_df.head()"
      ],
      "execution_count": 49,
      "outputs": [
        {
          "output_type": "execute_result",
          "data": {
            "text/html": [
              "<div>\n",
              "<style scoped>\n",
              "    .dataframe tbody tr th:only-of-type {\n",
              "        vertical-align: middle;\n",
              "    }\n",
              "\n",
              "    .dataframe tbody tr th {\n",
              "        vertical-align: top;\n",
              "    }\n",
              "\n",
              "    .dataframe thead th {\n",
              "        text-align: right;\n",
              "    }\n",
              "</style>\n",
              "<table border=\"1\" class=\"dataframe\">\n",
              "  <thead>\n",
              "    <tr style=\"text-align: right;\">\n",
              "      <th></th>\n",
              "      <th>Job.ID</th>\n",
              "      <th>Provider</th>\n",
              "      <th>Status</th>\n",
              "      <th>Slug</th>\n",
              "      <th>Title</th>\n",
              "      <th>Position</th>\n",
              "      <th>Company</th>\n",
              "      <th>City</th>\n",
              "      <th>State.Name</th>\n",
              "      <th>State.Code</th>\n",
              "      <th>Address</th>\n",
              "      <th>Latitude</th>\n",
              "      <th>Longitude</th>\n",
              "      <th>Industry</th>\n",
              "      <th>Job.Description</th>\n",
              "      <th>Requirements</th>\n",
              "      <th>Salary</th>\n",
              "      <th>Listing.Start</th>\n",
              "      <th>Listing.End</th>\n",
              "      <th>Employment.Type</th>\n",
              "      <th>Education.Required</th>\n",
              "      <th>Created.At</th>\n",
              "      <th>Updated.At</th>\n",
              "    </tr>\n",
              "  </thead>\n",
              "  <tbody>\n",
              "    <tr>\n",
              "      <th>0</th>\n",
              "      <td>111</td>\n",
              "      <td>1</td>\n",
              "      <td>open</td>\n",
              "      <td>palo-alto-ca-tacolicious-server</td>\n",
              "      <td>Server @ Tacolicious</td>\n",
              "      <td>Server</td>\n",
              "      <td>Tacolicious</td>\n",
              "      <td>Palo Alto</td>\n",
              "      <td>California</td>\n",
              "      <td>CA</td>\n",
              "      <td>NaN</td>\n",
              "      <td>37.443346</td>\n",
              "      <td>-122.161170</td>\n",
              "      <td>Food and Beverages</td>\n",
              "      <td>Tacolicious' first Palo Alto store just opened...</td>\n",
              "      <td>NaN</td>\n",
              "      <td>8.00</td>\n",
              "      <td>NaN</td>\n",
              "      <td>NaN</td>\n",
              "      <td>Part-Time</td>\n",
              "      <td>NaN</td>\n",
              "      <td>2013-03-12 02:08:28 UTC</td>\n",
              "      <td>2014-08-16 15:35:36 UTC</td>\n",
              "    </tr>\n",
              "    <tr>\n",
              "      <th>1</th>\n",
              "      <td>113</td>\n",
              "      <td>1</td>\n",
              "      <td>open</td>\n",
              "      <td>san-francisco-ca-claude-lane-kitchen-staff-chef</td>\n",
              "      <td>Kitchen Staff/Chef @ Claude Lane</td>\n",
              "      <td>Kitchen Staff/Chef</td>\n",
              "      <td>Claude Lane</td>\n",
              "      <td>San Francisco</td>\n",
              "      <td>California</td>\n",
              "      <td>CA</td>\n",
              "      <td>NaN</td>\n",
              "      <td>37.789830</td>\n",
              "      <td>-122.404268</td>\n",
              "      <td>Food and Beverages</td>\n",
              "      <td>\\r\\n\\r\\nNew French Brasserie in S.F. Financia...</td>\n",
              "      <td>NaN</td>\n",
              "      <td>0.00</td>\n",
              "      <td>NaN</td>\n",
              "      <td>NaN</td>\n",
              "      <td>Part-Time</td>\n",
              "      <td>NaN</td>\n",
              "      <td>2013-04-12 08:36:36 UTC</td>\n",
              "      <td>2014-08-16 15:35:36 UTC</td>\n",
              "    </tr>\n",
              "    <tr>\n",
              "      <th>2</th>\n",
              "      <td>117</td>\n",
              "      <td>1</td>\n",
              "      <td>open</td>\n",
              "      <td>san-francisco-ca-machka-restaurants-corp-barte...</td>\n",
              "      <td>Bartender @ Machka Restaurants Corp.</td>\n",
              "      <td>Bartender</td>\n",
              "      <td>Machka Restaurants Corp.</td>\n",
              "      <td>San Francisco</td>\n",
              "      <td>California</td>\n",
              "      <td>CA</td>\n",
              "      <td>NaN</td>\n",
              "      <td>37.795597</td>\n",
              "      <td>-122.402963</td>\n",
              "      <td>Food and Beverages</td>\n",
              "      <td>We are a popular Mediterranean wine bar and re...</td>\n",
              "      <td>NaN</td>\n",
              "      <td>11.00</td>\n",
              "      <td>NaN</td>\n",
              "      <td>NaN</td>\n",
              "      <td>Part-Time</td>\n",
              "      <td>NaN</td>\n",
              "      <td>2013-07-16 09:34:10 UTC</td>\n",
              "      <td>2014-08-16 15:35:37 UTC</td>\n",
              "    </tr>\n",
              "    <tr>\n",
              "      <th>3</th>\n",
              "      <td>121</td>\n",
              "      <td>1</td>\n",
              "      <td>open</td>\n",
              "      <td>brisbane-ca-teriyaki-house-server</td>\n",
              "      <td>Server @ Teriyaki House</td>\n",
              "      <td>Server</td>\n",
              "      <td>Teriyaki House</td>\n",
              "      <td>Brisbane</td>\n",
              "      <td>California</td>\n",
              "      <td>CA</td>\n",
              "      <td>NaN</td>\n",
              "      <td>37.685073</td>\n",
              "      <td>-122.400275</td>\n",
              "      <td>Food and Beverages</td>\n",
              "      <td>● Serve food/drinks to customers in a profess...</td>\n",
              "      <td>NaN</td>\n",
              "      <td>10.55</td>\n",
              "      <td>NaN</td>\n",
              "      <td>NaN</td>\n",
              "      <td>Part-Time</td>\n",
              "      <td>NaN</td>\n",
              "      <td>2013-09-04 15:40:30 UTC</td>\n",
              "      <td>2014-08-16 15:35:38 UTC</td>\n",
              "    </tr>\n",
              "    <tr>\n",
              "      <th>4</th>\n",
              "      <td>127</td>\n",
              "      <td>1</td>\n",
              "      <td>open</td>\n",
              "      <td>los-angeles-ca-rosa-mexicano-sunset-kitchen-st...</td>\n",
              "      <td>Kitchen Staff/Chef @ Rosa Mexicano - Sunset</td>\n",
              "      <td>Kitchen Staff/Chef</td>\n",
              "      <td>Rosa Mexicano - Sunset</td>\n",
              "      <td>Los Angeles</td>\n",
              "      <td>California</td>\n",
              "      <td>CA</td>\n",
              "      <td>NaN</td>\n",
              "      <td>34.073384</td>\n",
              "      <td>-118.460439</td>\n",
              "      <td>Food and Beverages</td>\n",
              "      <td>Located at the heart of Hollywood, we are one ...</td>\n",
              "      <td>NaN</td>\n",
              "      <td>10.55</td>\n",
              "      <td>NaN</td>\n",
              "      <td>NaN</td>\n",
              "      <td>Part-Time</td>\n",
              "      <td>NaN</td>\n",
              "      <td>2013-07-17 15:26:18 UTC</td>\n",
              "      <td>2014-08-16 15:35:40 UTC</td>\n",
              "    </tr>\n",
              "  </tbody>\n",
              "</table>\n",
              "</div>"
            ],
            "text/plain": [
              "   Job.ID  Provider  ...               Created.At               Updated.At\n",
              "0     111         1  ...  2013-03-12 02:08:28 UTC  2014-08-16 15:35:36 UTC\n",
              "1     113         1  ...  2013-04-12 08:36:36 UTC  2014-08-16 15:35:36 UTC\n",
              "2     117         1  ...  2013-07-16 09:34:10 UTC  2014-08-16 15:35:37 UTC\n",
              "3     121         1  ...  2013-09-04 15:40:30 UTC  2014-08-16 15:35:38 UTC\n",
              "4     127         1  ...  2013-07-17 15:26:18 UTC  2014-08-16 15:35:40 UTC\n",
              "\n",
              "[5 rows x 23 columns]"
            ]
          },
          "metadata": {
            "tags": []
          },
          "execution_count": 49
        }
      ]
    },
    {
      "cell_type": "code",
      "metadata": {
        "colab": {
          "base_uri": "https://localhost:8080/"
        },
        "id": "CzCs3o4kj3jl",
        "outputId": "31f3b594-f1d4-4390-adaa-b4a25c04c1e5"
      },
      "source": [
        "jobs_df.isnull().sum()"
      ],
      "execution_count": 50,
      "outputs": [
        {
          "output_type": "execute_result",
          "data": {
            "text/plain": [
              "Job.ID                    0\n",
              "Provider                  0\n",
              "Status                    0\n",
              "Slug                      0\n",
              "Title                     0\n",
              "Position                  0\n",
              "Company                2271\n",
              "City                    135\n",
              "State.Name              171\n",
              "State.Code              171\n",
              "Address               84054\n",
              "Latitude                  0\n",
              "Longitude                 0\n",
              "Industry              83823\n",
              "Job.Description          56\n",
              "Requirements          84090\n",
              "Salary                83861\n",
              "Listing.Start           683\n",
              "Listing.End             167\n",
              "Employment.Type          10\n",
              "Education.Required      267\n",
              "Created.At                0\n",
              "Updated.At                0\n",
              "dtype: int64"
            ]
          },
          "metadata": {
            "tags": []
          },
          "execution_count": 50
        }
      ]
    },
    {
      "cell_type": "markdown",
      "metadata": {
        "id": "0byw8kTmcYzB"
      },
      "source": [
        "**Picking the features which are common between job and user dataset and contains less number of null values**"
      ]
    },
    {
      "cell_type": "code",
      "metadata": {
        "id": "kKFust0RlEaE"
      },
      "source": [
        "# Only using 'Job.ID','Title','Position','Company','City','Employment.Type', and \n",
        "# 'Job.Description' for the text corpus.\n",
        "jobs_df = jobs_df[['Job.ID','Title','Position','Company','City','Employment.Type','Job.Description']]"
      ],
      "execution_count": 51,
      "outputs": []
    },
    {
      "cell_type": "markdown",
      "metadata": {
        "id": "QPVwAp4Fc0ks"
      },
      "source": [
        "**Plotting a graph for null values in the selected columns**"
      ]
    },
    {
      "cell_type": "code",
      "metadata": {
        "id": "lHTXfcW6j9tT"
      },
      "source": [
        "x_axis = jobs_df.columns\n",
        "y_axis = jobs_df.isnull().sum()"
      ],
      "execution_count": 52,
      "outputs": []
    },
    {
      "cell_type": "code",
      "metadata": {
        "colab": {
          "base_uri": "https://localhost:8080/",
          "height": 537
        },
        "id": "472OwBiikaKU",
        "outputId": "7706d8cc-44ad-425d-8689-fcb90a11b325"
      },
      "source": [
        "plt.figure(figsize=(10,6))\n",
        "sns.set()\n",
        "sns.barplot(x_axis,y_axis)\n",
        "Xc = plt.gca()\n",
        "for ptc in Xc.patches:\n",
        "    hght = ptc.get_height()\n",
        "    Xc.text(ptc.get_x(),\n",
        "            hght + 2,\n",
        "            str(100*round(int(hght)/jobs_df.shape[0], 3)) +\"%\",\n",
        "            fontsize=10, ha='center', va='bottom')\n",
        "Xc.set_xlabel(\"Columns\")\n",
        "Xc.set_ylabel(\"NaN Values of each Column\")\n",
        "plt.xticks(rotation=80)\n",
        "\n",
        "plt.show()"
      ],
      "execution_count": 53,
      "outputs": [
        {
          "output_type": "stream",
          "text": [
            "/usr/local/lib/python3.6/dist-packages/seaborn/_decorators.py:43: FutureWarning: Pass the following variables as keyword args: x, y. From version 0.12, the only valid positional argument will be `data`, and passing other arguments without an explicit keyword will result in an error or misinterpretation.\n",
            "  FutureWarning\n"
          ],
          "name": "stderr"
        },
        {
          "output_type": "display_data",
          "data": {
            "image/png": "[encoded data removed]",
            "text/plain": [
              "<Figure size 720x432 with 1 Axes>"
            ]
          },
          "metadata": {
            "tags": []
          }
        }
      ]
    },
    {
      "cell_type": "markdown",
      "metadata": {
        "id": "LHNVflXaiT_M"
      },
      "source": [
        "**Cleaning and preprocessing the jobs dataset**"
      ]
    },
    {
      "cell_type": "code",
      "metadata": {
        "colab": {
          "base_uri": "https://localhost:8080/",
          "height": 306
        },
        "id": "EJTCv282djoi",
        "outputId": "86528f3c-0767-4225-8daf-0e3a01418372"
      },
      "source": [
        "# Fecthing rows which contains City with NaN values\n",
        "city_NaN = jobs_df[pd.isnull(jobs_df['City'])]\n",
        "print(city_NaN.shape)\n",
        "city_NaN.head()"
      ],
      "execution_count": 54,
      "outputs": [
        {
          "output_type": "stream",
          "text": [
            "(135, 7)\n"
          ],
          "name": "stdout"
        },
        {
          "output_type": "execute_result",
          "data": {
            "text/html": [
              "<div>\n",
              "<style scoped>\n",
              "    .dataframe tbody tr th:only-of-type {\n",
              "        vertical-align: middle;\n",
              "    }\n",
              "\n",
              "    .dataframe tbody tr th {\n",
              "        vertical-align: top;\n",
              "    }\n",
              "\n",
              "    .dataframe thead th {\n",
              "        text-align: right;\n",
              "    }\n",
              "</style>\n",
              "<table border=\"1\" class=\"dataframe\">\n",
              "  <thead>\n",
              "    <tr style=\"text-align: right;\">\n",
              "      <th></th>\n",
              "      <th>Job.ID</th>\n",
              "      <th>Title</th>\n",
              "      <th>Position</th>\n",
              "      <th>Company</th>\n",
              "      <th>City</th>\n",
              "      <th>Employment.Type</th>\n",
              "      <th>Job.Description</th>\n",
              "    </tr>\n",
              "  </thead>\n",
              "  <tbody>\n",
              "    <tr>\n",
              "      <th>3425</th>\n",
              "      <td>142044</td>\n",
              "      <td>Registered Nurse (RN) @ St. Francis Hospital</td>\n",
              "      <td>Registered Nurse (RN)</td>\n",
              "      <td>St. Francis Hospital</td>\n",
              "      <td>NaN</td>\n",
              "      <td>Full-Time/Part-Time</td>\n",
              "      <td>Under the direction of the Clinical Coordinato...</td>\n",
              "    </tr>\n",
              "    <tr>\n",
              "      <th>3433</th>\n",
              "      <td>142054</td>\n",
              "      <td>Sales Representative - Business Development Op...</td>\n",
              "      <td>Sales Representative - Business Development Op...</td>\n",
              "      <td>CHI Payment Systems</td>\n",
              "      <td>NaN</td>\n",
              "      <td>Full-Time/Part-Time</td>\n",
              "      <td>If you&amp;rsquo;re energetic, motivated, hardwork...</td>\n",
              "    </tr>\n",
              "    <tr>\n",
              "      <th>3434</th>\n",
              "      <td>142055</td>\n",
              "      <td>New Business Executive @ CHI Payment Systems</td>\n",
              "      <td>New Business Executive</td>\n",
              "      <td>CHI Payment Systems</td>\n",
              "      <td>NaN</td>\n",
              "      <td>Full-Time/Part-Time</td>\n",
              "      <td>If you&amp;rsquo;re energetic, motivated, hardwork...</td>\n",
              "    </tr>\n",
              "    <tr>\n",
              "      <th>3435</th>\n",
              "      <td>142056</td>\n",
              "      <td>Outside Sales Representative (Business Develop...</td>\n",
              "      <td>Outside Sales Representative (Business Develop...</td>\n",
              "      <td>CHI Payment Systems</td>\n",
              "      <td>NaN</td>\n",
              "      <td>Full-Time/Part-Time</td>\n",
              "      <td>If you&amp;rsquo;re energetic, motivated, hardwork...</td>\n",
              "    </tr>\n",
              "    <tr>\n",
              "      <th>3436</th>\n",
              "      <td>142057</td>\n",
              "      <td>Outside Sales Representative @ CHI Payment Sys...</td>\n",
              "      <td>Outside Sales Representative</td>\n",
              "      <td>CHI Payment Systems</td>\n",
              "      <td>NaN</td>\n",
              "      <td>Full-Time/Part-Time</td>\n",
              "      <td>If you&amp;rsquo;re energetic, motivated, hardwork...</td>\n",
              "    </tr>\n",
              "  </tbody>\n",
              "</table>\n",
              "</div>"
            ],
            "text/plain": [
              "      Job.ID  ...                                    Job.Description\n",
              "3425  142044  ...  Under the direction of the Clinical Coordinato...\n",
              "3433  142054  ...  If you&rsquo;re energetic, motivated, hardwork...\n",
              "3434  142055  ...  If you&rsquo;re energetic, motivated, hardwork...\n",
              "3435  142056  ...  If you&rsquo;re energetic, motivated, hardwork...\n",
              "3436  142057  ...  If you&rsquo;re energetic, motivated, hardwork...\n",
              "\n",
              "[5 rows x 7 columns]"
            ]
          },
          "metadata": {
            "tags": []
          },
          "execution_count": 54
        }
      ]
    },
    {
      "cell_type": "code",
      "metadata": {
        "colab": {
          "base_uri": "https://localhost:8080/"
        },
        "id": "3VlHgZbzeulw",
        "outputId": "c09b50b8-19f6-48ca-a697-3fefe3599e04"
      },
      "source": [
        "# Grouping by Company to extract company names and searching for their location on the internet\n",
        "city_NaN.groupby(['Company'])['City'].count()"
      ],
      "execution_count": 55,
      "outputs": [
        {
          "output_type": "execute_result",
          "data": {
            "text/plain": [
              "Company\n",
              "Academic Year In America                0\n",
              "CBS Healthcare Services and Staffing    0\n",
              "CHI Payment Systems                     0\n",
              "Driveline Retail                        0\n",
              "Educational Testing Services            0\n",
              "Genesis Health System                   0\n",
              "Genesis Health Systems                  0\n",
              "Home Instead Senior Care                0\n",
              "St. Francis Hospital                    0\n",
              "Volvo Group                             0\n",
              "Name: City, dtype: int64"
            ]
          },
          "metadata": {
            "tags": []
          },
          "execution_count": 55
        }
      ]
    },
    {
      "cell_type": "code",
      "metadata": {
        "id": "8uh5OVyXe9Et"
      },
      "source": [
        "# Replacing Genesis Health Systems company name with Genesis Health System as they are the same company\n",
        "jobs_df['Company'] = jobs_df['Company'].replace(['Genesis Health Systems'], 'Genesis Health System')"
      ],
      "execution_count": 56,
      "outputs": []
    },
    {
      "cell_type": "code",
      "metadata": {
        "id": "PE9qqhVBfA4N"
      },
      "source": [
        "# Replacing NaN of values of the City with the companies' headquarters location \n",
        "jobs_df.loc[jobs_df.Company == 'Academic Year In America', 'City'] = 'Stamford'\n",
        "jobs_df.loc[jobs_df.Company == 'CBS Healthcare Services and Staffing ', 'City'] = 'Urbandale'\n",
        "jobs_df.loc[jobs_df.Company == 'CHI Payment Systems', 'City'] = 'Illinois'\n",
        "jobs_df.loc[jobs_df.Company == 'Driveline Retail', 'City'] = 'Coppell'\n",
        "jobs_df.loc[jobs_df.Company == 'Educational Testing Services', 'City'] = 'New Jersey'\n",
        "jobs_df.loc[jobs_df.Company == 'Genesis Health System', 'City'] = 'Davennport'\n",
        "jobs_df.loc[jobs_df.Company == 'Home Instead Senior Care', 'City'] = 'Nebraska'\n",
        "jobs_df.loc[jobs_df.Company == 'St. Francis Hospital', 'City'] = 'New York'\n",
        "jobs_df.loc[jobs_df.Company == 'Volvo Group', 'City'] = 'Washington'\n",
        "jobs_df.loc[jobs_df.Company == 'CBS Healthcare Services and Staffing', 'City'] = 'Urbandale'"
      ],
      "execution_count": 57,
      "outputs": []
    },
    {
      "cell_type": "code",
      "metadata": {
        "colab": {
          "base_uri": "https://localhost:8080/"
        },
        "id": "VgXX4UWafEwT",
        "outputId": "03440b0b-9261-46fe-9640-d395431c10a0"
      },
      "source": [
        "jobs_df.isnull().sum()"
      ],
      "execution_count": 58,
      "outputs": [
        {
          "output_type": "execute_result",
          "data": {
            "text/plain": [
              "Job.ID                0\n",
              "Title                 0\n",
              "Position              0\n",
              "Company            2271\n",
              "City                  0\n",
              "Employment.Type      10\n",
              "Job.Description      56\n",
              "dtype: int64"
            ]
          },
          "metadata": {
            "tags": []
          },
          "execution_count": 58
        }
      ]
    },
    {
      "cell_type": "code",
      "metadata": {
        "colab": {
          "base_uri": "https://localhost:8080/"
        },
        "id": "0Ml5O_P7fKBP",
        "outputId": "9163fc18-9fc6-4400-8db5-9f081ac30fa0"
      },
      "source": [
        "jobs_df['Employment.Type'].unique()"
      ],
      "execution_count": 59,
      "outputs": [
        {
          "output_type": "execute_result",
          "data": {
            "text/plain": [
              "array(['Part-Time', 'Full-Time/Part-Time', 'Seasonal/Temp', 'Per Diem',\n",
              "       'Intern', nan, 'Full-Time', 'Contract', 'Temporary/seasonal'],\n",
              "      dtype=object)"
            ]
          },
          "metadata": {
            "tags": []
          },
          "execution_count": 59
        }
      ]
    },
    {
      "cell_type": "code",
      "metadata": {
        "id": "dl7kZ_nFfNHM",
        "colab": {
          "base_uri": "https://localhost:8080/"
        },
        "outputId": "04565f4d-7107-463e-84dc-bc7bd26cf508"
      },
      "source": [
        "# As in the unique Employment Types 'Full-Time/Part-Time' exists, it shows ambiguity, which is as inadequate as \n",
        "# NaN values, However, it is a value, nonetheless. Thus, replacing the NaN in 'Employment.Type' as Full-Time/Part-Time.  \n",
        "jobs_df['Employment.Type']=jobs_df['Employment.Type'].fillna('Full-Time/Part-Time')\n",
        "jobs_df.groupby(['Employment.Type'])['Company'].count()"
      ],
      "execution_count": 60,
      "outputs": [
        {
          "output_type": "execute_result",
          "data": {
            "text/plain": [
              "Employment.Type\n",
              "Contract                  14\n",
              "Full-Time                 37\n",
              "Full-Time/Part-Time    16771\n",
              "Intern                   904\n",
              "Part-Time              32188\n",
              "Per Diem                4514\n",
              "Seasonal/Temp          27390\n",
              "Temporary/seasonal         1\n",
              "Name: Company, dtype: int64"
            ]
          },
          "metadata": {
            "tags": []
          },
          "execution_count": 60
        }
      ]
    },
    {
      "cell_type": "code",
      "metadata": {
        "colab": {
          "base_uri": "https://localhost:8080/",
          "height": 272
        },
        "id": "KODR-GlHfako",
        "outputId": "2b7fd0fa-1aad-49e0-94c9-949de19a42a8"
      },
      "source": [
        "jobs_df[13:18]"
      ],
      "execution_count": 61,
      "outputs": [
        {
          "output_type": "execute_result",
          "data": {
            "text/html": [
              "<div>\n",
              "<style scoped>\n",
              "    .dataframe tbody tr th:only-of-type {\n",
              "        vertical-align: middle;\n",
              "    }\n",
              "\n",
              "    .dataframe tbody tr th {\n",
              "        vertical-align: top;\n",
              "    }\n",
              "\n",
              "    .dataframe thead th {\n",
              "        text-align: right;\n",
              "    }\n",
              "</style>\n",
              "<table border=\"1\" class=\"dataframe\">\n",
              "  <thead>\n",
              "    <tr style=\"text-align: right;\">\n",
              "      <th></th>\n",
              "      <th>Job.ID</th>\n",
              "      <th>Title</th>\n",
              "      <th>Position</th>\n",
              "      <th>Company</th>\n",
              "      <th>City</th>\n",
              "      <th>Employment.Type</th>\n",
              "      <th>Job.Description</th>\n",
              "    </tr>\n",
              "  </thead>\n",
              "  <tbody>\n",
              "    <tr>\n",
              "      <th>13</th>\n",
              "      <td>134278</td>\n",
              "      <td>Child Psychotherapist @ CATCH, Inc.</td>\n",
              "      <td>Child Psychotherapist</td>\n",
              "      <td>CATCH, Inc.</td>\n",
              "      <td>Philadelphia</td>\n",
              "      <td>Full-Time/Part-Time</td>\n",
              "      <td>&amp;nbsp;\\r\\n\\r\\n\\r\\n    \\r\\n    Complete\\r\\n    ...</td>\n",
              "    </tr>\n",
              "    <tr>\n",
              "      <th>14</th>\n",
              "      <td>134279</td>\n",
              "      <td>Part Time Clerks Needed @ Kroger - Louisville</td>\n",
              "      <td>Part Time Clerks Needed</td>\n",
              "      <td>Kroger - Louisville</td>\n",
              "      <td>Louisville</td>\n",
              "      <td>Part-Time</td>\n",
              "      <td>Exciting Job Opportunities Await YOU at KROGER...</td>\n",
              "    </tr>\n",
              "    <tr>\n",
              "      <th>15</th>\n",
              "      <td>134280</td>\n",
              "      <td>Hiring Kitchen Positions - Experienced Line Co...</td>\n",
              "      <td>Hiring Kitchen Positions - Experienced Line Cooks</td>\n",
              "      <td>LongHorn Steakhouse</td>\n",
              "      <td>Southern Pines</td>\n",
              "      <td>Full-Time/Part-Time</td>\n",
              "      <td>Steer YOUR Success\\r\\n\\r\\nAt LongHorn, team me...</td>\n",
              "    </tr>\n",
              "    <tr>\n",
              "      <th>16</th>\n",
              "      <td>134281</td>\n",
              "      <td>HR Administrator @ New York Community Bank</td>\n",
              "      <td>HR Administrator</td>\n",
              "      <td>New York Community Bank</td>\n",
              "      <td>Elizabeth</td>\n",
              "      <td>Part-Time</td>\n",
              "      <td>JOB SUMMARY Provides administrative support fo...</td>\n",
              "    </tr>\n",
              "    <tr>\n",
              "      <th>17</th>\n",
              "      <td>134282</td>\n",
              "      <td>Retail Gift Registry Advisor, Full Time/Part T...</td>\n",
              "      <td>Retail Gift Registry Advisor, Full Time/Part T...</td>\n",
              "      <td>Macy's</td>\n",
              "      <td>Dayton</td>\n",
              "      <td>Full-Time/Part-Time</td>\n",
              "      <td>Job Overview:\\r\\n\\r\\nAs a Gift Registry Adviso...</td>\n",
              "    </tr>\n",
              "  </tbody>\n",
              "</table>\n",
              "</div>"
            ],
            "text/plain": [
              "    Job.ID  ...                                    Job.Description\n",
              "13  134278  ...  &nbsp;\\r\\n\\r\\n\\r\\n    \\r\\n    Complete\\r\\n    ...\n",
              "14  134279  ...  Exciting Job Opportunities Await YOU at KROGER...\n",
              "15  134280  ...  Steer YOUR Success\\r\\n\\r\\nAt LongHorn, team me...\n",
              "16  134281  ...  JOB SUMMARY Provides administrative support fo...\n",
              "17  134282  ...  Job Overview:\\r\\n\\r\\nAs a Gift Registry Adviso...\n",
              "\n",
              "[5 rows x 7 columns]"
            ]
          },
          "metadata": {
            "tags": []
          },
          "execution_count": 61
        }
      ]
    },
    {
      "cell_type": "code",
      "metadata": {
        "colab": {
          "base_uri": "https://localhost:8080/"
        },
        "id": "651Y688EftIx",
        "outputId": "567b493b-ef42-4657-d55e-ab518213f0c9"
      },
      "source": [
        "# Replacing NaN value company names with empty space\n",
        "jobs_df['Company'] = jobs_df['Company'].fillna(' ')\n",
        "\n",
        "# Replacing NaN of Description column to empty space\n",
        "jobs_df['Job.Description'] = jobs_df['Job.Description'].fillna(' ')\n",
        "\n",
        "# Merging 'Position','Company','City','Employment.Type','Job.Description',\n",
        "# and 'Title' columns and putting them into a new column Text\n",
        "jobs_df['text'] = jobs_df[['Position','Company','City','Employment.Type','Job.Description',\n",
        "       'Title']].apply(lambda x: ' '.join(x), axis = 1)\n",
        "\n",
        "#New Dataset with three columns 'Job.ID', 'text', and 'Title'.\n",
        "jobs_df_Merged = jobs_df[['Job.ID','text','Title']]\n",
        "\n",
        "jobs_df_Merged.isnull().sum()"
      ],
      "execution_count": 62,
      "outputs": [
        {
          "output_type": "execute_result",
          "data": {
            "text/plain": [
              "Job.ID    0\n",
              "text      0\n",
              "Title     0\n",
              "dtype: int64"
            ]
          },
          "metadata": {
            "tags": []
          },
          "execution_count": 62
        }
      ]
    },
    {
      "cell_type": "code",
      "metadata": {
        "colab": {
          "base_uri": "https://localhost:8080/"
        },
        "id": "xQpb5l3UgDUB",
        "outputId": "145ab404-d766-454e-fa98-3814f97dd224"
      },
      "source": [
        "jobs_df_Merged.shape"
      ],
      "execution_count": 63,
      "outputs": [
        {
          "output_type": "execute_result",
          "data": {
            "text/plain": [
              "(84090, 3)"
            ]
          },
          "metadata": {
            "tags": []
          },
          "execution_count": 63
        }
      ]
    },
    {
      "cell_type": "code",
      "metadata": {
        "colab": {
          "base_uri": "https://localhost:8080/",
          "height": 204
        },
        "id": "FPa7senLgHJW",
        "outputId": "37c11627-60a5-4306-ecf9-d1bdfd5bba0f"
      },
      "source": [
        "jobs_df_Merged.head()"
      ],
      "execution_count": 64,
      "outputs": [
        {
          "output_type": "execute_result",
          "data": {
            "text/html": [
              "<div>\n",
              "<style scoped>\n",
              "    .dataframe tbody tr th:only-of-type {\n",
              "        vertical-align: middle;\n",
              "    }\n",
              "\n",
              "    .dataframe tbody tr th {\n",
              "        vertical-align: top;\n",
              "    }\n",
              "\n",
              "    .dataframe thead th {\n",
              "        text-align: right;\n",
              "    }\n",
              "</style>\n",
              "<table border=\"1\" class=\"dataframe\">\n",
              "  <thead>\n",
              "    <tr style=\"text-align: right;\">\n",
              "      <th></th>\n",
              "      <th>Job.ID</th>\n",
              "      <th>text</th>\n",
              "      <th>Title</th>\n",
              "    </tr>\n",
              "  </thead>\n",
              "  <tbody>\n",
              "    <tr>\n",
              "      <th>0</th>\n",
              "      <td>111</td>\n",
              "      <td>Server Tacolicious Palo Alto Part-Time Tacolic...</td>\n",
              "      <td>Server @ Tacolicious</td>\n",
              "    </tr>\n",
              "    <tr>\n",
              "      <th>1</th>\n",
              "      <td>113</td>\n",
              "      <td>Kitchen Staff/Chef Claude Lane San Francisco P...</td>\n",
              "      <td>Kitchen Staff/Chef @ Claude Lane</td>\n",
              "    </tr>\n",
              "    <tr>\n",
              "      <th>2</th>\n",
              "      <td>117</td>\n",
              "      <td>Bartender Machka Restaurants Corp. San Francis...</td>\n",
              "      <td>Bartender @ Machka Restaurants Corp.</td>\n",
              "    </tr>\n",
              "    <tr>\n",
              "      <th>3</th>\n",
              "      <td>121</td>\n",
              "      <td>Server Teriyaki House Brisbane Part-Time  ● Se...</td>\n",
              "      <td>Server @ Teriyaki House</td>\n",
              "    </tr>\n",
              "    <tr>\n",
              "      <th>4</th>\n",
              "      <td>127</td>\n",
              "      <td>Kitchen Staff/Chef Rosa Mexicano - Sunset Los ...</td>\n",
              "      <td>Kitchen Staff/Chef @ Rosa Mexicano - Sunset</td>\n",
              "    </tr>\n",
              "  </tbody>\n",
              "</table>\n",
              "</div>"
            ],
            "text/plain": [
              "   Job.ID  ...                                        Title\n",
              "0     111  ...                         Server @ Tacolicious\n",
              "1     113  ...             Kitchen Staff/Chef @ Claude Lane\n",
              "2     117  ...         Bartender @ Machka Restaurants Corp.\n",
              "3     121  ...                      Server @ Teriyaki House\n",
              "4     127  ...  Kitchen Staff/Chef @ Rosa Mexicano - Sunset\n",
              "\n",
              "[5 rows x 3 columns]"
            ]
          },
          "metadata": {
            "tags": []
          },
          "execution_count": 64
        }
      ]
    },
    {
      "cell_type": "markdown",
      "metadata": {
        "id": "8NQIvckYh1j5"
      },
      "source": [
        "**Preprocessing Text using NLTK libraries and creating Jobs corpus**"
      ]
    },
    {
      "cell_type": "code",
      "metadata": {
        "colab": {
          "base_uri": "https://localhost:8080/"
        },
        "id": "Lvzg0fEWhL-X",
        "outputId": "05fd5fea-0786-4bf2-a854-2aae4da00f1c"
      },
      "source": [
        "nltk.download('stopwords')\n",
        "nltk.download('punkt')\n",
        "nltk.download('wordnet')"
      ],
      "execution_count": 65,
      "outputs": [
        {
          "output_type": "stream",
          "text": [
            "[nltk_data] Downloading package stopwords to /root/nltk_data...\n",
            "[nltk_data]   Package stopwords is already up-to-date!\n",
            "[nltk_data] Downloading package punkt to /root/nltk_data...\n",
            "[nltk_data]   Package punkt is already up-to-date!\n",
            "[nltk_data] Downloading package wordnet to /root/nltk_data...\n",
            "[nltk_data]   Package wordnet is already up-to-date!\n"
          ],
          "name": "stdout"
        },
        {
          "output_type": "execute_result",
          "data": {
            "text/plain": [
              "True"
            ]
          },
          "metadata": {
            "tags": []
          },
          "execution_count": 65
        }
      ]
    },
    {
      "cell_type": "code",
      "metadata": {
        "id": "VlzsksAJgVb3"
      },
      "source": [
        "stp = stopwords.words('english')\n",
        "stp_wrds_ = set(stp)\n",
        "\n",
        "wrd_net_Lemm = WordNetLemmatizer\n",
        "\n",
        "# Function to check wheter the tokenised text still has the Stop Words or Punctuations\n",
        "def Assess_Tokenize(word):\n",
        "    return word not in stp_wrds_ and word not in list(string.punctuation) and len(word)>2\n",
        "\n",
        "# Function to Clean the Text, by removing spaces, special characters, tokenizing, and Lemmatizing\n",
        "def preprocess_text(text):\n",
        "    \n",
        "    cleared_text = []\n",
        "    cleared_text_2 = []\n",
        "    text = re.sub(\"'\", \"\",text)\n",
        "    text = re.sub(\"(\\\\d|\\\\W)+\",\" \",text) \n",
        "    text = text.replace(\"nbsp\", \"\")\n",
        "    cleared_text = [ wrd_net_Lemm.lemmatize(\"\",word, pos=\"v\") for word in word_tokenize(text.lower()) if Assess_Tokenize(word)]\n",
        "    cleared_text_2 = [word for word in cleared_text if Assess_Tokenize(word)]\n",
        "    return \" \".join(cleared_text_2)"
      ],
      "execution_count": 66,
      "outputs": []
    },
    {
      "cell_type": "code",
      "metadata": {
        "colab": {
          "base_uri": "https://localhost:8080/",
          "height": 306
        },
        "id": "tLnC3HWihSP1",
        "outputId": "f9a45f0b-a5fb-4a13-ee0b-10ac2501b4c1"
      },
      "source": [
        "# Applying the prerpcessing on the text Column    \n",
        "jobs_df_Merged['text'] = jobs_df_Merged['text'].apply(preprocess_text)\n",
        "jobs_df_Merged.head()"
      ],
      "execution_count": 67,
      "outputs": [
        {
          "output_type": "stream",
          "text": [
            "/usr/local/lib/python3.6/dist-packages/ipykernel_launcher.py:2: SettingWithCopyWarning: \n",
            "A value is trying to be set on a copy of a slice from a DataFrame.\n",
            "Try using .loc[row_indexer,col_indexer] = value instead\n",
            "\n",
            "See the caveats in the documentation: https://pandas.pydata.org/pandas-docs/stable/user_guide/indexing.html#returning-a-view-versus-a-copy\n",
            "  \n"
          ],
          "name": "stderr"
        },
        {
          "output_type": "execute_result",
          "data": {
            "text/html": [
              "<div>\n",
              "<style scoped>\n",
              "    .dataframe tbody tr th:only-of-type {\n",
              "        vertical-align: middle;\n",
              "    }\n",
              "\n",
              "    .dataframe tbody tr th {\n",
              "        vertical-align: top;\n",
              "    }\n",
              "\n",
              "    .dataframe thead th {\n",
              "        text-align: right;\n",
              "    }\n",
              "</style>\n",
              "<table border=\"1\" class=\"dataframe\">\n",
              "  <thead>\n",
              "    <tr style=\"text-align: right;\">\n",
              "      <th></th>\n",
              "      <th>Job.ID</th>\n",
              "      <th>text</th>\n",
              "      <th>Title</th>\n",
              "    </tr>\n",
              "  </thead>\n",
              "  <tbody>\n",
              "    <tr>\n",
              "      <th>0</th>\n",
              "      <td>111</td>\n",
              "      <td>server tacolicious palo alto part time tacolic...</td>\n",
              "      <td>Server @ Tacolicious</td>\n",
              "    </tr>\n",
              "    <tr>\n",
              "      <th>1</th>\n",
              "      <td>113</td>\n",
              "      <td>kitchen staff chef claude lane san francisco p...</td>\n",
              "      <td>Kitchen Staff/Chef @ Claude Lane</td>\n",
              "    </tr>\n",
              "    <tr>\n",
              "      <th>2</th>\n",
              "      <td>117</td>\n",
              "      <td>bartender machka restaurants corp san francisc...</td>\n",
              "      <td>Bartender @ Machka Restaurants Corp.</td>\n",
              "    </tr>\n",
              "    <tr>\n",
              "      <th>3</th>\n",
              "      <td>121</td>\n",
              "      <td>server teriyaki house brisbane part time serve...</td>\n",
              "      <td>Server @ Teriyaki House</td>\n",
              "    </tr>\n",
              "    <tr>\n",
              "      <th>4</th>\n",
              "      <td>127</td>\n",
              "      <td>kitchen staff chef rosa mexicano sunset los an...</td>\n",
              "      <td>Kitchen Staff/Chef @ Rosa Mexicano - Sunset</td>\n",
              "    </tr>\n",
              "  </tbody>\n",
              "</table>\n",
              "</div>"
            ],
            "text/plain": [
              "   Job.ID  ...                                        Title\n",
              "0     111  ...                         Server @ Tacolicious\n",
              "1     113  ...             Kitchen Staff/Chef @ Claude Lane\n",
              "2     117  ...         Bartender @ Machka Restaurants Corp.\n",
              "3     121  ...                      Server @ Teriyaki House\n",
              "4     127  ...  Kitchen Staff/Chef @ Rosa Mexicano - Sunset\n",
              "\n",
              "[5 rows x 3 columns]"
            ]
          },
          "metadata": {
            "tags": []
          },
          "execution_count": 67
        }
      ]
    },
    {
      "cell_type": "code",
      "metadata": {
        "colab": {
          "base_uri": "https://localhost:8080/"
        },
        "id": "iE6Vp9wTu-EA",
        "outputId": "c189a580-47e1-4795-cb1a-527623e81fb5"
      },
      "source": [
        "# Initiating TF-IDF ( Term Frequency - Inverse Document Frequency) \n",
        "TF_IDF = TfidfVectorizer()\n",
        "\n",
        "# Fitting and transforming the Text to Feature Vectors\n",
        "Text_tfidf = TF_IDF.fit_transform((jobs_df_Merged['text'])) \n",
        "Text_tfidf"
      ],
      "execution_count": 97,
      "outputs": [
        {
          "output_type": "execute_result",
          "data": {
            "text/plain": [
              "<84090x51497 sparse matrix of type '<class 'numpy.float64'>'\n",
              "\twith 8486332 stored elements in Compressed Sparse Row format>"
            ]
          },
          "metadata": {
            "tags": []
          },
          "execution_count": 97
        }
      ]
    },
    {
      "cell_type": "markdown",
      "metadata": {
        "id": "vBsFJP3TlCjC"
      },
      "source": [
        "**Reading the User details dataset and applying NLP preprocessing on the textual data**"
      ]
    },
    {
      "cell_type": "markdown",
      "metadata": {
        "id": "Re6N0DdWnujC"
      },
      "source": [
        "Preprocessing Users' Job_views dataset"
      ]
    },
    {
      "cell_type": "code",
      "metadata": {
        "colab": {
          "base_uri": "https://localhost:8080/",
          "height": 598
        },
        "id": "VUaroekvlYzz",
        "outputId": "767a7895-4dbc-43f1-e539-4c4cb675902f"
      },
      "source": [
        "# Fetching Job View DS, it contains User Job Viewing data\n",
        "jobView_df = pd.read_csv('/content/drive/MyDrive/Datasets/IndeedDatasets/Job_Views.csv')\n",
        "jobView_df.head()"
      ],
      "execution_count": 69,
      "outputs": [
        {
          "output_type": "execute_result",
          "data": {
            "text/html": [
              "<div>\n",
              "<style scoped>\n",
              "    .dataframe tbody tr th:only-of-type {\n",
              "        vertical-align: middle;\n",
              "    }\n",
              "\n",
              "    .dataframe tbody tr th {\n",
              "        vertical-align: top;\n",
              "    }\n",
              "\n",
              "    .dataframe thead th {\n",
              "        text-align: right;\n",
              "    }\n",
              "</style>\n",
              "<table border=\"1\" class=\"dataframe\">\n",
              "  <thead>\n",
              "    <tr style=\"text-align: right;\">\n",
              "      <th></th>\n",
              "      <th>Applicant.ID</th>\n",
              "      <th>Job.ID</th>\n",
              "      <th>Title</th>\n",
              "      <th>Position</th>\n",
              "      <th>Company</th>\n",
              "      <th>City</th>\n",
              "      <th>State.Name</th>\n",
              "      <th>State.Code</th>\n",
              "      <th>Industry</th>\n",
              "      <th>View.Start</th>\n",
              "      <th>View.End</th>\n",
              "      <th>View.Duration</th>\n",
              "      <th>Created.At</th>\n",
              "      <th>Updated.At</th>\n",
              "    </tr>\n",
              "  </thead>\n",
              "  <tbody>\n",
              "    <tr>\n",
              "      <th>0</th>\n",
              "      <td>10000</td>\n",
              "      <td>73666</td>\n",
              "      <td>Cashiers &amp; Valets Needed! @ WallyPark</td>\n",
              "      <td>Cashiers &amp; Valets Needed!</td>\n",
              "      <td>WallyPark</td>\n",
              "      <td>Newark</td>\n",
              "      <td>New Jersey</td>\n",
              "      <td>NJ</td>\n",
              "      <td>NaN</td>\n",
              "      <td>2014-12-12 20:12:35 UTC</td>\n",
              "      <td>2014-12-12 20:31:24 UTC</td>\n",
              "      <td>1129.0</td>\n",
              "      <td>2014-12-12 20:12:35 UTC</td>\n",
              "      <td>2014-12-12 20:12:35 UTC</td>\n",
              "    </tr>\n",
              "    <tr>\n",
              "      <th>1</th>\n",
              "      <td>10000</td>\n",
              "      <td>96655</td>\n",
              "      <td>Macy's Seasonal Retail Fragrance Cashier  - Ga...</td>\n",
              "      <td>Macy's Seasonal Retail Fragrance Cashier  - Ga...</td>\n",
              "      <td>Macy's</td>\n",
              "      <td>Garden City</td>\n",
              "      <td>New York</td>\n",
              "      <td>NY</td>\n",
              "      <td>NaN</td>\n",
              "      <td>2014-12-12 20:08:50 UTC</td>\n",
              "      <td>2014-12-12 20:10:15 UTC</td>\n",
              "      <td>84.0</td>\n",
              "      <td>2014-12-12 20:08:50 UTC</td>\n",
              "      <td>2014-12-12 20:08:50 UTC</td>\n",
              "    </tr>\n",
              "    <tr>\n",
              "      <th>2</th>\n",
              "      <td>10001</td>\n",
              "      <td>84141</td>\n",
              "      <td>Part Time Showroom Sales / Cashier @ Grizzly I...</td>\n",
              "      <td>Part Time Showroom Sales / Cashier</td>\n",
              "      <td>Grizzly Industrial Inc.</td>\n",
              "      <td>Bellingham</td>\n",
              "      <td>Washington</td>\n",
              "      <td>WA</td>\n",
              "      <td>NaN</td>\n",
              "      <td>2014-12-12 20:12:32 UTC</td>\n",
              "      <td>2014-12-12 20:17:18 UTC</td>\n",
              "      <td>286.0</td>\n",
              "      <td>2014-12-12 20:12:32 UTC</td>\n",
              "      <td>2014-12-12 20:12:32 UTC</td>\n",
              "    </tr>\n",
              "    <tr>\n",
              "      <th>3</th>\n",
              "      <td>10002</td>\n",
              "      <td>77989</td>\n",
              "      <td>Event Specialist Part Time @ Advantage Sales &amp;...</td>\n",
              "      <td>Event Specialist Part Time</td>\n",
              "      <td>Advantage Sales &amp; Marketing</td>\n",
              "      <td>Simpsonville</td>\n",
              "      <td>South Carolina</td>\n",
              "      <td>SC</td>\n",
              "      <td>NaN</td>\n",
              "      <td>2014-12-12 20:39:23 UTC</td>\n",
              "      <td>2014-12-12 20:42:13 UTC</td>\n",
              "      <td>170.0</td>\n",
              "      <td>2014-12-12 20:39:23 UTC</td>\n",
              "      <td>2014-12-12 20:39:23 UTC</td>\n",
              "    </tr>\n",
              "    <tr>\n",
              "      <th>4</th>\n",
              "      <td>10002</td>\n",
              "      <td>69568</td>\n",
              "      <td>Bonefish - Kitchen Staff @ Bonefish Grill</td>\n",
              "      <td>Bonefish - Kitchen Staff</td>\n",
              "      <td>Bonefish Grill</td>\n",
              "      <td>Greenville</td>\n",
              "      <td>South Carolina</td>\n",
              "      <td>SC</td>\n",
              "      <td>NaN</td>\n",
              "      <td>2014-12-12 20:43:25 UTC</td>\n",
              "      <td>2014-12-12 20:43:58 UTC</td>\n",
              "      <td>33.0</td>\n",
              "      <td>2014-12-12 20:43:25 UTC</td>\n",
              "      <td>2014-12-12 20:43:25 UTC</td>\n",
              "    </tr>\n",
              "  </tbody>\n",
              "</table>\n",
              "</div>"
            ],
            "text/plain": [
              "   Applicant.ID  Job.ID  ...               Created.At               Updated.At\n",
              "0         10000   73666  ...  2014-12-12 20:12:35 UTC  2014-12-12 20:12:35 UTC\n",
              "1         10000   96655  ...  2014-12-12 20:08:50 UTC  2014-12-12 20:08:50 UTC\n",
              "2         10001   84141  ...  2014-12-12 20:12:32 UTC  2014-12-12 20:12:32 UTC\n",
              "3         10002   77989  ...  2014-12-12 20:39:23 UTC  2014-12-12 20:39:23 UTC\n",
              "4         10002   69568  ...  2014-12-12 20:43:25 UTC  2014-12-12 20:43:25 UTC\n",
              "\n",
              "[5 rows x 14 columns]"
            ]
          },
          "metadata": {
            "tags": []
          },
          "execution_count": 69
        }
      ]
    },
    {
      "cell_type": "code",
      "metadata": {
        "colab": {
          "base_uri": "https://localhost:8080/"
        },
        "id": "25bC1zptldru",
        "outputId": "1de4eed9-132d-4f41-ab3b-569f39d5b0f6"
      },
      "source": [
        "# Only Going to use 'Applicant.ID', 'Position', 'Company', and 'City' variables\n",
        "jobView_df = jobView_df[['Applicant.ID', 'Job.ID', 'Position', 'Company','City']]\n",
        "jobView_df.isnull().sum()"
      ],
      "execution_count": 70,
      "outputs": [
        {
          "output_type": "execute_result",
          "data": {
            "text/plain": [
              "Applicant.ID      0\n",
              "Job.ID            0\n",
              "Position          0\n",
              "Company         580\n",
              "City              0\n",
              "dtype: int64"
            ]
          },
          "metadata": {
            "tags": []
          },
          "execution_count": 70
        }
      ]
    },
    {
      "cell_type": "code",
      "metadata": {
        "id": "QZfFS9aFljQu"
      },
      "source": [
        "# Replacing NaN value of Company with empty space\n",
        "jobView_df['Company'] = jobView_df['Company'].fillna(' ')"
      ],
      "execution_count": 71,
      "outputs": []
    },
    {
      "cell_type": "code",
      "metadata": {
        "id": "TKZFCc0rllZT"
      },
      "source": [
        "# Merging'Position','Company', and 'City' columns\n",
        "jobView_df[\"PosComCity\"] = jobView_df[['Position','Company','City']].apply(lambda x: ' '.join(x), axis = 1)"
      ],
      "execution_count": 72,
      "outputs": []
    },
    {
      "cell_type": "code",
      "metadata": {
        "colab": {
          "base_uri": "https://localhost:8080/",
          "height": 204
        },
        "id": "WnpuiD38nsSB",
        "outputId": "4c673ce6-1c12-4e6c-ee9f-ed57a8f9a262"
      },
      "source": [
        "# Cleaning \n",
        "jobView_df['PosComCity'] = jobView_df['PosComCity'].map(str).apply(preprocess_text)\n",
        "jobView_df['PosComCity'] = jobView_df['PosComCity'].str.lower()\n",
        "\n",
        "jobView_df = jobView_df[['Applicant.ID','PosComCity']]\n",
        "jobView_df.head()"
      ],
      "execution_count": 73,
      "outputs": [
        {
          "output_type": "execute_result",
          "data": {
            "text/html": [
              "<div>\n",
              "<style scoped>\n",
              "    .dataframe tbody tr th:only-of-type {\n",
              "        vertical-align: middle;\n",
              "    }\n",
              "\n",
              "    .dataframe tbody tr th {\n",
              "        vertical-align: top;\n",
              "    }\n",
              "\n",
              "    .dataframe thead th {\n",
              "        text-align: right;\n",
              "    }\n",
              "</style>\n",
              "<table border=\"1\" class=\"dataframe\">\n",
              "  <thead>\n",
              "    <tr style=\"text-align: right;\">\n",
              "      <th></th>\n",
              "      <th>Applicant.ID</th>\n",
              "      <th>PosComCity</th>\n",
              "    </tr>\n",
              "  </thead>\n",
              "  <tbody>\n",
              "    <tr>\n",
              "      <th>0</th>\n",
              "      <td>10000</td>\n",
              "      <td>cashier valet need wallypark newark</td>\n",
              "    </tr>\n",
              "    <tr>\n",
              "      <th>1</th>\n",
              "      <td>10000</td>\n",
              "      <td>macys seasonal retail fragrance cashier garden...</td>\n",
              "    </tr>\n",
              "    <tr>\n",
              "      <th>2</th>\n",
              "      <td>10001</td>\n",
              "      <td>part time showroom sales cashier grizzly indus...</td>\n",
              "    </tr>\n",
              "    <tr>\n",
              "      <th>3</th>\n",
              "      <td>10002</td>\n",
              "      <td>event specialist part time advantage sales mar...</td>\n",
              "    </tr>\n",
              "    <tr>\n",
              "      <th>4</th>\n",
              "      <td>10002</td>\n",
              "      <td>bonefish kitchen staff bonefish grill greenville</td>\n",
              "    </tr>\n",
              "  </tbody>\n",
              "</table>\n",
              "</div>"
            ],
            "text/plain": [
              "   Applicant.ID                                         PosComCity\n",
              "0         10000                cashier valet need wallypark newark\n",
              "1         10000  macys seasonal retail fragrance cashier garden...\n",
              "2         10001  part time showroom sales cashier grizzly indus...\n",
              "3         10002  event specialist part time advantage sales mar...\n",
              "4         10002   bonefish kitchen staff bonefish grill greenville"
            ]
          },
          "metadata": {
            "tags": []
          },
          "execution_count": 73
        }
      ]
    },
    {
      "cell_type": "markdown",
      "metadata": {
        "id": "prasBee0oFm5"
      },
      "source": [
        "Preprocessing Users' experience dataset\n"
      ]
    },
    {
      "cell_type": "code",
      "metadata": {
        "colab": {
          "base_uri": "https://localhost:8080/",
          "height": 428
        },
        "id": "dgKm8O3sqDZa",
        "outputId": "5c413ede-8314-4581-be62-4dd3cc9cbafb"
      },
      "source": [
        "# Fetching User Experience DS, it contains User Experience data\n",
        "Experience_DS = pd.read_csv('/content/drive/MyDrive/Datasets/IndeedDatasets/Experience.csv')\n",
        "Experience_DS.head()"
      ],
      "execution_count": 74,
      "outputs": [
        {
          "output_type": "execute_result",
          "data": {
            "text/html": [
              "<div>\n",
              "<style scoped>\n",
              "    .dataframe tbody tr th:only-of-type {\n",
              "        vertical-align: middle;\n",
              "    }\n",
              "\n",
              "    .dataframe tbody tr th {\n",
              "        vertical-align: top;\n",
              "    }\n",
              "\n",
              "    .dataframe thead th {\n",
              "        text-align: right;\n",
              "    }\n",
              "</style>\n",
              "<table border=\"1\" class=\"dataframe\">\n",
              "  <thead>\n",
              "    <tr style=\"text-align: right;\">\n",
              "      <th></th>\n",
              "      <th>Applicant.ID</th>\n",
              "      <th>Position.Name</th>\n",
              "      <th>Employer.Name</th>\n",
              "      <th>City</th>\n",
              "      <th>State.Name</th>\n",
              "      <th>State.Code</th>\n",
              "      <th>Start.Date</th>\n",
              "      <th>End.Date</th>\n",
              "      <th>Job.Description</th>\n",
              "      <th>Salary</th>\n",
              "      <th>Can.Contact.Employer</th>\n",
              "      <th>Created.At</th>\n",
              "      <th>Updated.At</th>\n",
              "    </tr>\n",
              "  </thead>\n",
              "  <tbody>\n",
              "    <tr>\n",
              "      <th>0</th>\n",
              "      <td>10001</td>\n",
              "      <td>Account Manager / Sales Administration / Quali...</td>\n",
              "      <td>Barcode Resourcing</td>\n",
              "      <td>Bellingham</td>\n",
              "      <td>Washington</td>\n",
              "      <td>WA</td>\n",
              "      <td>2012-10-15</td>\n",
              "      <td>NaN</td>\n",
              "      <td>NaN</td>\n",
              "      <td>NaN</td>\n",
              "      <td>NaN</td>\n",
              "      <td>2014-12-12 20:10:02 UTC</td>\n",
              "      <td>2014-12-12 20:10:02 UTC</td>\n",
              "    </tr>\n",
              "    <tr>\n",
              "      <th>1</th>\n",
              "      <td>10001</td>\n",
              "      <td>Electronics Technician / Item Master Controller</td>\n",
              "      <td>Ryzex Group</td>\n",
              "      <td>Bellingham</td>\n",
              "      <td>Washington</td>\n",
              "      <td>WA</td>\n",
              "      <td>2001-12-01</td>\n",
              "      <td>2012-04-01</td>\n",
              "      <td>NaN</td>\n",
              "      <td>NaN</td>\n",
              "      <td>NaN</td>\n",
              "      <td>2014-12-12 20:10:02 UTC</td>\n",
              "      <td>2014-12-12 20:10:02 UTC</td>\n",
              "    </tr>\n",
              "    <tr>\n",
              "      <th>2</th>\n",
              "      <td>10001</td>\n",
              "      <td>Machine Operator</td>\n",
              "      <td>comptec inc</td>\n",
              "      <td>Custer</td>\n",
              "      <td>Washington</td>\n",
              "      <td>WA</td>\n",
              "      <td>1997-01-01</td>\n",
              "      <td>1999-01-01</td>\n",
              "      <td>NaN</td>\n",
              "      <td>NaN</td>\n",
              "      <td>NaN</td>\n",
              "      <td>2014-12-12 20:10:02 UTC</td>\n",
              "      <td>2014-12-12 20:10:02 UTC</td>\n",
              "    </tr>\n",
              "    <tr>\n",
              "      <th>3</th>\n",
              "      <td>10003</td>\n",
              "      <td>maintenance technician</td>\n",
              "      <td>Winn residental</td>\n",
              "      <td>washington</td>\n",
              "      <td>District of Columbia</td>\n",
              "      <td>DC</td>\n",
              "      <td>NaN</td>\n",
              "      <td>NaN</td>\n",
              "      <td>Necessary maintenance for \"Make Ready\" Plumbin...</td>\n",
              "      <td>10.0</td>\n",
              "      <td>False</td>\n",
              "      <td>2014-12-12 21:27:05 UTC</td>\n",
              "      <td>2014-12-12 21:27:05 UTC</td>\n",
              "    </tr>\n",
              "    <tr>\n",
              "      <th>4</th>\n",
              "      <td>10003</td>\n",
              "      <td>Electrical Helper</td>\n",
              "      <td>michael and son services</td>\n",
              "      <td>alexandria</td>\n",
              "      <td>Virginia</td>\n",
              "      <td>VA</td>\n",
              "      <td>NaN</td>\n",
              "      <td>NaN</td>\n",
              "      <td>repair and services of electrical construction</td>\n",
              "      <td>NaN</td>\n",
              "      <td>False</td>\n",
              "      <td>2014-12-12 21:27:05 UTC</td>\n",
              "      <td>2014-12-12 21:27:05 UTC</td>\n",
              "    </tr>\n",
              "  </tbody>\n",
              "</table>\n",
              "</div>"
            ],
            "text/plain": [
              "   Applicant.ID  ...               Updated.At\n",
              "0         10001  ...  2014-12-12 20:10:02 UTC\n",
              "1         10001  ...  2014-12-12 20:10:02 UTC\n",
              "2         10001  ...  2014-12-12 20:10:02 UTC\n",
              "3         10003  ...  2014-12-12 21:27:05 UTC\n",
              "4         10003  ...  2014-12-12 21:27:05 UTC\n",
              "\n",
              "[5 rows x 13 columns]"
            ]
          },
          "metadata": {
            "tags": []
          },
          "execution_count": 74
        }
      ]
    },
    {
      "cell_type": "code",
      "metadata": {
        "colab": {
          "base_uri": "https://localhost:8080/",
          "height": 204
        },
        "id": "XEa1n_AMqV1V",
        "outputId": "dfdc63dd-641a-4d51-f326-6637ac822610"
      },
      "source": [
        "# Only taking the following columns\n",
        "Experience_DS= Experience_DS[['Applicant.ID','Position.Name']]\n",
        "\n",
        "# cleaning the text and creating a corpus\n",
        "Experience_DS['Position.Name'] = Experience_DS['Position.Name'].map(str).apply(preprocess_text)\n",
        "Experience_DS.head()"
      ],
      "execution_count": 75,
      "outputs": [
        {
          "output_type": "execute_result",
          "data": {
            "text/html": [
              "<div>\n",
              "<style scoped>\n",
              "    .dataframe tbody tr th:only-of-type {\n",
              "        vertical-align: middle;\n",
              "    }\n",
              "\n",
              "    .dataframe tbody tr th {\n",
              "        vertical-align: top;\n",
              "    }\n",
              "\n",
              "    .dataframe thead th {\n",
              "        text-align: right;\n",
              "    }\n",
              "</style>\n",
              "<table border=\"1\" class=\"dataframe\">\n",
              "  <thead>\n",
              "    <tr style=\"text-align: right;\">\n",
              "      <th></th>\n",
              "      <th>Applicant.ID</th>\n",
              "      <th>Position.Name</th>\n",
              "    </tr>\n",
              "  </thead>\n",
              "  <tbody>\n",
              "    <tr>\n",
              "      <th>0</th>\n",
              "      <td>10001</td>\n",
              "      <td>account manager sales administration quality a...</td>\n",
              "    </tr>\n",
              "    <tr>\n",
              "      <th>1</th>\n",
              "      <td>10001</td>\n",
              "      <td>electronics technician item master controller</td>\n",
              "    </tr>\n",
              "    <tr>\n",
              "      <th>2</th>\n",
              "      <td>10001</td>\n",
              "      <td>machine operator</td>\n",
              "    </tr>\n",
              "    <tr>\n",
              "      <th>3</th>\n",
              "      <td>10003</td>\n",
              "      <td>maintenance technician</td>\n",
              "    </tr>\n",
              "    <tr>\n",
              "      <th>4</th>\n",
              "      <td>10003</td>\n",
              "      <td>electrical helper</td>\n",
              "    </tr>\n",
              "  </tbody>\n",
              "</table>\n",
              "</div>"
            ],
            "text/plain": [
              "   Applicant.ID                                      Position.Name\n",
              "0         10001  account manager sales administration quality a...\n",
              "1         10001      electronics technician item master controller\n",
              "2         10001                                   machine operator\n",
              "3         10003                             maintenance technician\n",
              "4         10003                                  electrical helper"
            ]
          },
          "metadata": {
            "tags": []
          },
          "execution_count": 75
        }
      ]
    },
    {
      "cell_type": "code",
      "metadata": {
        "colab": {
          "base_uri": "https://localhost:8080/"
        },
        "id": "w5DskI_mqrmp",
        "outputId": "1cbff90c-43f3-43c0-fb8b-c658d323fb32"
      },
      "source": [
        "# Checking for null\n",
        "Experience_DS.isnull().sum()"
      ],
      "execution_count": 76,
      "outputs": [
        {
          "output_type": "execute_result",
          "data": {
            "text/plain": [
              "Applicant.ID     0\n",
              "Position.Name    0\n",
              "dtype: int64"
            ]
          },
          "metadata": {
            "tags": []
          },
          "execution_count": 76
        }
      ]
    },
    {
      "cell_type": "code",
      "metadata": {
        "colab": {
          "base_uri": "https://localhost:8080/",
          "height": 204
        },
        "id": "AG7IPHE4quew",
        "outputId": "d5094526-77cf-4fee-936f-fd7febfcad1c"
      },
      "source": [
        "# Sorting the Data by Applicant ID\n",
        "Experience_DS =  Experience_DS.sort_values(by='Applicant.ID')\n",
        "Experience_DS.head()"
      ],
      "execution_count": 77,
      "outputs": [
        {
          "output_type": "execute_result",
          "data": {
            "text/html": [
              "<div>\n",
              "<style scoped>\n",
              "    .dataframe tbody tr th:only-of-type {\n",
              "        vertical-align: middle;\n",
              "    }\n",
              "\n",
              "    .dataframe tbody tr th {\n",
              "        vertical-align: top;\n",
              "    }\n",
              "\n",
              "    .dataframe thead th {\n",
              "        text-align: right;\n",
              "    }\n",
              "</style>\n",
              "<table border=\"1\" class=\"dataframe\">\n",
              "  <thead>\n",
              "    <tr style=\"text-align: right;\">\n",
              "      <th></th>\n",
              "      <th>Applicant.ID</th>\n",
              "      <th>Position.Name</th>\n",
              "    </tr>\n",
              "  </thead>\n",
              "  <tbody>\n",
              "    <tr>\n",
              "      <th>2763</th>\n",
              "      <td>2</td>\n",
              "      <td>volunteer</td>\n",
              "    </tr>\n",
              "    <tr>\n",
              "      <th>2762</th>\n",
              "      <td>2</td>\n",
              "      <td>writer uloop blog</td>\n",
              "    </tr>\n",
              "    <tr>\n",
              "      <th>3759</th>\n",
              "      <td>3</td>\n",
              "      <td>market intern</td>\n",
              "    </tr>\n",
              "    <tr>\n",
              "      <th>3758</th>\n",
              "      <td>3</td>\n",
              "      <td>server</td>\n",
              "    </tr>\n",
              "    <tr>\n",
              "      <th>3757</th>\n",
              "      <td>3</td>\n",
              "      <td>prep cook</td>\n",
              "    </tr>\n",
              "  </tbody>\n",
              "</table>\n",
              "</div>"
            ],
            "text/plain": [
              "      Applicant.ID      Position.Name\n",
              "2763             2          volunteer\n",
              "2762             2  writer uloop blog\n",
              "3759             3      market intern\n",
              "3758             3             server\n",
              "3757             3          prep cook"
            ]
          },
          "metadata": {
            "tags": []
          },
          "execution_count": 77
        }
      ]
    },
    {
      "cell_type": "code",
      "metadata": {
        "colab": {
          "base_uri": "https://localhost:8080/",
          "height": 204
        },
        "id": "id2p3wVHrOti",
        "outputId": "256a5cf9-3562-474f-85c3-7419694c2da3"
      },
      "source": [
        "# some applicant has multiple applications for different positions, therefore, joining them\n",
        "Experience_DS = Experience_DS.groupby('Applicant.ID', sort=False)['Position.Name'].apply(' '.join).reset_index()\n",
        "Experience_DS.head()"
      ],
      "execution_count": 78,
      "outputs": [
        {
          "output_type": "execute_result",
          "data": {
            "text/html": [
              "<div>\n",
              "<style scoped>\n",
              "    .dataframe tbody tr th:only-of-type {\n",
              "        vertical-align: middle;\n",
              "    }\n",
              "\n",
              "    .dataframe tbody tr th {\n",
              "        vertical-align: top;\n",
              "    }\n",
              "\n",
              "    .dataframe thead th {\n",
              "        text-align: right;\n",
              "    }\n",
              "</style>\n",
              "<table border=\"1\" class=\"dataframe\">\n",
              "  <thead>\n",
              "    <tr style=\"text-align: right;\">\n",
              "      <th></th>\n",
              "      <th>Applicant.ID</th>\n",
              "      <th>Position.Name</th>\n",
              "    </tr>\n",
              "  </thead>\n",
              "  <tbody>\n",
              "    <tr>\n",
              "      <th>0</th>\n",
              "      <td>2</td>\n",
              "      <td>volunteer writer uloop blog</td>\n",
              "    </tr>\n",
              "    <tr>\n",
              "      <th>1</th>\n",
              "      <td>3</td>\n",
              "      <td>market intern server prep cook</td>\n",
              "    </tr>\n",
              "    <tr>\n",
              "      <th>2</th>\n",
              "      <td>6</td>\n",
              "      <td>project assistant</td>\n",
              "    </tr>\n",
              "    <tr>\n",
              "      <th>3</th>\n",
              "      <td>8</td>\n",
              "      <td>deli clerk server cashier food prep order taker</td>\n",
              "    </tr>\n",
              "    <tr>\n",
              "      <th>4</th>\n",
              "      <td>11</td>\n",
              "      <td>cashier</td>\n",
              "    </tr>\n",
              "  </tbody>\n",
              "</table>\n",
              "</div>"
            ],
            "text/plain": [
              "   Applicant.ID                                    Position.Name\n",
              "0             2                      volunteer writer uloop blog\n",
              "1             3                   market intern server prep cook\n",
              "2             6                                project assistant\n",
              "3             8  deli clerk server cashier food prep order taker\n",
              "4            11                                          cashier"
            ]
          },
          "metadata": {
            "tags": []
          },
          "execution_count": 78
        }
      ]
    },
    {
      "cell_type": "markdown",
      "metadata": {
        "id": "qCcfP_cxrxeJ"
      },
      "source": [
        "Preprocessing Users' job interests dataset"
      ]
    },
    {
      "cell_type": "code",
      "metadata": {
        "colab": {
          "base_uri": "https://localhost:8080/",
          "height": 204
        },
        "id": "ORI7mePurUWf",
        "outputId": "d30c915a-dc1f-4cc7-efdb-3e536187dff0"
      },
      "source": [
        "# Fetching User Interests DS, it contains User interests in certain postions and companies\n",
        "UserInterest_DS =  pd.read_csv('/content/drive/MyDrive/Datasets/IndeedDatasets/Positions_Of_Interest.csv', sep=',')\n",
        "UserInterest_DS = UserInterest_DS.sort_values(by='Applicant.ID')\n",
        "UserInterest_DS.head()"
      ],
      "execution_count": 79,
      "outputs": [
        {
          "output_type": "execute_result",
          "data": {
            "text/html": [
              "<div>\n",
              "<style scoped>\n",
              "    .dataframe tbody tr th:only-of-type {\n",
              "        vertical-align: middle;\n",
              "    }\n",
              "\n",
              "    .dataframe tbody tr th {\n",
              "        vertical-align: top;\n",
              "    }\n",
              "\n",
              "    .dataframe thead th {\n",
              "        text-align: right;\n",
              "    }\n",
              "</style>\n",
              "<table border=\"1\" class=\"dataframe\">\n",
              "  <thead>\n",
              "    <tr style=\"text-align: right;\">\n",
              "      <th></th>\n",
              "      <th>Applicant.ID</th>\n",
              "      <th>Position.Of.Interest</th>\n",
              "      <th>Created.At</th>\n",
              "      <th>Updated.At</th>\n",
              "    </tr>\n",
              "  </thead>\n",
              "  <tbody>\n",
              "    <tr>\n",
              "      <th>6437</th>\n",
              "      <td>96</td>\n",
              "      <td>Server</td>\n",
              "      <td>2014-08-14 15:56:42 UTC</td>\n",
              "      <td>2015-02-26 20:35:12 UTC</td>\n",
              "    </tr>\n",
              "    <tr>\n",
              "      <th>1156</th>\n",
              "      <td>153</td>\n",
              "      <td>Barista</td>\n",
              "      <td>2014-08-14 15:56:43 UTC</td>\n",
              "      <td>2015-02-18 02:35:06 UTC</td>\n",
              "    </tr>\n",
              "    <tr>\n",
              "      <th>1155</th>\n",
              "      <td>153</td>\n",
              "      <td>Host</td>\n",
              "      <td>2014-08-14 15:56:42 UTC</td>\n",
              "      <td>2015-02-26 20:35:12 UTC</td>\n",
              "    </tr>\n",
              "    <tr>\n",
              "      <th>1154</th>\n",
              "      <td>153</td>\n",
              "      <td>Server</td>\n",
              "      <td>2014-08-14 15:56:42 UTC</td>\n",
              "      <td>2015-02-26 20:35:12 UTC</td>\n",
              "    </tr>\n",
              "    <tr>\n",
              "      <th>1158</th>\n",
              "      <td>153</td>\n",
              "      <td>Sales Rep</td>\n",
              "      <td>2014-08-14 15:56:47 UTC</td>\n",
              "      <td>2015-03-02 02:13:08 UTC</td>\n",
              "    </tr>\n",
              "  </tbody>\n",
              "</table>\n",
              "</div>"
            ],
            "text/plain": [
              "      Applicant.ID  ...               Updated.At\n",
              "6437            96  ...  2015-02-26 20:35:12 UTC\n",
              "1156           153  ...  2015-02-18 02:35:06 UTC\n",
              "1155           153  ...  2015-02-26 20:35:12 UTC\n",
              "1154           153  ...  2015-02-26 20:35:12 UTC\n",
              "1158           153  ...  2015-03-02 02:13:08 UTC\n",
              "\n",
              "[5 rows x 4 columns]"
            ]
          },
          "metadata": {
            "tags": []
          },
          "execution_count": 79
        }
      ]
    },
    {
      "cell_type": "code",
      "metadata": {
        "colab": {
          "base_uri": "https://localhost:8080/",
          "height": 204
        },
        "id": "Q97n5dRUrjN5",
        "outputId": "9ad2242a-3dcc-4d59-acfb-3cf81db9dc91"
      },
      "source": [
        "# Only taking the following columns\n",
        "UserInterest_DS = UserInterest_DS[['Applicant.ID','Position.Of.Interest']]\n",
        "\n",
        "# cleaning the text and creating a corpus\n",
        "UserInterest_DS['Position.Of.Interest'] = UserInterest_DS['Position.Of.Interest'].map(str).apply(preprocess_text)\n",
        "UserInterest_DS.head()"
      ],
      "execution_count": 80,
      "outputs": [
        {
          "output_type": "execute_result",
          "data": {
            "text/html": [
              "<div>\n",
              "<style scoped>\n",
              "    .dataframe tbody tr th:only-of-type {\n",
              "        vertical-align: middle;\n",
              "    }\n",
              "\n",
              "    .dataframe tbody tr th {\n",
              "        vertical-align: top;\n",
              "    }\n",
              "\n",
              "    .dataframe thead th {\n",
              "        text-align: right;\n",
              "    }\n",
              "</style>\n",
              "<table border=\"1\" class=\"dataframe\">\n",
              "  <thead>\n",
              "    <tr style=\"text-align: right;\">\n",
              "      <th></th>\n",
              "      <th>Applicant.ID</th>\n",
              "      <th>Position.Of.Interest</th>\n",
              "    </tr>\n",
              "  </thead>\n",
              "  <tbody>\n",
              "    <tr>\n",
              "      <th>6437</th>\n",
              "      <td>96</td>\n",
              "      <td>server</td>\n",
              "    </tr>\n",
              "    <tr>\n",
              "      <th>1156</th>\n",
              "      <td>153</td>\n",
              "      <td>barista</td>\n",
              "    </tr>\n",
              "    <tr>\n",
              "      <th>1155</th>\n",
              "      <td>153</td>\n",
              "      <td>host</td>\n",
              "    </tr>\n",
              "    <tr>\n",
              "      <th>1154</th>\n",
              "      <td>153</td>\n",
              "      <td>server</td>\n",
              "    </tr>\n",
              "    <tr>\n",
              "      <th>1158</th>\n",
              "      <td>153</td>\n",
              "      <td>sales rep</td>\n",
              "    </tr>\n",
              "  </tbody>\n",
              "</table>\n",
              "</div>"
            ],
            "text/plain": [
              "      Applicant.ID Position.Of.Interest\n",
              "6437            96               server\n",
              "1156           153              barista\n",
              "1155           153                 host\n",
              "1154           153               server\n",
              "1158           153            sales rep"
            ]
          },
          "metadata": {
            "tags": []
          },
          "execution_count": 80
        }
      ]
    },
    {
      "cell_type": "code",
      "metadata": {
        "colab": {
          "base_uri": "https://localhost:8080/"
        },
        "id": "hfSa2mRIr8po",
        "outputId": "f874283d-f6a7-4aea-bf67-62b3474a7ad5"
      },
      "source": [
        "# Checking for null\n",
        "UserInterest_DS.isnull().sum()"
      ],
      "execution_count": 81,
      "outputs": [
        {
          "output_type": "execute_result",
          "data": {
            "text/plain": [
              "Applicant.ID            0\n",
              "Position.Of.Interest    0\n",
              "dtype: int64"
            ]
          },
          "metadata": {
            "tags": []
          },
          "execution_count": 81
        }
      ]
    },
    {
      "cell_type": "code",
      "metadata": {
        "colab": {
          "base_uri": "https://localhost:8080/",
          "height": 204
        },
        "id": "PFVTeoj6sE2B",
        "outputId": "05362150-caf3-480b-bb7b-aadcf24996d3"
      },
      "source": [
        "# some applicant has multiple Interests for different positions, therefore, joining them\n",
        "UserInterest_DS = UserInterest_DS.groupby('Applicant.ID', sort=True)['Position.Of.Interest'].apply(' '.join).reset_index()\n",
        "UserInterest_DS.head()"
      ],
      "execution_count": 82,
      "outputs": [
        {
          "output_type": "execute_result",
          "data": {
            "text/html": [
              "<div>\n",
              "<style scoped>\n",
              "    .dataframe tbody tr th:only-of-type {\n",
              "        vertical-align: middle;\n",
              "    }\n",
              "\n",
              "    .dataframe tbody tr th {\n",
              "        vertical-align: top;\n",
              "    }\n",
              "\n",
              "    .dataframe thead th {\n",
              "        text-align: right;\n",
              "    }\n",
              "</style>\n",
              "<table border=\"1\" class=\"dataframe\">\n",
              "  <thead>\n",
              "    <tr style=\"text-align: right;\">\n",
              "      <th></th>\n",
              "      <th>Applicant.ID</th>\n",
              "      <th>Position.Of.Interest</th>\n",
              "    </tr>\n",
              "  </thead>\n",
              "  <tbody>\n",
              "    <tr>\n",
              "      <th>0</th>\n",
              "      <td>96</td>\n",
              "      <td>server</td>\n",
              "    </tr>\n",
              "    <tr>\n",
              "      <th>1</th>\n",
              "      <td>153</td>\n",
              "      <td>barista host server sales rep customer service...</td>\n",
              "    </tr>\n",
              "    <tr>\n",
              "      <th>2</th>\n",
              "      <td>256</td>\n",
              "      <td>host production area sales rep customer servic...</td>\n",
              "    </tr>\n",
              "    <tr>\n",
              "      <th>3</th>\n",
              "      <td>438</td>\n",
              "      <td>customer service rep barista host server</td>\n",
              "    </tr>\n",
              "    <tr>\n",
              "      <th>4</th>\n",
              "      <td>568</td>\n",
              "      <td>receptionist customer service rep book keeper</td>\n",
              "    </tr>\n",
              "  </tbody>\n",
              "</table>\n",
              "</div>"
            ],
            "text/plain": [
              "   Applicant.ID                               Position.Of.Interest\n",
              "0            96                                             server\n",
              "1           153  barista host server sales rep customer service...\n",
              "2           256  host production area sales rep customer servic...\n",
              "3           438           customer service rep barista host server\n",
              "4           568      receptionist customer service rep book keeper"
            ]
          },
          "metadata": {
            "tags": []
          },
          "execution_count": 82
        }
      ]
    },
    {
      "cell_type": "markdown",
      "metadata": {
        "id": "oZ-PCUSvsI9w"
      },
      "source": [
        "\n",
        "**MERGING ALL THE USER DATASETS TO FORM A SINGLE USER DF**"
      ]
    },
    {
      "cell_type": "code",
      "metadata": {
        "colab": {
          "base_uri": "https://localhost:8080/",
          "height": 204
        },
        "id": "JFw7tM9OsTEM",
        "outputId": "87fd981b-5108-4ff1-a99d-ac06e6cf26a3"
      },
      "source": [
        "view_exp = jobView_df.merge(Experience_DS, left_on='Applicant.ID', right_on='Applicant.ID', how='outer')\n",
        "view_exp = view_exp.fillna(' ')\n",
        "view_exp = view_exp.sort_values(by='Applicant.ID')\n",
        "view_exp.head()"
      ],
      "execution_count": 83,
      "outputs": [
        {
          "output_type": "execute_result",
          "data": {
            "text/html": [
              "<div>\n",
              "<style scoped>\n",
              "    .dataframe tbody tr th:only-of-type {\n",
              "        vertical-align: middle;\n",
              "    }\n",
              "\n",
              "    .dataframe tbody tr th {\n",
              "        vertical-align: top;\n",
              "    }\n",
              "\n",
              "    .dataframe thead th {\n",
              "        text-align: right;\n",
              "    }\n",
              "</style>\n",
              "<table border=\"1\" class=\"dataframe\">\n",
              "  <thead>\n",
              "    <tr style=\"text-align: right;\">\n",
              "      <th></th>\n",
              "      <th>Applicant.ID</th>\n",
              "      <th>PosComCity</th>\n",
              "      <th>Position.Name</th>\n",
              "    </tr>\n",
              "  </thead>\n",
              "  <tbody>\n",
              "    <tr>\n",
              "      <th>12370</th>\n",
              "      <td>2</td>\n",
              "      <td></td>\n",
              "      <td>volunteer writer uloop blog</td>\n",
              "    </tr>\n",
              "    <tr>\n",
              "      <th>12371</th>\n",
              "      <td>3</td>\n",
              "      <td></td>\n",
              "      <td>market intern server prep cook</td>\n",
              "    </tr>\n",
              "    <tr>\n",
              "      <th>12372</th>\n",
              "      <td>6</td>\n",
              "      <td></td>\n",
              "      <td>project assistant</td>\n",
              "    </tr>\n",
              "    <tr>\n",
              "      <th>12373</th>\n",
              "      <td>8</td>\n",
              "      <td></td>\n",
              "      <td>deli clerk server cashier food prep order taker</td>\n",
              "    </tr>\n",
              "    <tr>\n",
              "      <th>12374</th>\n",
              "      <td>11</td>\n",
              "      <td></td>\n",
              "      <td>cashier</td>\n",
              "    </tr>\n",
              "  </tbody>\n",
              "</table>\n",
              "</div>"
            ],
            "text/plain": [
              "       Applicant.ID PosComCity                                    Position.Name\n",
              "12370             2                                 volunteer writer uloop blog\n",
              "12371             3                              market intern server prep cook\n",
              "12372             6                                           project assistant\n",
              "12373             8             deli clerk server cashier food prep order taker\n",
              "12374            11                                                     cashier"
            ]
          },
          "metadata": {
            "tags": []
          },
          "execution_count": 83
        }
      ]
    },
    {
      "cell_type": "code",
      "metadata": {
        "id": "kvTxNQ0usVVz"
      },
      "source": [
        "view_exp_intrst = view_exp.merge(UserInterest_DS, left_on='Applicant.ID', right_on='Applicant.ID', how='outer')\n",
        "view_exp_intrst = view_exp_intrst.fillna(' ')\n",
        "view_exp_intrst = view_exp_intrst.sort_values(by='Applicant.ID')"
      ],
      "execution_count": null,
      "outputs": []
    },
    {
      "cell_type": "code",
      "metadata": {
        "colab": {
          "base_uri": "https://localhost:8080/",
          "height": 204
        },
        "id": "-X_p6_Ndsbwl",
        "outputId": "de83162d-e792-4a05-d125-3af4861b9b6e"
      },
      "source": [
        "view_exp_intrst[57:62]"
      ],
      "execution_count": 90,
      "outputs": [
        {
          "output_type": "execute_result",
          "data": {
            "text/html": [
              "<div>\n",
              "<style scoped>\n",
              "    .dataframe tbody tr th:only-of-type {\n",
              "        vertical-align: middle;\n",
              "    }\n",
              "\n",
              "    .dataframe tbody tr th {\n",
              "        vertical-align: top;\n",
              "    }\n",
              "\n",
              "    .dataframe thead th {\n",
              "        text-align: right;\n",
              "    }\n",
              "</style>\n",
              "<table border=\"1\" class=\"dataframe\">\n",
              "  <thead>\n",
              "    <tr style=\"text-align: right;\">\n",
              "      <th></th>\n",
              "      <th>Applicant.ID</th>\n",
              "      <th>PosComCity</th>\n",
              "      <th>Position.Name</th>\n",
              "      <th>Position.Of.Interest</th>\n",
              "    </tr>\n",
              "  </thead>\n",
              "  <tbody>\n",
              "    <tr>\n",
              "      <th>57</th>\n",
              "      <td>96</td>\n",
              "      <td>server sakae sushi burlingame</td>\n",
              "      <td>cashiet waiter receptionist cashier</td>\n",
              "      <td>server</td>\n",
              "    </tr>\n",
              "    <tr>\n",
              "      <th>58</th>\n",
              "      <td>96</td>\n",
              "      <td>server waraku san francisco</td>\n",
              "      <td>cashiet waiter receptionist cashier</td>\n",
              "      <td>server</td>\n",
              "    </tr>\n",
              "    <tr>\n",
              "      <th>59</th>\n",
              "      <td>96</td>\n",
              "      <td>kitchen staff izakaya yuzuki san francisco</td>\n",
              "      <td>cashiet waiter receptionist cashier</td>\n",
              "      <td>server</td>\n",
              "    </tr>\n",
              "    <tr>\n",
              "      <th>60</th>\n",
              "      <td>102</td>\n",
              "      <td></td>\n",
              "      <td>teachers assistant</td>\n",
              "      <td></td>\n",
              "    </tr>\n",
              "    <tr>\n",
              "      <th>61</th>\n",
              "      <td>103</td>\n",
              "      <td></td>\n",
              "      <td>sales associate waitress cashier</td>\n",
              "      <td></td>\n",
              "    </tr>\n",
              "  </tbody>\n",
              "</table>\n",
              "</div>"
            ],
            "text/plain": [
              "    Applicant.ID  ... Position.Of.Interest\n",
              "57            96  ...               server\n",
              "58            96  ...               server\n",
              "59            96  ...               server\n",
              "60           102  ...                     \n",
              "61           103  ...                     \n",
              "\n",
              "[5 rows x 4 columns]"
            ]
          },
          "metadata": {
            "tags": []
          },
          "execution_count": 90
        }
      ]
    },
    {
      "cell_type": "code",
      "metadata": {
        "colab": {
          "base_uri": "https://localhost:8080/",
          "height": 204
        },
        "id": "EJnDgnI6s8_f",
        "outputId": "168ada5f-7732-4277-abdd-58f04f280e5c"
      },
      "source": [
        "# Merge all the columns in view_exp_intrst DF\n",
        "view_exp_intrst['text'] = view_exp_intrst[['PosComCity','Position.Name','Position.Of.Interest']].apply(lambda x: ' '.join(x), axis = 1)\n",
        "\n",
        "# Final DF with two columns\n",
        "Person_DF = view_exp_intrst[['Applicant.ID','text']]\n",
        "Person_DF.head()"
      ],
      "execution_count": 91,
      "outputs": [
        {
          "output_type": "execute_result",
          "data": {
            "text/html": [
              "<div>\n",
              "<style scoped>\n",
              "    .dataframe tbody tr th:only-of-type {\n",
              "        vertical-align: middle;\n",
              "    }\n",
              "\n",
              "    .dataframe tbody tr th {\n",
              "        vertical-align: top;\n",
              "    }\n",
              "\n",
              "    .dataframe thead th {\n",
              "        text-align: right;\n",
              "    }\n",
              "</style>\n",
              "<table border=\"1\" class=\"dataframe\">\n",
              "  <thead>\n",
              "    <tr style=\"text-align: right;\">\n",
              "      <th></th>\n",
              "      <th>Applicant.ID</th>\n",
              "      <th>text</th>\n",
              "    </tr>\n",
              "  </thead>\n",
              "  <tbody>\n",
              "    <tr>\n",
              "      <th>0</th>\n",
              "      <td>2</td>\n",
              "      <td>volunteer writer uloop blog</td>\n",
              "    </tr>\n",
              "    <tr>\n",
              "      <th>1</th>\n",
              "      <td>3</td>\n",
              "      <td>market intern server prep cook</td>\n",
              "    </tr>\n",
              "    <tr>\n",
              "      <th>2</th>\n",
              "      <td>6</td>\n",
              "      <td>project assistant</td>\n",
              "    </tr>\n",
              "    <tr>\n",
              "      <th>3</th>\n",
              "      <td>8</td>\n",
              "      <td>deli clerk server cashier food prep order ta...</td>\n",
              "    </tr>\n",
              "    <tr>\n",
              "      <th>4</th>\n",
              "      <td>11</td>\n",
              "      <td>cashier</td>\n",
              "    </tr>\n",
              "  </tbody>\n",
              "</table>\n",
              "</div>"
            ],
            "text/plain": [
              "   Applicant.ID                                               text\n",
              "0             2                      volunteer writer uloop blog  \n",
              "1             3                   market intern server prep cook  \n",
              "2             6                                project assistant  \n",
              "3             8    deli clerk server cashier food prep order ta...\n",
              "4            11                                          cashier  "
            ]
          },
          "metadata": {
            "tags": []
          },
          "execution_count": 91
        }
      ]
    },
    {
      "cell_type": "code",
      "metadata": {
        "colab": {
          "base_uri": "https://localhost:8080/",
          "height": 306
        },
        "id": "_V6voKk0tCo-",
        "outputId": "12dcb54e-010b-40a1-d9ec-f748cdacb334"
      },
      "source": [
        "# cleaning the text and creating a corpus\n",
        "Person_DF['text'] = Person_DF['text'].apply(preprocess_text)\n",
        "Person_DF.head()"
      ],
      "execution_count": 92,
      "outputs": [
        {
          "output_type": "stream",
          "text": [
            "/usr/local/lib/python3.6/dist-packages/ipykernel_launcher.py:2: SettingWithCopyWarning: \n",
            "A value is trying to be set on a copy of a slice from a DataFrame.\n",
            "Try using .loc[row_indexer,col_indexer] = value instead\n",
            "\n",
            "See the caveats in the documentation: https://pandas.pydata.org/pandas-docs/stable/user_guide/indexing.html#returning-a-view-versus-a-copy\n",
            "  \n"
          ],
          "name": "stderr"
        },
        {
          "output_type": "execute_result",
          "data": {
            "text/html": [
              "<div>\n",
              "<style scoped>\n",
              "    .dataframe tbody tr th:only-of-type {\n",
              "        vertical-align: middle;\n",
              "    }\n",
              "\n",
              "    .dataframe tbody tr th {\n",
              "        vertical-align: top;\n",
              "    }\n",
              "\n",
              "    .dataframe thead th {\n",
              "        text-align: right;\n",
              "    }\n",
              "</style>\n",
              "<table border=\"1\" class=\"dataframe\">\n",
              "  <thead>\n",
              "    <tr style=\"text-align: right;\">\n",
              "      <th></th>\n",
              "      <th>Applicant.ID</th>\n",
              "      <th>text</th>\n",
              "    </tr>\n",
              "  </thead>\n",
              "  <tbody>\n",
              "    <tr>\n",
              "      <th>0</th>\n",
              "      <td>2</td>\n",
              "      <td>volunteer writer uloop blog</td>\n",
              "    </tr>\n",
              "    <tr>\n",
              "      <th>1</th>\n",
              "      <td>3</td>\n",
              "      <td>market intern server prep cook</td>\n",
              "    </tr>\n",
              "    <tr>\n",
              "      <th>2</th>\n",
              "      <td>6</td>\n",
              "      <td>project assistant</td>\n",
              "    </tr>\n",
              "    <tr>\n",
              "      <th>3</th>\n",
              "      <td>8</td>\n",
              "      <td>deli clerk server cashier food prep order taker</td>\n",
              "    </tr>\n",
              "    <tr>\n",
              "      <th>4</th>\n",
              "      <td>11</td>\n",
              "      <td>cashier</td>\n",
              "    </tr>\n",
              "  </tbody>\n",
              "</table>\n",
              "</div>"
            ],
            "text/plain": [
              "   Applicant.ID                                             text\n",
              "0             2                      volunteer writer uloop blog\n",
              "1             3                   market intern server prep cook\n",
              "2             6                                project assistant\n",
              "3             8  deli clerk server cashier food prep order taker\n",
              "4            11                                          cashier"
            ]
          },
          "metadata": {
            "tags": []
          },
          "execution_count": 92
        }
      ]
    },
    {
      "cell_type": "code",
      "metadata": {
        "id": "giVv7zp5tTje"
      },
      "source": [
        "applicant_id = 326 #applicant id for whom we are going to generate recommendations"
      ],
      "execution_count": 94,
      "outputs": []
    },
    {
      "cell_type": "code",
      "metadata": {
        "colab": {
          "base_uri": "https://localhost:8080/",
          "height": 80
        },
        "id": "d3grgExytthU",
        "outputId": "f0afd2ac-c421-4f52-866c-43698aa94a10"
      },
      "source": [
        "Person_DF.columns = ['Applicant_ID','text']\n",
        "the_applicant = Person_DF.loc[Person_DF.Applicant_ID == applicant_id]\n",
        "the_applicant"
      ],
      "execution_count": 95,
      "outputs": [
        {
          "output_type": "execute_result",
          "data": {
            "text/html": [
              "<div>\n",
              "<style scoped>\n",
              "    .dataframe tbody tr th:only-of-type {\n",
              "        vertical-align: middle;\n",
              "    }\n",
              "\n",
              "    .dataframe tbody tr th {\n",
              "        vertical-align: top;\n",
              "    }\n",
              "\n",
              "    .dataframe thead th {\n",
              "        text-align: right;\n",
              "    }\n",
              "</style>\n",
              "<table border=\"1\" class=\"dataframe\">\n",
              "  <thead>\n",
              "    <tr style=\"text-align: right;\">\n",
              "      <th></th>\n",
              "      <th>Applicant_ID</th>\n",
              "      <th>text</th>\n",
              "    </tr>\n",
              "  </thead>\n",
              "  <tbody>\n",
              "    <tr>\n",
              "      <th>186</th>\n",
              "      <td>326</td>\n",
              "      <td>java developer</td>\n",
              "    </tr>\n",
              "  </tbody>\n",
              "</table>\n",
              "</div>"
            ],
            "text/plain": [
              "     Applicant_ID            text\n",
              "186           326  java developer"
            ]
          },
          "metadata": {
            "tags": []
          },
          "execution_count": 95
        }
      ]
    },
    {
      "cell_type": "markdown",
      "metadata": {
        "id": "p8Sl2_qqvljO"
      },
      "source": [
        "Feature Extraction on User dataset"
      ]
    },
    {
      "cell_type": "code",
      "metadata": {
        "id": "67OUi0D-vhv4"
      },
      "source": [
        "# Vectorizing using TF-IDF\n",
        "applicant_tfidf = TF_IDF.transform(the_applicant['text'])"
      ],
      "execution_count": 98,
      "outputs": []
    },
    {
      "cell_type": "markdown",
      "metadata": {
        "id": "u6_r4Tmqv7ir"
      },
      "source": [
        "**Recommendations generated Using Cosine Similarity**"
      ]
    },
    {
      "cell_type": "code",
      "metadata": {
        "colab": {
          "base_uri": "https://localhost:8080/",
          "height": 669
        },
        "id": "hZ8qBV62uGDL",
        "outputId": "91c737b0-8376-4aa4-a0a8-0fed1497cda0"
      },
      "source": [
        "tfidf_cos_sim = map(lambda i: cosine_similarity(applicant_tfidf, i), Text_tfidf)\n",
        "\n",
        "out = list(tfidf_cos_sim)\n",
        "\n",
        "# Function to fetch Primary N Recommendations\n",
        "def Recommendation(prim, merged_job, acc):\n",
        "  recom = pd.DataFrame(columns = ['Applicant_ID', 'Job_ID',  'Title', 'relevency_score'])\n",
        "  seq = 0\n",
        "  for i in prim:\n",
        "      recom.at[seq, 'Applicant_ID'] = applicant_id\n",
        "      recom.at[seq, 'Job_ID'] = merged_job['Job.ID'][i]\n",
        "      recom.at[seq, 'Title'] = merged_job['Title'][i]\n",
        "      recom.at[seq, 'relevency_score'] =  acc[seq]\n",
        "      seq += 1\n",
        "  return recom\n",
        "\n",
        "prim = sorted(range(len(out)), key=lambda x: out[x], reverse=True)[:20]\n",
        "scr_list = [out[i][0][0] for i in prim]\n",
        "\n",
        "# RECOMMENDATIONS GENRATED BY EMPLOYING COSINE SIMILARITY\n",
        "CS = Recommendation(prim, jobs_df_Merged, scr_list)\n",
        "CS"
      ],
      "execution_count": 99,
      "outputs": [
        {
          "output_type": "execute_result",
          "data": {
            "text/html": [
              "<div>\n",
              "<style scoped>\n",
              "    .dataframe tbody tr th:only-of-type {\n",
              "        vertical-align: middle;\n",
              "    }\n",
              "\n",
              "    .dataframe tbody tr th {\n",
              "        vertical-align: top;\n",
              "    }\n",
              "\n",
              "    .dataframe thead th {\n",
              "        text-align: right;\n",
              "    }\n",
              "</style>\n",
              "<table border=\"1\" class=\"dataframe\">\n",
              "  <thead>\n",
              "    <tr style=\"text-align: right;\">\n",
              "      <th></th>\n",
              "      <th>Applicant_ID</th>\n",
              "      <th>Job_ID</th>\n",
              "      <th>Title</th>\n",
              "      <th>relevency_score</th>\n",
              "    </tr>\n",
              "  </thead>\n",
              "  <tbody>\n",
              "    <tr>\n",
              "      <th>0</th>\n",
              "      <td>326</td>\n",
              "      <td>303112</td>\n",
              "      <td>Java Developer @ TransHire</td>\n",
              "      <td>0.750065</td>\n",
              "    </tr>\n",
              "    <tr>\n",
              "      <th>1</th>\n",
              "      <td>326</td>\n",
              "      <td>294684</td>\n",
              "      <td>Java Developer @ Kavaliro</td>\n",
              "      <td>0.739756</td>\n",
              "    </tr>\n",
              "    <tr>\n",
              "      <th>2</th>\n",
              "      <td>326</td>\n",
              "      <td>269922</td>\n",
              "      <td>Entry Level Java Developer / Jr. Java Develope...</td>\n",
              "      <td>0.73683</td>\n",
              "    </tr>\n",
              "    <tr>\n",
              "      <th>3</th>\n",
              "      <td>326</td>\n",
              "      <td>141831</td>\n",
              "      <td>Lead Java/J2EE Developer - Contract to Hire @ ...</td>\n",
              "      <td>0.670751</td>\n",
              "    </tr>\n",
              "    <tr>\n",
              "      <th>4</th>\n",
              "      <td>326</td>\n",
              "      <td>270171</td>\n",
              "      <td>Senior Java Developer - Contract to Hire - Gre...</td>\n",
              "      <td>0.644073</td>\n",
              "    </tr>\n",
              "    <tr>\n",
              "      <th>5</th>\n",
              "      <td>326</td>\n",
              "      <td>305264</td>\n",
              "      <td>Sr. Java Developer @ Paladin Consulting Inc</td>\n",
              "      <td>0.624724</td>\n",
              "    </tr>\n",
              "    <tr>\n",
              "      <th>6</th>\n",
              "      <td>326</td>\n",
              "      <td>309945</td>\n",
              "      <td>Java Software Engineer @ iTech Solutions, Inc.</td>\n",
              "      <td>0.591391</td>\n",
              "    </tr>\n",
              "    <tr>\n",
              "      <th>7</th>\n",
              "      <td>326</td>\n",
              "      <td>245753</td>\n",
              "      <td>Java Administrator @ ConsultNet</td>\n",
              "      <td>0.530084</td>\n",
              "    </tr>\n",
              "    <tr>\n",
              "      <th>8</th>\n",
              "      <td>326</td>\n",
              "      <td>146640</td>\n",
              "      <td>Jr. Java Developer @ Paladin Consulting Inc</td>\n",
              "      <td>0.509806</td>\n",
              "    </tr>\n",
              "    <tr>\n",
              "      <th>9</th>\n",
              "      <td>326</td>\n",
              "      <td>150882</td>\n",
              "      <td>Java Consultant - Mobile Apps Development @ Co...</td>\n",
              "      <td>0.487654</td>\n",
              "    </tr>\n",
              "    <tr>\n",
              "      <th>10</th>\n",
              "      <td>326</td>\n",
              "      <td>284085</td>\n",
              "      <td>SENIOR JAVA ENGINEER</td>\n",
              "      <td>0.463665</td>\n",
              "    </tr>\n",
              "    <tr>\n",
              "      <th>11</th>\n",
              "      <td>326</td>\n",
              "      <td>251696</td>\n",
              "      <td>Java Developer @ ConsultNet</td>\n",
              "      <td>0.414132</td>\n",
              "    </tr>\n",
              "    <tr>\n",
              "      <th>12</th>\n",
              "      <td>326</td>\n",
              "      <td>243777</td>\n",
              "      <td>Java Developer @ Mindteck</td>\n",
              "      <td>0.407213</td>\n",
              "    </tr>\n",
              "    <tr>\n",
              "      <th>13</th>\n",
              "      <td>326</td>\n",
              "      <td>302425</td>\n",
              "      <td>Software Developer @ OfficeTeam</td>\n",
              "      <td>0.400246</td>\n",
              "    </tr>\n",
              "    <tr>\n",
              "      <th>14</th>\n",
              "      <td>326</td>\n",
              "      <td>301878</td>\n",
              "      <td>Java Developer @ NWN Corporation</td>\n",
              "      <td>0.376578</td>\n",
              "    </tr>\n",
              "    <tr>\n",
              "      <th>15</th>\n",
              "      <td>326</td>\n",
              "      <td>246871</td>\n",
              "      <td>Java Developer @ Mindteck</td>\n",
              "      <td>0.375139</td>\n",
              "    </tr>\n",
              "    <tr>\n",
              "      <th>16</th>\n",
              "      <td>326</td>\n",
              "      <td>307724</td>\n",
              "      <td>Web Developer @ Creative Circle</td>\n",
              "      <td>0.367519</td>\n",
              "    </tr>\n",
              "    <tr>\n",
              "      <th>17</th>\n",
              "      <td>326</td>\n",
              "      <td>311213</td>\n",
              "      <td>Application UI Developer - Contract to Hire @ ...</td>\n",
              "      <td>0.362209</td>\n",
              "    </tr>\n",
              "    <tr>\n",
              "      <th>18</th>\n",
              "      <td>326</td>\n",
              "      <td>310575</td>\n",
              "      <td>Sr. Web Developer @ Creative Circle</td>\n",
              "      <td>0.354588</td>\n",
              "    </tr>\n",
              "    <tr>\n",
              "      <th>19</th>\n",
              "      <td>326</td>\n",
              "      <td>262192</td>\n",
              "      <td>Web Developer @ Creative Circle</td>\n",
              "      <td>0.351937</td>\n",
              "    </tr>\n",
              "  </tbody>\n",
              "</table>\n",
              "</div>"
            ],
            "text/plain": [
              "   Applicant_ID  ... relevency_score\n",
              "0           326  ...        0.750065\n",
              "1           326  ...        0.739756\n",
              "2           326  ...         0.73683\n",
              "3           326  ...        0.670751\n",
              "4           326  ...        0.644073\n",
              "5           326  ...        0.624724\n",
              "6           326  ...        0.591391\n",
              "7           326  ...        0.530084\n",
              "8           326  ...        0.509806\n",
              "9           326  ...        0.487654\n",
              "10          326  ...        0.463665\n",
              "11          326  ...        0.414132\n",
              "12          326  ...        0.407213\n",
              "13          326  ...        0.400246\n",
              "14          326  ...        0.376578\n",
              "15          326  ...        0.375139\n",
              "16          326  ...        0.367519\n",
              "17          326  ...        0.362209\n",
              "18          326  ...        0.354588\n",
              "19          326  ...        0.351937\n",
              "\n",
              "[20 rows x 4 columns]"
            ]
          },
          "metadata": {
            "tags": []
          },
          "execution_count": 99
        }
      ]
    },
    {
      "cell_type": "markdown",
      "metadata": {
        "id": "D6x7fCl1wGGQ"
      },
      "source": [
        "**Recommendations generated Using K Nearest Neighbors**"
      ]
    },
    {
      "cell_type": "code",
      "metadata": {
        "id": "SIlhDLP-kwev",
        "colab": {
          "base_uri": "https://localhost:8080/",
          "height": 669
        },
        "outputId": "596f267f-7b5a-4232-cc97-a9c69bae5056"
      },
      "source": [
        "# K Nearest Neighbors\n",
        "neighbors = 21\n",
        "K_NN = NearestNeighbors(neighbors, p=2)\n",
        "K_NN.fit(Text_tfidf)\n",
        "N_Ns = K_NN.kneighbors(applicant_tfidf, return_distance=True)\n",
        "\n",
        "prim = N_Ns[1][0][1:]\n",
        "rel_scr_list = N_Ns[0][0][1:]\n",
        "\n",
        "# RECOMMENDATIONS GENRATED BY EMPLOYING KNN\n",
        "KNN = Recommendation(prim, jobs_df_Merged, rel_scr_list)\n",
        "KNN"
      ],
      "execution_count": 100,
      "outputs": [
        {
          "output_type": "execute_result",
          "data": {
            "text/html": [
              "<div>\n",
              "<style scoped>\n",
              "    .dataframe tbody tr th:only-of-type {\n",
              "        vertical-align: middle;\n",
              "    }\n",
              "\n",
              "    .dataframe tbody tr th {\n",
              "        vertical-align: top;\n",
              "    }\n",
              "\n",
              "    .dataframe thead th {\n",
              "        text-align: right;\n",
              "    }\n",
              "</style>\n",
              "<table border=\"1\" class=\"dataframe\">\n",
              "  <thead>\n",
              "    <tr style=\"text-align: right;\">\n",
              "      <th></th>\n",
              "      <th>Applicant_ID</th>\n",
              "      <th>Job_ID</th>\n",
              "      <th>Title</th>\n",
              "      <th>relevency_score</th>\n",
              "    </tr>\n",
              "  </thead>\n",
              "  <tbody>\n",
              "    <tr>\n",
              "      <th>0</th>\n",
              "      <td>326</td>\n",
              "      <td>294684</td>\n",
              "      <td>Java Developer @ Kavaliro</td>\n",
              "      <td>0.721449</td>\n",
              "    </tr>\n",
              "    <tr>\n",
              "      <th>1</th>\n",
              "      <td>326</td>\n",
              "      <td>269922</td>\n",
              "      <td>Entry Level Java Developer / Jr. Java Develope...</td>\n",
              "      <td>0.725493</td>\n",
              "    </tr>\n",
              "    <tr>\n",
              "      <th>2</th>\n",
              "      <td>326</td>\n",
              "      <td>141831</td>\n",
              "      <td>Lead Java/J2EE Developer - Contract to Hire @ ...</td>\n",
              "      <td>0.811479</td>\n",
              "    </tr>\n",
              "    <tr>\n",
              "      <th>3</th>\n",
              "      <td>326</td>\n",
              "      <td>270171</td>\n",
              "      <td>Senior Java Developer - Contract to Hire - Gre...</td>\n",
              "      <td>0.843714</td>\n",
              "    </tr>\n",
              "    <tr>\n",
              "      <th>4</th>\n",
              "      <td>326</td>\n",
              "      <td>305264</td>\n",
              "      <td>Sr. Java Developer @ Paladin Consulting Inc</td>\n",
              "      <td>0.866344</td>\n",
              "    </tr>\n",
              "    <tr>\n",
              "      <th>5</th>\n",
              "      <td>326</td>\n",
              "      <td>309945</td>\n",
              "      <td>Java Software Engineer @ iTech Solutions, Inc.</td>\n",
              "      <td>0.904001</td>\n",
              "    </tr>\n",
              "    <tr>\n",
              "      <th>6</th>\n",
              "      <td>326</td>\n",
              "      <td>245753</td>\n",
              "      <td>Java Administrator @ ConsultNet</td>\n",
              "      <td>0.969449</td>\n",
              "    </tr>\n",
              "    <tr>\n",
              "      <th>7</th>\n",
              "      <td>326</td>\n",
              "      <td>146640</td>\n",
              "      <td>Jr. Java Developer @ Paladin Consulting Inc</td>\n",
              "      <td>0.990145</td>\n",
              "    </tr>\n",
              "    <tr>\n",
              "      <th>8</th>\n",
              "      <td>326</td>\n",
              "      <td>150882</td>\n",
              "      <td>Java Consultant - Mobile Apps Development @ Co...</td>\n",
              "      <td>1.01227</td>\n",
              "    </tr>\n",
              "    <tr>\n",
              "      <th>9</th>\n",
              "      <td>326</td>\n",
              "      <td>284085</td>\n",
              "      <td>SENIOR JAVA ENGINEER</td>\n",
              "      <td>1.0357</td>\n",
              "    </tr>\n",
              "    <tr>\n",
              "      <th>10</th>\n",
              "      <td>326</td>\n",
              "      <td>251696</td>\n",
              "      <td>Java Developer @ ConsultNet</td>\n",
              "      <td>1.08247</td>\n",
              "    </tr>\n",
              "    <tr>\n",
              "      <th>11</th>\n",
              "      <td>326</td>\n",
              "      <td>243777</td>\n",
              "      <td>Java Developer @ Mindteck</td>\n",
              "      <td>1.08884</td>\n",
              "    </tr>\n",
              "    <tr>\n",
              "      <th>12</th>\n",
              "      <td>326</td>\n",
              "      <td>302425</td>\n",
              "      <td>Software Developer @ OfficeTeam</td>\n",
              "      <td>1.09522</td>\n",
              "    </tr>\n",
              "    <tr>\n",
              "      <th>13</th>\n",
              "      <td>326</td>\n",
              "      <td>301878</td>\n",
              "      <td>Java Developer @ NWN Corporation</td>\n",
              "      <td>1.11662</td>\n",
              "    </tr>\n",
              "    <tr>\n",
              "      <th>14</th>\n",
              "      <td>326</td>\n",
              "      <td>246871</td>\n",
              "      <td>Java Developer @ Mindteck</td>\n",
              "      <td>1.11791</td>\n",
              "    </tr>\n",
              "    <tr>\n",
              "      <th>15</th>\n",
              "      <td>326</td>\n",
              "      <td>307724</td>\n",
              "      <td>Web Developer @ Creative Circle</td>\n",
              "      <td>1.1247</td>\n",
              "    </tr>\n",
              "    <tr>\n",
              "      <th>16</th>\n",
              "      <td>326</td>\n",
              "      <td>311213</td>\n",
              "      <td>Application UI Developer - Contract to Hire @ ...</td>\n",
              "      <td>1.12942</td>\n",
              "    </tr>\n",
              "    <tr>\n",
              "      <th>17</th>\n",
              "      <td>326</td>\n",
              "      <td>310575</td>\n",
              "      <td>Sr. Web Developer @ Creative Circle</td>\n",
              "      <td>1.13614</td>\n",
              "    </tr>\n",
              "    <tr>\n",
              "      <th>18</th>\n",
              "      <td>326</td>\n",
              "      <td>262192</td>\n",
              "      <td>Web Developer @ Creative Circle</td>\n",
              "      <td>1.13848</td>\n",
              "    </tr>\n",
              "    <tr>\n",
              "      <th>19</th>\n",
              "      <td>326</td>\n",
              "      <td>275825</td>\n",
              "      <td>Sr Application Developer or Engineer @ ConsultNet</td>\n",
              "      <td>1.14606</td>\n",
              "    </tr>\n",
              "  </tbody>\n",
              "</table>\n",
              "</div>"
            ],
            "text/plain": [
              "   Applicant_ID  ... relevency_score\n",
              "0           326  ...        0.721449\n",
              "1           326  ...        0.725493\n",
              "2           326  ...        0.811479\n",
              "3           326  ...        0.843714\n",
              "4           326  ...        0.866344\n",
              "5           326  ...        0.904001\n",
              "6           326  ...        0.969449\n",
              "7           326  ...        0.990145\n",
              "8           326  ...         1.01227\n",
              "9           326  ...          1.0357\n",
              "10          326  ...         1.08247\n",
              "11          326  ...         1.08884\n",
              "12          326  ...         1.09522\n",
              "13          326  ...         1.11662\n",
              "14          326  ...         1.11791\n",
              "15          326  ...          1.1247\n",
              "16          326  ...         1.12942\n",
              "17          326  ...         1.13614\n",
              "18          326  ...         1.13848\n",
              "19          326  ...         1.14606\n",
              "\n",
              "[20 rows x 4 columns]"
            ]
          },
          "metadata": {
            "tags": []
          },
          "execution_count": 100
        }
      ]
    }
  ]
}