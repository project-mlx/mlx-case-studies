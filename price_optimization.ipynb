{
  "nbformat": 4,
  "nbformat_minor": 0,
  "metadata": {
    "colab": {
      "name": "price_optimization",
      "provenance": [],
      "collapsed_sections": [],
      "authorship_tag": "ABX9TyO0lalPEOrWxA3Jbf89pzZp",
      "include_colab_link": true
    },
    "kernelspec": {
      "name": "python3",
      "display_name": "Python 3"
    }
  },
  "cells": [
    {
      "cell_type": "markdown",
      "metadata": {
        "id": "view-in-github",
        "colab_type": "text"
      },
      "source": [
        "<a href=\"https://colab.research.google.com/github/project-mlx/mlx-case-studies/blob/main/price_optimization.ipynb\" target=\"_parent\"><img src=\"https://colab.research.google.com/assets/colab-badge.svg\" alt=\"Open In Colab\"/></a>"
      ]
    },
    {
      "cell_type": "markdown",
      "metadata": {
        "id": "2T1oAT7o16IC"
      },
      "source": [
        "**Retail Price Optimization:** of Olist Products (dataset available on Kaggle)\n",
        "\n",
        "Below are the operations (and their progress in this notebook) we are going to perform for the optimization.\n",
        "- Sales Data Collection-----------------------------------------*DONE*\n",
        "- Products Selection For The Optimization----------*DONE*\n",
        "- EDA--------------------------------------------------------------------*WIP*\n",
        "- Feature Selection-----------------------------------------------*NA*\n",
        "- Data Modelling & Forecast--------------------------------*NA*\n",
        "- Optimization------------------------------------------------------*NA*"
      ]
    },
    {
      "cell_type": "code",
      "metadata": {
        "colab": {
          "base_uri": "https://localhost:8080/"
        },
        "id": "tlo1udsOEW3M",
        "outputId": "02e779f7-32c8-4ccc-f7e1-dcc2fbc715e6"
      },
      "source": [
        "from google.colab import drive\n",
        "drive.mount('/content/drive')"
      ],
      "execution_count": null,
      "outputs": [
        {
          "output_type": "stream",
          "text": [
            "Mounted at /content/drive\n"
          ],
          "name": "stdout"
        }
      ]
    },
    {
      "cell_type": "code",
      "metadata": {
        "id": "lN-oCjnzuCFX"
      },
      "source": [
        "import pandas as pd\n",
        "import numpy as np"
      ],
      "execution_count": null,
      "outputs": []
    },
    {
      "cell_type": "code",
      "metadata": {
        "id": "XkjNI_sUEQp-"
      },
      "source": [
        "#Reading  orders and order-items datasets from Olist\n",
        "order_df = pd.read_csv('/content/drive/MyDrive/Datasets/OlistDataset/olist_orders_dataset.csv')\n",
        "order_items_df = pd.read_csv('/content/drive/MyDrive/Datasets/OlistDataset/olist_order_items_dataset.csv')"
      ],
      "execution_count": null,
      "outputs": []
    },
    {
      "cell_type": "markdown",
      "metadata": {
        "id": "EXobDOJ6BuEA"
      },
      "source": [
        "**Working on the Order dataset**"
      ]
    },
    {
      "cell_type": "code",
      "metadata": {
        "colab": {
          "base_uri": "https://localhost:8080/",
          "height": 224
        },
        "id": "aAYIeeJfHRP6",
        "outputId": "a4a84258-9b91-44da-dec6-ad83f92e08b7"
      },
      "source": [
        "order_df.head()"
      ],
      "execution_count": null,
      "outputs": [
        {
          "output_type": "execute_result",
          "data": {
            "text/html": [
              "<div>\n",
              "<style scoped>\n",
              "    .dataframe tbody tr th:only-of-type {\n",
              "        vertical-align: middle;\n",
              "    }\n",
              "\n",
              "    .dataframe tbody tr th {\n",
              "        vertical-align: top;\n",
              "    }\n",
              "\n",
              "    .dataframe thead th {\n",
              "        text-align: right;\n",
              "    }\n",
              "</style>\n",
              "<table border=\"1\" class=\"dataframe\">\n",
              "  <thead>\n",
              "    <tr style=\"text-align: right;\">\n",
              "      <th></th>\n",
              "      <th>order_id</th>\n",
              "      <th>customer_id</th>\n",
              "      <th>order_status</th>\n",
              "      <th>order_purchase_timestamp</th>\n",
              "      <th>order_approved_at</th>\n",
              "      <th>order_delivered_carrier_date</th>\n",
              "      <th>order_delivered_customer_date</th>\n",
              "      <th>order_estimated_delivery_date</th>\n",
              "    </tr>\n",
              "  </thead>\n",
              "  <tbody>\n",
              "    <tr>\n",
              "      <th>0</th>\n",
              "      <td>e481f51cbdc54678b7cc49136f2d6af7</td>\n",
              "      <td>9ef432eb6251297304e76186b10a928d</td>\n",
              "      <td>delivered</td>\n",
              "      <td>2017-10-02 10:56:33</td>\n",
              "      <td>2017-10-02 11:07:15</td>\n",
              "      <td>2017-10-04 19:55:00</td>\n",
              "      <td>2017-10-10 21:25:13</td>\n",
              "      <td>2017-10-18 00:00:00</td>\n",
              "    </tr>\n",
              "    <tr>\n",
              "      <th>1</th>\n",
              "      <td>53cdb2fc8bc7dce0b6741e2150273451</td>\n",
              "      <td>b0830fb4747a6c6d20dea0b8c802d7ef</td>\n",
              "      <td>delivered</td>\n",
              "      <td>2018-07-24 20:41:37</td>\n",
              "      <td>2018-07-26 03:24:27</td>\n",
              "      <td>2018-07-26 14:31:00</td>\n",
              "      <td>2018-08-07 15:27:45</td>\n",
              "      <td>2018-08-13 00:00:00</td>\n",
              "    </tr>\n",
              "    <tr>\n",
              "      <th>2</th>\n",
              "      <td>47770eb9100c2d0c44946d9cf07ec65d</td>\n",
              "      <td>41ce2a54c0b03bf3443c3d931a367089</td>\n",
              "      <td>delivered</td>\n",
              "      <td>2018-08-08 08:38:49</td>\n",
              "      <td>2018-08-08 08:55:23</td>\n",
              "      <td>2018-08-08 13:50:00</td>\n",
              "      <td>2018-08-17 18:06:29</td>\n",
              "      <td>2018-09-04 00:00:00</td>\n",
              "    </tr>\n",
              "    <tr>\n",
              "      <th>3</th>\n",
              "      <td>949d5b44dbf5de918fe9c16f97b45f8a</td>\n",
              "      <td>f88197465ea7920adcdbec7375364d82</td>\n",
              "      <td>delivered</td>\n",
              "      <td>2017-11-18 19:28:06</td>\n",
              "      <td>2017-11-18 19:45:59</td>\n",
              "      <td>2017-11-22 13:39:59</td>\n",
              "      <td>2017-12-02 00:28:42</td>\n",
              "      <td>2017-12-15 00:00:00</td>\n",
              "    </tr>\n",
              "    <tr>\n",
              "      <th>4</th>\n",
              "      <td>ad21c59c0840e6cb83a9ceb5573f8159</td>\n",
              "      <td>8ab97904e6daea8866dbdbc4fb7aad2c</td>\n",
              "      <td>delivered</td>\n",
              "      <td>2018-02-13 21:18:39</td>\n",
              "      <td>2018-02-13 22:20:29</td>\n",
              "      <td>2018-02-14 19:46:34</td>\n",
              "      <td>2018-02-16 18:17:02</td>\n",
              "      <td>2018-02-26 00:00:00</td>\n",
              "    </tr>\n",
              "  </tbody>\n",
              "</table>\n",
              "</div>"
            ],
            "text/plain": [
              "                           order_id  ... order_estimated_delivery_date\n",
              "0  e481f51cbdc54678b7cc49136f2d6af7  ...           2017-10-18 00:00:00\n",
              "1  53cdb2fc8bc7dce0b6741e2150273451  ...           2018-08-13 00:00:00\n",
              "2  47770eb9100c2d0c44946d9cf07ec65d  ...           2018-09-04 00:00:00\n",
              "3  949d5b44dbf5de918fe9c16f97b45f8a  ...           2017-12-15 00:00:00\n",
              "4  ad21c59c0840e6cb83a9ceb5573f8159  ...           2018-02-26 00:00:00\n",
              "\n",
              "[5 rows x 8 columns]"
            ]
          },
          "metadata": {
            "tags": []
          },
          "execution_count": 12
        }
      ]
    },
    {
      "cell_type": "code",
      "metadata": {
        "id": "fZc94gaoJVf6"
      },
      "source": [
        "#Taking only required column for further EDA\n",
        "order_df_filt = order_df[['order_id','order_purchase_timestamp']]"
      ],
      "execution_count": null,
      "outputs": []
    },
    {
      "cell_type": "code",
      "metadata": {
        "colab": {
          "base_uri": "https://localhost:8080/"
        },
        "id": "eMzvCyVLK2TN",
        "outputId": "117ada11-111f-4a3f-e34a-44b0941f1185"
      },
      "source": [
        "order_df_filt.isna().sum()"
      ],
      "execution_count": null,
      "outputs": [
        {
          "output_type": "execute_result",
          "data": {
            "text/plain": [
              "order_id                    0\n",
              "order_purchase_timestamp    0\n",
              "dtype: int64"
            ]
          },
          "metadata": {
            "tags": []
          },
          "execution_count": 14
        }
      ]
    },
    {
      "cell_type": "code",
      "metadata": {
        "colab": {
          "base_uri": "https://localhost:8080/"
        },
        "id": "Z8fU2KOwGPtq",
        "outputId": "d0c6532e-3838-4f77-fefe-c94d64f789ae"
      },
      "source": [
        "order_df_filt.shape"
      ],
      "execution_count": null,
      "outputs": [
        {
          "output_type": "execute_result",
          "data": {
            "text/plain": [
              "(99441, 2)"
            ]
          },
          "metadata": {
            "tags": []
          },
          "execution_count": 15
        }
      ]
    },
    {
      "cell_type": "code",
      "metadata": {
        "id": "sxjwoHkLLDCi",
        "colab": {
          "base_uri": "https://localhost:8080/"
        },
        "outputId": "0ce257ad-e596-4bd1-f05a-c80db3599cac"
      },
      "source": [
        "#Converting the datetime column to pandas Date\n",
        "order_df_filt.order_purchase_timestamp = pd.to_datetime(order_df_filt.order_purchase_timestamp)\n",
        "order_df_filt['Date'] = order_df_filt.order_purchase_timestamp.dt.date"
      ],
      "execution_count": null,
      "outputs": [
        {
          "output_type": "stream",
          "text": [
            "/usr/local/lib/python3.6/dist-packages/pandas/core/generic.py:5170: SettingWithCopyWarning: \n",
            "A value is trying to be set on a copy of a slice from a DataFrame.\n",
            "Try using .loc[row_indexer,col_indexer] = value instead\n",
            "\n",
            "See the caveats in the documentation: https://pandas.pydata.org/pandas-docs/stable/user_guide/indexing.html#returning-a-view-versus-a-copy\n",
            "  self[name] = value\n",
            "/usr/local/lib/python3.6/dist-packages/ipykernel_launcher.py:3: SettingWithCopyWarning: \n",
            "A value is trying to be set on a copy of a slice from a DataFrame.\n",
            "Try using .loc[row_indexer,col_indexer] = value instead\n",
            "\n",
            "See the caveats in the documentation: https://pandas.pydata.org/pandas-docs/stable/user_guide/indexing.html#returning-a-view-versus-a-copy\n",
            "  This is separate from the ipykernel package so we can avoid doing imports until\n"
          ],
          "name": "stderr"
        }
      ]
    },
    {
      "cell_type": "markdown",
      "metadata": {
        "id": "jf7UPVtWCIWt"
      },
      "source": [
        "**Working on the Order Items dataset**"
      ]
    },
    {
      "cell_type": "code",
      "metadata": {
        "colab": {
          "base_uri": "https://localhost:8080/",
          "height": 204
        },
        "id": "8WIcnZ7VEBo2",
        "outputId": "aeb8932f-d261-49c1-f105-25c52aa19327"
      },
      "source": [
        "order_items_df.head()"
      ],
      "execution_count": null,
      "outputs": [
        {
          "output_type": "execute_result",
          "data": {
            "text/html": [
              "<div>\n",
              "<style scoped>\n",
              "    .dataframe tbody tr th:only-of-type {\n",
              "        vertical-align: middle;\n",
              "    }\n",
              "\n",
              "    .dataframe tbody tr th {\n",
              "        vertical-align: top;\n",
              "    }\n",
              "\n",
              "    .dataframe thead th {\n",
              "        text-align: right;\n",
              "    }\n",
              "</style>\n",
              "<table border=\"1\" class=\"dataframe\">\n",
              "  <thead>\n",
              "    <tr style=\"text-align: right;\">\n",
              "      <th></th>\n",
              "      <th>order_id</th>\n",
              "      <th>order_item_id</th>\n",
              "      <th>product_id</th>\n",
              "      <th>seller_id</th>\n",
              "      <th>shipping_limit_date</th>\n",
              "      <th>price</th>\n",
              "      <th>freight_value</th>\n",
              "    </tr>\n",
              "  </thead>\n",
              "  <tbody>\n",
              "    <tr>\n",
              "      <th>0</th>\n",
              "      <td>00010242fe8c5a6d1ba2dd792cb16214</td>\n",
              "      <td>1</td>\n",
              "      <td>4244733e06e7ecb4970a6e2683c13e61</td>\n",
              "      <td>48436dade18ac8b2bce089ec2a041202</td>\n",
              "      <td>2017-09-19 09:45:35</td>\n",
              "      <td>58.90</td>\n",
              "      <td>13.29</td>\n",
              "    </tr>\n",
              "    <tr>\n",
              "      <th>1</th>\n",
              "      <td>00018f77f2f0320c557190d7a144bdd3</td>\n",
              "      <td>1</td>\n",
              "      <td>e5f2d52b802189ee658865ca93d83a8f</td>\n",
              "      <td>dd7ddc04e1b6c2c614352b383efe2d36</td>\n",
              "      <td>2017-05-03 11:05:13</td>\n",
              "      <td>239.90</td>\n",
              "      <td>19.93</td>\n",
              "    </tr>\n",
              "    <tr>\n",
              "      <th>2</th>\n",
              "      <td>000229ec398224ef6ca0657da4fc703e</td>\n",
              "      <td>1</td>\n",
              "      <td>c777355d18b72b67abbeef9df44fd0fd</td>\n",
              "      <td>5b51032eddd242adc84c38acab88f23d</td>\n",
              "      <td>2018-01-18 14:48:30</td>\n",
              "      <td>199.00</td>\n",
              "      <td>17.87</td>\n",
              "    </tr>\n",
              "    <tr>\n",
              "      <th>3</th>\n",
              "      <td>00024acbcdf0a6daa1e931b038114c75</td>\n",
              "      <td>1</td>\n",
              "      <td>7634da152a4610f1595efa32f14722fc</td>\n",
              "      <td>9d7a1d34a5052409006425275ba1c2b4</td>\n",
              "      <td>2018-08-15 10:10:18</td>\n",
              "      <td>12.99</td>\n",
              "      <td>12.79</td>\n",
              "    </tr>\n",
              "    <tr>\n",
              "      <th>4</th>\n",
              "      <td>00042b26cf59d7ce69dfabb4e55b4fd9</td>\n",
              "      <td>1</td>\n",
              "      <td>ac6c3623068f30de03045865e4e10089</td>\n",
              "      <td>df560393f3a51e74553ab94004ba5c87</td>\n",
              "      <td>2017-02-13 13:57:51</td>\n",
              "      <td>199.90</td>\n",
              "      <td>18.14</td>\n",
              "    </tr>\n",
              "  </tbody>\n",
              "</table>\n",
              "</div>"
            ],
            "text/plain": [
              "                           order_id  order_item_id  ...   price freight_value\n",
              "0  00010242fe8c5a6d1ba2dd792cb16214              1  ...   58.90         13.29\n",
              "1  00018f77f2f0320c557190d7a144bdd3              1  ...  239.90         19.93\n",
              "2  000229ec398224ef6ca0657da4fc703e              1  ...  199.00         17.87\n",
              "3  00024acbcdf0a6daa1e931b038114c75              1  ...   12.99         12.79\n",
              "4  00042b26cf59d7ce69dfabb4e55b4fd9              1  ...  199.90         18.14\n",
              "\n",
              "[5 rows x 7 columns]"
            ]
          },
          "metadata": {
            "tags": []
          },
          "execution_count": 17
        }
      ]
    },
    {
      "cell_type": "code",
      "metadata": {
        "colab": {
          "base_uri": "https://localhost:8080/"
        },
        "id": "iOW2dtTST5vy",
        "outputId": "82a37689-7ebd-4457-d99d-97f1d8666ba9"
      },
      "source": [
        "order_items_df.isna().sum()"
      ],
      "execution_count": null,
      "outputs": [
        {
          "output_type": "execute_result",
          "data": {
            "text/plain": [
              "order_id               0\n",
              "order_item_id          0\n",
              "product_id             0\n",
              "seller_id              0\n",
              "shipping_limit_date    0\n",
              "price                  0\n",
              "freight_value          0\n",
              "dtype: int64"
            ]
          },
          "metadata": {
            "tags": []
          },
          "execution_count": 18
        }
      ]
    },
    {
      "cell_type": "code",
      "metadata": {
        "id": "QaSbKgq4o33P"
      },
      "source": [
        "#Joining the Order and Order Items datasets using Order ID\n",
        "sales_df = order_df_filt.join(order_items_df.set_index('order_id'), on='order_id')"
      ],
      "execution_count": null,
      "outputs": []
    },
    {
      "cell_type": "code",
      "metadata": {
        "id": "N-D6V_XXo3xN"
      },
      "source": [
        "#Taking only required fields which will be useful for the analysis and forecast\n",
        "sales_df = sales_df[['Date','product_id','seller_id','price']]"
      ],
      "execution_count": null,
      "outputs": []
    },
    {
      "cell_type": "markdown",
      "metadata": {
        "id": "wRHx26SYZ_hd"
      },
      "source": [
        "**Preparing the sales dataset for further analysis**"
      ]
    },
    {
      "cell_type": "code",
      "metadata": {
        "id": "gFgwUlHPo3r2",
        "colab": {
          "base_uri": "https://localhost:8080/"
        },
        "outputId": "4ba4b0ec-86ec-4668-eea5-cff8f6e65143"
      },
      "source": [
        "#Grouping the data and counting the sales unit product-wise\n",
        "analysis_DF = sales_df.groupby(['Date','product_id','seller_id','price']\n",
        "                               ).size().reset_index(name='sales_unit')\n",
        "analysis_DF.shape"
      ],
      "execution_count": null,
      "outputs": [
        {
          "output_type": "execute_result",
          "data": {
            "text/plain": [
              "(94697, 5)"
            ]
          },
          "metadata": {
            "tags": []
          },
          "execution_count": 97
        }
      ]
    },
    {
      "cell_type": "code",
      "metadata": {
        "colab": {
          "base_uri": "https://localhost:8080/",
          "height": 419
        },
        "id": "_CJdYeNUQtPe",
        "outputId": "454ed541-d4bd-4b58-d7a0-66c25a47d602"
      },
      "source": [
        "analysis_DF"
      ],
      "execution_count": null,
      "outputs": [
        {
          "output_type": "execute_result",
          "data": {
            "text/html": [
              "<div>\n",
              "<style scoped>\n",
              "    .dataframe tbody tr th:only-of-type {\n",
              "        vertical-align: middle;\n",
              "    }\n",
              "\n",
              "    .dataframe tbody tr th {\n",
              "        vertical-align: top;\n",
              "    }\n",
              "\n",
              "    .dataframe thead th {\n",
              "        text-align: right;\n",
              "    }\n",
              "</style>\n",
              "<table border=\"1\" class=\"dataframe\">\n",
              "  <thead>\n",
              "    <tr style=\"text-align: right;\">\n",
              "      <th></th>\n",
              "      <th>Date</th>\n",
              "      <th>product_id</th>\n",
              "      <th>seller_id</th>\n",
              "      <th>price</th>\n",
              "      <th>sales_unit</th>\n",
              "    </tr>\n",
              "  </thead>\n",
              "  <tbody>\n",
              "    <tr>\n",
              "      <th>0</th>\n",
              "      <td>2016-09-04</td>\n",
              "      <td>c1488892604e4ba5cff5b4eb4d595400</td>\n",
              "      <td>1554a68530182680ad5c8b042c3ab563</td>\n",
              "      <td>39.99</td>\n",
              "      <td>1</td>\n",
              "    </tr>\n",
              "    <tr>\n",
              "      <th>1</th>\n",
              "      <td>2016-09-04</td>\n",
              "      <td>f293394c72c9b5fafd7023301fc21fc2</td>\n",
              "      <td>1554a68530182680ad5c8b042c3ab563</td>\n",
              "      <td>32.90</td>\n",
              "      <td>1</td>\n",
              "    </tr>\n",
              "    <tr>\n",
              "      <th>2</th>\n",
              "      <td>2016-09-05</td>\n",
              "      <td>f3c2d01a84c947b078e32bbef0718962</td>\n",
              "      <td>a425f92c199eb576938df686728acd20</td>\n",
              "      <td>59.50</td>\n",
              "      <td>1</td>\n",
              "    </tr>\n",
              "    <tr>\n",
              "      <th>3</th>\n",
              "      <td>2016-09-15</td>\n",
              "      <td>5a6b04657a4c5ee34285d1e4619a96b4</td>\n",
              "      <td>ecccfa2bb93b34a3bf033cc5d1dcdc69</td>\n",
              "      <td>44.99</td>\n",
              "      <td>3</td>\n",
              "    </tr>\n",
              "    <tr>\n",
              "      <th>4</th>\n",
              "      <td>2016-10-02</td>\n",
              "      <td>d2998d7ced12f83f9b832f33cf6507b6</td>\n",
              "      <td>25e6ffe976bd75618accfe16cefcbd0d</td>\n",
              "      <td>100.00</td>\n",
              "      <td>1</td>\n",
              "    </tr>\n",
              "    <tr>\n",
              "      <th>...</th>\n",
              "      <td>...</td>\n",
              "      <td>...</td>\n",
              "      <td>...</td>\n",
              "      <td>...</td>\n",
              "      <td>...</td>\n",
              "    </tr>\n",
              "    <tr>\n",
              "      <th>94692</th>\n",
              "      <td>2018-08-29</td>\n",
              "      <td>b6b76b074ed0d77d0f3443b12d8adb5e</td>\n",
              "      <td>6560211a19b47992c3666cc44a7e94c0</td>\n",
              "      <td>99.00</td>\n",
              "      <td>1</td>\n",
              "    </tr>\n",
              "    <tr>\n",
              "      <th>94693</th>\n",
              "      <td>2018-08-29</td>\n",
              "      <td>bdcf6a834e8faa30dac3886c7a58e92e</td>\n",
              "      <td>2a84855fd20af891be03bc5924d2b453</td>\n",
              "      <td>45.90</td>\n",
              "      <td>1</td>\n",
              "    </tr>\n",
              "    <tr>\n",
              "      <th>94694</th>\n",
              "      <td>2018-08-29</td>\n",
              "      <td>c7f27c5bef2338541c772b5776403e6a</td>\n",
              "      <td>7d7866a99a8656a42c7ff6352a433410</td>\n",
              "      <td>24.90</td>\n",
              "      <td>1</td>\n",
              "    </tr>\n",
              "    <tr>\n",
              "      <th>94695</th>\n",
              "      <td>2018-08-29</td>\n",
              "      <td>d04857e7b4b708ee8b8b9921163edba3</td>\n",
              "      <td>9f505651f4a6abe901a56cdc21508025</td>\n",
              "      <td>84.99</td>\n",
              "      <td>1</td>\n",
              "    </tr>\n",
              "    <tr>\n",
              "      <th>94696</th>\n",
              "      <td>2018-09-03</td>\n",
              "      <td>b98992ea80b467987a7fbb88e7f2076a</td>\n",
              "      <td>25be943a321c8938947bdaabca979a90</td>\n",
              "      <td>145.00</td>\n",
              "      <td>1</td>\n",
              "    </tr>\n",
              "  </tbody>\n",
              "</table>\n",
              "<p>94697 rows × 5 columns</p>\n",
              "</div>"
            ],
            "text/plain": [
              "             Date                        product_id  ...   price  sales_unit\n",
              "0      2016-09-04  c1488892604e4ba5cff5b4eb4d595400  ...   39.99           1\n",
              "1      2016-09-04  f293394c72c9b5fafd7023301fc21fc2  ...   32.90           1\n",
              "2      2016-09-05  f3c2d01a84c947b078e32bbef0718962  ...   59.50           1\n",
              "3      2016-09-15  5a6b04657a4c5ee34285d1e4619a96b4  ...   44.99           3\n",
              "4      2016-10-02  d2998d7ced12f83f9b832f33cf6507b6  ...  100.00           1\n",
              "...           ...                               ...  ...     ...         ...\n",
              "94692  2018-08-29  b6b76b074ed0d77d0f3443b12d8adb5e  ...   99.00           1\n",
              "94693  2018-08-29  bdcf6a834e8faa30dac3886c7a58e92e  ...   45.90           1\n",
              "94694  2018-08-29  c7f27c5bef2338541c772b5776403e6a  ...   24.90           1\n",
              "94695  2018-08-29  d04857e7b4b708ee8b8b9921163edba3  ...   84.99           1\n",
              "94696  2018-09-03  b98992ea80b467987a7fbb88e7f2076a  ...  145.00           1\n",
              "\n",
              "[94697 rows x 5 columns]"
            ]
          },
          "metadata": {
            "tags": []
          },
          "execution_count": 98
        }
      ]
    },
    {
      "cell_type": "markdown",
      "metadata": {
        "id": "njXS_1rsG-E_"
      },
      "source": [
        "Now the dataset is ready for analysis"
      ]
    },
    {
      "cell_type": "markdown",
      "metadata": {
        "id": "xETc44aLNs7J"
      },
      "source": [
        "We will now filter the dataset and decide which products to keep and which to drop. We need the items that have enough sales, consistent demand variablility, and the number of price changes in a certain time period to be considered for a forecast and optimization.\n",
        "\n",
        "- the product which has been most consistently sold at least once over the intervals of 10 weeks.\n",
        "- "
      ]
    },
    {
      "cell_type": "code",
      "metadata": {
        "id": "pP6g6KgYSAr7"
      },
      "source": [
        "#Converting DF date column to Datetime\n",
        "analysis_DF.Date = pd.to_datetime(analysis_DF.Date)"
      ],
      "execution_count": null,
      "outputs": []
    },
    {
      "cell_type": "code",
      "metadata": {
        "id": "KFYcxC0JILDY"
      },
      "source": [
        "#Grouping product sales in the intervals of 10 weeks time period\n",
        "grouped_product_sales = analysis_DF[['Date','product_id','sales_unit']].groupby(\n",
        "    [pd.Grouper(key=\"Date\", freq=\"10W\"), analysis_DF.product_id]).sum().reset_index()"
      ],
      "execution_count": null,
      "outputs": []
    },
    {
      "cell_type": "code",
      "metadata": {
        "id": "r19XWlDTZJJW",
        "colab": {
          "base_uri": "https://localhost:8080/"
        },
        "outputId": "7b62cd87-fb55-4c9e-f382-966ed2fd1368"
      },
      "source": [
        "#Getting the top products which sales has occurred in the significant number \n",
        "#(>= 5 intervals) of the time intervals.\n",
        "#In laymen terms, the product which has been most consistently sold at least\n",
        "#once within 10 weeks.\n",
        "top_products = grouped_product_sales.product_id.value_counts()\n",
        "top_products = top_products[top_products>=5]\n",
        "top_products"
      ],
      "execution_count": null,
      "outputs": [
        {
          "output_type": "execute_result",
          "data": {
            "text/plain": [
              "777d2e438a1b645f3aec9bd57e92672c    10\n",
              "817e1c2d22418c36386406ccacfa53e8    10\n",
              "6cdd53843498f92890544667809f1595    10\n",
              "11fd9d7ba552e1d28872e008acf1e050     9\n",
              "35afc973633aaeb6b877ff57b2793310     9\n",
              "                                    ..\n",
              "e2fcaac49de7a3a90f0dc74d7b1e9f10     5\n",
              "cd48f265a63e13b762601f5f794c5fca     5\n",
              "1d2d3b19f5c3d093d4dbccd3cd963a8f     5\n",
              "84f5c4f480ad6c9998d6a6860f1a2e41     5\n",
              "4ebab6a2135a2477b657bda38646b64b     5\n",
              "Name: product_id, Length: 1166, dtype: int64"
            ]
          },
          "metadata": {
            "tags": []
          },
          "execution_count": 101
        }
      ]
    },
    {
      "cell_type": "code",
      "metadata": {
        "colab": {
          "base_uri": "https://localhost:8080/",
          "height": 52
        },
        "id": "EWzToMIRMYFm",
        "outputId": "6ac0d3c1-705b-4583-fa49-0b2159093e3d"
      },
      "source": [
        "\"\"\"pivot_date_item = grouped_product_sales.pivot_table(index='product_id',columns='Date', \n",
        "                                      values='sales_unit').dropna().index\n",
        "pivot_date_item\n",
        "\"\"\"                "
      ],
      "execution_count": null,
      "outputs": [
        {
          "output_type": "execute_result",
          "data": {
            "application/vnd.google.colaboratory.intrinsic+json": {
              "type": "string"
            },
            "text/plain": [
              "\"pivot_date_item = grouped_product_sales.pivot_table(index='product_id',columns='Date', \\n                                      values='sales_unit').dropna().index\\npivot_date_item\\n\""
            ]
          },
          "metadata": {
            "tags": []
          },
          "execution_count": 102
        }
      ]
    },
    {
      "cell_type": "code",
      "metadata": {
        "id": "zODO_MdBKMPP"
      },
      "source": [
        "analysis_DF = analysis_DF[analysis_DF.product_id.isin(top_products.index)]"
      ],
      "execution_count": null,
      "outputs": []
    },
    {
      "cell_type": "code",
      "metadata": {
        "colab": {
          "base_uri": "https://localhost:8080/"
        },
        "id": "wmNBtDxKr4iu",
        "outputId": "8dd1f8c9-baf5-4c7c-bff7-021153a3f7a7"
      },
      "source": [
        "analysis_DF.info()"
      ],
      "execution_count": null,
      "outputs": [
        {
          "output_type": "stream",
          "text": [
            "<class 'pandas.core.frame.DataFrame'>\n",
            "Int64Index: 25539 entries, 0 to 94695\n",
            "Data columns (total 5 columns):\n",
            " #   Column      Non-Null Count  Dtype         \n",
            "---  ------      --------------  -----         \n",
            " 0   Date        25539 non-null  datetime64[ns]\n",
            " 1   product_id  25539 non-null  object        \n",
            " 2   seller_id   25539 non-null  object        \n",
            " 3   price       25539 non-null  float64       \n",
            " 4   sales_unit  25539 non-null  int64         \n",
            "dtypes: datetime64[ns](1), float64(1), int64(1), object(2)\n",
            "memory usage: 1.2+ MB\n"
          ],
          "name": "stdout"
        }
      ]
    },
    {
      "cell_type": "code",
      "metadata": {
        "colab": {
          "base_uri": "https://localhost:8080/",
          "height": 419
        },
        "id": "EULCWO9jgRIy",
        "outputId": "c3c95b3c-5508-41d9-db63-4547a4e8be32"
      },
      "source": [
        "analysis_DF"
      ],
      "execution_count": null,
      "outputs": [
        {
          "output_type": "execute_result",
          "data": {
            "text/html": [
              "<div>\n",
              "<style scoped>\n",
              "    .dataframe tbody tr th:only-of-type {\n",
              "        vertical-align: middle;\n",
              "    }\n",
              "\n",
              "    .dataframe tbody tr th {\n",
              "        vertical-align: top;\n",
              "    }\n",
              "\n",
              "    .dataframe thead th {\n",
              "        text-align: right;\n",
              "    }\n",
              "</style>\n",
              "<table border=\"1\" class=\"dataframe\">\n",
              "  <thead>\n",
              "    <tr style=\"text-align: right;\">\n",
              "      <th></th>\n",
              "      <th>Date</th>\n",
              "      <th>product_id</th>\n",
              "      <th>seller_id</th>\n",
              "      <th>price</th>\n",
              "      <th>sales_unit</th>\n",
              "    </tr>\n",
              "  </thead>\n",
              "  <tbody>\n",
              "    <tr>\n",
              "      <th>0</th>\n",
              "      <td>2016-09-04</td>\n",
              "      <td>c1488892604e4ba5cff5b4eb4d595400</td>\n",
              "      <td>1554a68530182680ad5c8b042c3ab563</td>\n",
              "      <td>39.99</td>\n",
              "      <td>1</td>\n",
              "    </tr>\n",
              "    <tr>\n",
              "      <th>7</th>\n",
              "      <td>2016-10-03</td>\n",
              "      <td>9c7bdf67b06b419aefb93cfdfc96c55d</td>\n",
              "      <td>ed49da7cadefc454d6a67de249eab240</td>\n",
              "      <td>21.50</td>\n",
              "      <td>1</td>\n",
              "    </tr>\n",
              "    <tr>\n",
              "      <th>32</th>\n",
              "      <td>2016-10-04</td>\n",
              "      <td>473795a355d29305c3ea6b156833adf5</td>\n",
              "      <td>620c87c171fb2a6dd6e8bb4dec959fc6</td>\n",
              "      <td>59.90</td>\n",
              "      <td>2</td>\n",
              "    </tr>\n",
              "    <tr>\n",
              "      <th>43</th>\n",
              "      <td>2016-10-04</td>\n",
              "      <td>817e1c2d22418c36386406ccacfa53e8</td>\n",
              "      <td>624f4ece8da4aafb77699233d480f8ef</td>\n",
              "      <td>189.00</td>\n",
              "      <td>1</td>\n",
              "    </tr>\n",
              "    <tr>\n",
              "      <th>55</th>\n",
              "      <td>2016-10-04</td>\n",
              "      <td>c1488892604e4ba5cff5b4eb4d595400</td>\n",
              "      <td>1554a68530182680ad5c8b042c3ab563</td>\n",
              "      <td>39.99</td>\n",
              "      <td>1</td>\n",
              "    </tr>\n",
              "    <tr>\n",
              "      <th>...</th>\n",
              "      <td>...</td>\n",
              "      <td>...</td>\n",
              "      <td>...</td>\n",
              "      <td>...</td>\n",
              "      <td>...</td>\n",
              "    </tr>\n",
              "    <tr>\n",
              "      <th>94674</th>\n",
              "      <td>2018-08-28</td>\n",
              "      <td>a59fb60fddcc72a9878b7ed5cb69d8e4</td>\n",
              "      <td>7040e82f899a04d1b434b795a43b4617</td>\n",
              "      <td>14.90</td>\n",
              "      <td>1</td>\n",
              "    </tr>\n",
              "    <tr>\n",
              "      <th>94680</th>\n",
              "      <td>2018-08-28</td>\n",
              "      <td>d6aa421b9567e3e2a3a0caf8fb846cbc</td>\n",
              "      <td>99a54764c341d5dc80b4a8fac4eba3fb</td>\n",
              "      <td>41.80</td>\n",
              "      <td>1</td>\n",
              "    </tr>\n",
              "    <tr>\n",
              "      <th>94682</th>\n",
              "      <td>2018-08-28</td>\n",
              "      <td>e06f99e79036d681effa3de75989bf22</td>\n",
              "      <td>6560211a19b47992c3666cc44a7e94c0</td>\n",
              "      <td>59.00</td>\n",
              "      <td>1</td>\n",
              "    </tr>\n",
              "    <tr>\n",
              "      <th>94683</th>\n",
              "      <td>2018-08-28</td>\n",
              "      <td>e0cf79767c5b016251fe139915c59a26</td>\n",
              "      <td>da8622b14eb17ae2831f4ac5b9dab84a</td>\n",
              "      <td>29.90</td>\n",
              "      <td>1</td>\n",
              "    </tr>\n",
              "    <tr>\n",
              "      <th>94695</th>\n",
              "      <td>2018-08-29</td>\n",
              "      <td>d04857e7b4b708ee8b8b9921163edba3</td>\n",
              "      <td>9f505651f4a6abe901a56cdc21508025</td>\n",
              "      <td>84.99</td>\n",
              "      <td>1</td>\n",
              "    </tr>\n",
              "  </tbody>\n",
              "</table>\n",
              "<p>25539 rows × 5 columns</p>\n",
              "</div>"
            ],
            "text/plain": [
              "            Date                        product_id  ...   price  sales_unit\n",
              "0     2016-09-04  c1488892604e4ba5cff5b4eb4d595400  ...   39.99           1\n",
              "7     2016-10-03  9c7bdf67b06b419aefb93cfdfc96c55d  ...   21.50           1\n",
              "32    2016-10-04  473795a355d29305c3ea6b156833adf5  ...   59.90           2\n",
              "43    2016-10-04  817e1c2d22418c36386406ccacfa53e8  ...  189.00           1\n",
              "55    2016-10-04  c1488892604e4ba5cff5b4eb4d595400  ...   39.99           1\n",
              "...          ...                               ...  ...     ...         ...\n",
              "94674 2018-08-28  a59fb60fddcc72a9878b7ed5cb69d8e4  ...   14.90           1\n",
              "94680 2018-08-28  d6aa421b9567e3e2a3a0caf8fb846cbc  ...   41.80           1\n",
              "94682 2018-08-28  e06f99e79036d681effa3de75989bf22  ...   59.00           1\n",
              "94683 2018-08-28  e0cf79767c5b016251fe139915c59a26  ...   29.90           1\n",
              "94695 2018-08-29  d04857e7b4b708ee8b8b9921163edba3  ...   84.99           1\n",
              "\n",
              "[25539 rows x 5 columns]"
            ]
          },
          "metadata": {
            "tags": []
          },
          "execution_count": 105
        }
      ]
    },
    {
      "cell_type": "markdown",
      "metadata": {
        "id": "KrmsQfQfchZF"
      },
      "source": [
        "The dataset is down to around 1000 products.\n",
        "\n",
        "We will filter the dataset even further by grouping the products based on the demand variability (smooth, intermittent, erratic, and lumpy).\n",
        "\n",
        "please refer https://frepple.com/blog/demand-classification/\n"
      ]
    },
    {
      "cell_type": "markdown",
      "metadata": {
        "id": "89V_8w_VhVDb"
      },
      "source": [
        "**Classifying the products on daily sales**"
      ]
    },
    {
      "cell_type": "code",
      "metadata": {
        "id": "Ogq6T2yGzId7"
      },
      "source": [
        "#ADI (Total no of periods/number of demand bucket) function\n",
        "def ADI(no_demand_buckets, no_of_periods):\n",
        "  ADI = no_of_periods/no_demand_buckets\n",
        "  return ADI"
      ],
      "execution_count": null,
      "outputs": []
    },
    {
      "cell_type": "code",
      "metadata": {
        "id": "TVObZu3zB5eq"
      },
      "source": [
        "#Calculating number of sales occurence (demand buckets) of each product on different time periods\n",
        "top_products_daily = analysis_DF.product_id.value_counts()"
      ],
      "execution_count": null,
      "outputs": []
    },
    {
      "cell_type": "code",
      "metadata": {
        "colab": {
          "base_uri": "https://localhost:8080/"
        },
        "id": "FGASrd2Jjh0Z",
        "outputId": "d822e866-0499-4fd7-8222-51da19fb68e3"
      },
      "source": [
        "top_products_daily"
      ],
      "execution_count": null,
      "outputs": [
        {
          "output_type": "execute_result",
          "data": {
            "text/plain": [
              "99a4788cb24856965c36a24e339b6058    269\n",
              "d1c427060a0f73f6b889a5c7c61f2ac4    202\n",
              "422879e10f46682990de24d770e7f83d    196\n",
              "2b4609f8948be18874494203496bc318    193\n",
              "154e7e31ebfa092203795c972e5804a6    192\n",
              "                                   ... \n",
              "125e5760a3ff01937be3b2a1a7f14aa6      5\n",
              "783dae38feb9e3a364e24e25168cfa8a      5\n",
              "d3f4f3de0f4576184674937d1e9cecca      5\n",
              "190d9562bfbe9d3ed876c2ac6f2f5894      5\n",
              "72ca7a219f9f5b1be88c79e3aedd0152      5\n",
              "Name: product_id, Length: 1166, dtype: int64"
            ]
          },
          "metadata": {
            "tags": []
          },
          "execution_count": 110
        }
      ]
    },
    {
      "cell_type": "code",
      "metadata": {
        "id": "wBW1WDv33snc"
      },
      "source": [
        "#Calculating ADI of each product\n",
        "top_product = top_products_daily.reset_index()\n",
        "top_product.columns = ['product_id','demand_bucket']\n",
        "no_of_periods = len(analysis_DF.Date.unique())\n",
        "top_product['ADI'] = top_product.demand_bucket.apply(ADI, args=[no_of_periods])"
      ],
      "execution_count": null,
      "outputs": []
    },
    {
      "cell_type": "code",
      "metadata": {
        "id": "SvhDJF4es6Bf"
      },
      "source": [
        "#Calculating Standard Deviation and Mean of each product's sales occurence on different time periods\n",
        "sub_analyse_std = analysis_DF[['product_id','sales_unit']].groupby(\n",
        "    ['product_id']).std().reset_index()\n",
        "sub_analyse_mean = analysis_DF[['product_id','sales_unit']].groupby(\n",
        "    ['product_id']).mean().reset_index()"
      ],
      "execution_count": null,
      "outputs": []
    },
    {
      "cell_type": "code",
      "metadata": {
        "id": "kyUMq19IwOu4"
      },
      "source": [
        "sub_analyse = sub_analyse_std.join(sub_analyse_mean.set_index('product_id'),\n",
        "                                   lsuffix='_std', rsuffix='_mean',\n",
        "                                   on='product_id')\n",
        "\n",
        "sub_analyse = sub_analyse.join(top_product.set_index('product_id'),\n",
        "                                   on='product_id')"
      ],
      "execution_count": null,
      "outputs": []
    },
    {
      "cell_type": "code",
      "metadata": {
        "id": "6-5bgvZP7e52"
      },
      "source": [
        "#Calculating CV2 (Sales units Standard Dev/mean)^2\n",
        "sub_analyse['CV2'] = (sub_analyse.sales_unit_std/sub_analyse.sales_unit_mean)**2"
      ],
      "execution_count": null,
      "outputs": []
    },
    {
      "cell_type": "markdown",
      "metadata": {
        "id": "8KaiJmc3_iso"
      },
      "source": [
        "Smooth demand (ADI < 1.32 and CV² < 0.49). The demand is very regular in time and in quantity. It is therefore easy to forecast and you won’t have trouble reaching a low forecasting error level.\n",
        "\n",
        "Intermittent demand (ADI >= 1.32 and CV² < 0.49). The demand history shows very little variation in demand quantity but a high variation in the interval between two demands. Though specific forecasting methods tackle intermittent demands, the forecast error margin is considerably higher.\n",
        "\n",
        "Erratic demand (ADI < 1.32 and CV² >= 0.49). The demand has regular occurrences in time with high quantity variations. Your forecast accuracy remains shaky.\n",
        "\n",
        "Lumpy demand (ADI >= 1.32 and CV² >= 0.49). The demand is characterized by a large variation in quantity and in time. It is actually impossible to produce a reliable forecast, no matter which forecasting tools you use. This particular type of demand pattern is unforecastable."
      ]
    },
    {
      "cell_type": "code",
      "metadata": {
        "id": "SKGw8m8UA9sB"
      },
      "source": [
        "conditions = [\n",
        "    (sub_analyse.ADI < 1.32) & (sub_analyse.CV2 < 0.49),\n",
        "    (sub_analyse.ADI >= 1.32) & (sub_analyse.CV2 < 0.49),\n",
        "    (sub_analyse.ADI < 1.32) & (sub_analyse.CV2 >= 0.49),\n",
        "    (sub_analyse.ADI >= 1.32) & (sub_analyse.CV2 >= 0.49)\n",
        "    ]\n",
        "profiles = ['smooth', 'intermittent', 'erratic', 'lumpy']"
      ],
      "execution_count": null,
      "outputs": []
    },
    {
      "cell_type": "code",
      "metadata": {
        "id": "-389JN129xb-"
      },
      "source": [
        "#Creating a new column of demand profile and assigning them to products,\n",
        "#based on the conditions defined above.\n",
        "sub_analyse['demand_profile'] = np.select(conditions, profiles)"
      ],
      "execution_count": null,
      "outputs": []
    },
    {
      "cell_type": "code",
      "metadata": {
        "colab": {
          "base_uri": "https://localhost:8080/",
          "height": 419
        },
        "id": "3a6Qd-qOiqAY",
        "outputId": "357c977b-62d0-4cdc-b44c-b8f8ee08a752"
      },
      "source": [
        "sub_analyse"
      ],
      "execution_count": null,
      "outputs": [
        {
          "output_type": "execute_result",
          "data": {
            "text/html": [
              "<div>\n",
              "<style scoped>\n",
              "    .dataframe tbody tr th:only-of-type {\n",
              "        vertical-align: middle;\n",
              "    }\n",
              "\n",
              "    .dataframe tbody tr th {\n",
              "        vertical-align: top;\n",
              "    }\n",
              "\n",
              "    .dataframe thead th {\n",
              "        text-align: right;\n",
              "    }\n",
              "</style>\n",
              "<table border=\"1\" class=\"dataframe\">\n",
              "  <thead>\n",
              "    <tr style=\"text-align: right;\">\n",
              "      <th></th>\n",
              "      <th>product_id</th>\n",
              "      <th>sales_unit_std</th>\n",
              "      <th>sales_unit_mean</th>\n",
              "      <th>demand_bucket</th>\n",
              "      <th>ADI</th>\n",
              "      <th>CV2</th>\n",
              "      <th>demand_profile</th>\n",
              "    </tr>\n",
              "  </thead>\n",
              "  <tbody>\n",
              "    <tr>\n",
              "      <th>0</th>\n",
              "      <td>002159fe700ed3521f46cfcf6e941c76</td>\n",
              "      <td>0.000000</td>\n",
              "      <td>1.000000</td>\n",
              "      <td>8</td>\n",
              "      <td>76.125000</td>\n",
              "      <td>0.000000</td>\n",
              "      <td>intermittent</td>\n",
              "    </tr>\n",
              "    <tr>\n",
              "      <th>1</th>\n",
              "      <td>00250175f79f584c14ab5cecd80553cd</td>\n",
              "      <td>1.511858</td>\n",
              "      <td>1.571429</td>\n",
              "      <td>7</td>\n",
              "      <td>87.000000</td>\n",
              "      <td>0.925620</td>\n",
              "      <td>lumpy</td>\n",
              "    </tr>\n",
              "    <tr>\n",
              "      <th>2</th>\n",
              "      <td>005030ef108f58b46b78116f754d8d38</td>\n",
              "      <td>0.288675</td>\n",
              "      <td>1.083333</td>\n",
              "      <td>12</td>\n",
              "      <td>50.750000</td>\n",
              "      <td>0.071006</td>\n",
              "      <td>intermittent</td>\n",
              "    </tr>\n",
              "    <tr>\n",
              "      <th>3</th>\n",
              "      <td>008cff0e5792219fae03e570f980b330</td>\n",
              "      <td>0.374634</td>\n",
              "      <td>1.157895</td>\n",
              "      <td>19</td>\n",
              "      <td>32.052632</td>\n",
              "      <td>0.104683</td>\n",
              "      <td>intermittent</td>\n",
              "    </tr>\n",
              "    <tr>\n",
              "      <th>4</th>\n",
              "      <td>00ba6d766f0b1d7b78a5ce3e1e033263</td>\n",
              "      <td>0.687552</td>\n",
              "      <td>1.454545</td>\n",
              "      <td>11</td>\n",
              "      <td>55.363636</td>\n",
              "      <td>0.223437</td>\n",
              "      <td>intermittent</td>\n",
              "    </tr>\n",
              "    <tr>\n",
              "      <th>...</th>\n",
              "      <td>...</td>\n",
              "      <td>...</td>\n",
              "      <td>...</td>\n",
              "      <td>...</td>\n",
              "      <td>...</td>\n",
              "      <td>...</td>\n",
              "      <td>...</td>\n",
              "    </tr>\n",
              "    <tr>\n",
              "      <th>1161</th>\n",
              "      <td>fed5c40c27e1c88560a9e92d82ee0825</td>\n",
              "      <td>0.307794</td>\n",
              "      <td>1.100000</td>\n",
              "      <td>20</td>\n",
              "      <td>30.450000</td>\n",
              "      <td>0.078295</td>\n",
              "      <td>intermittent</td>\n",
              "    </tr>\n",
              "    <tr>\n",
              "      <th>1162</th>\n",
              "      <td>ff29d8cb1cd0cd5ea37b80dac9939e1c</td>\n",
              "      <td>0.358569</td>\n",
              "      <td>1.142857</td>\n",
              "      <td>21</td>\n",
              "      <td>29.000000</td>\n",
              "      <td>0.098437</td>\n",
              "      <td>intermittent</td>\n",
              "    </tr>\n",
              "    <tr>\n",
              "      <th>1163</th>\n",
              "      <td>ff55834c0b3272853dfe62340f2bb91b</td>\n",
              "      <td>0.000000</td>\n",
              "      <td>1.000000</td>\n",
              "      <td>9</td>\n",
              "      <td>67.666667</td>\n",
              "      <td>0.000000</td>\n",
              "      <td>intermittent</td>\n",
              "    </tr>\n",
              "    <tr>\n",
              "      <th>1164</th>\n",
              "      <td>ff7fccf8513f360157f0660fe51d1d88</td>\n",
              "      <td>0.000000</td>\n",
              "      <td>1.000000</td>\n",
              "      <td>13</td>\n",
              "      <td>46.846154</td>\n",
              "      <td>0.000000</td>\n",
              "      <td>intermittent</td>\n",
              "    </tr>\n",
              "    <tr>\n",
              "      <th>1165</th>\n",
              "      <td>ffd4bf4306745865e5692f69bd237893</td>\n",
              "      <td>0.000000</td>\n",
              "      <td>1.000000</td>\n",
              "      <td>8</td>\n",
              "      <td>76.125000</td>\n",
              "      <td>0.000000</td>\n",
              "      <td>intermittent</td>\n",
              "    </tr>\n",
              "  </tbody>\n",
              "</table>\n",
              "<p>1166 rows × 7 columns</p>\n",
              "</div>"
            ],
            "text/plain": [
              "                            product_id  sales_unit_std  ...       CV2  demand_profile\n",
              "0     002159fe700ed3521f46cfcf6e941c76        0.000000  ...  0.000000    intermittent\n",
              "1     00250175f79f584c14ab5cecd80553cd        1.511858  ...  0.925620           lumpy\n",
              "2     005030ef108f58b46b78116f754d8d38        0.288675  ...  0.071006    intermittent\n",
              "3     008cff0e5792219fae03e570f980b330        0.374634  ...  0.104683    intermittent\n",
              "4     00ba6d766f0b1d7b78a5ce3e1e033263        0.687552  ...  0.223437    intermittent\n",
              "...                                ...             ...  ...       ...             ...\n",
              "1161  fed5c40c27e1c88560a9e92d82ee0825        0.307794  ...  0.078295    intermittent\n",
              "1162  ff29d8cb1cd0cd5ea37b80dac9939e1c        0.358569  ...  0.098437    intermittent\n",
              "1163  ff55834c0b3272853dfe62340f2bb91b        0.000000  ...  0.000000    intermittent\n",
              "1164  ff7fccf8513f360157f0660fe51d1d88        0.000000  ...  0.000000    intermittent\n",
              "1165  ffd4bf4306745865e5692f69bd237893        0.000000  ...  0.000000    intermittent\n",
              "\n",
              "[1166 rows x 7 columns]"
            ]
          },
          "metadata": {
            "tags": []
          },
          "execution_count": 117
        }
      ]
    },
    {
      "cell_type": "markdown",
      "metadata": {
        "id": "bxZIpn2-ibDJ"
      },
      "source": [
        "**Classifying the products based on weekly sales**"
      ]
    },
    {
      "cell_type": "code",
      "metadata": {
        "id": "VNfpLPYrDzM2"
      },
      "source": [
        "#Grouping the dataset weekly\n",
        "weekly_subset = analysis_DF.groupby([analysis_DF.Date.dt.isocalendar().week,\n",
        "                                     analysis_DF.product_id]).sum().reset_index()[['week','product_id','sales_unit']]"
      ],
      "execution_count": null,
      "outputs": []
    },
    {
      "cell_type": "code",
      "metadata": {
        "id": "pyWFtW3xGZCT"
      },
      "source": [
        "#Calculating demand occurence of each product in all the periods\n",
        "top_products_weekly = weekly_subset.product_id.value_counts()"
      ],
      "execution_count": null,
      "outputs": []
    },
    {
      "cell_type": "code",
      "metadata": {
        "id": "_YsqiwM8GcuQ"
      },
      "source": [
        "#Calculating ADI for weekly data\n",
        "top_product_w = top_products_weekly.reset_index()\n",
        "top_product_w.columns = ['product_id','demand_bucket_weekly']\n",
        "no_of_periods = len(weekly_subset.week.unique())\n",
        "top_product_w['ADI_weekly'] = top_product_w.demand_bucket_weekly.apply(ADI, args=[no_of_periods])"
      ],
      "execution_count": null,
      "outputs": []
    },
    {
      "cell_type": "code",
      "metadata": {
        "id": "soWsmg5FHnzo"
      },
      "source": [
        "#Calculating std and mean of sales unit for weekly data\n",
        "weekly_subset_std = weekly_subset[['product_id','sales_unit']].groupby(\n",
        "    ['product_id']).std().reset_index()\n",
        "weekly_subset_mean = weekly_subset[['product_id','sales_unit']].groupby(\n",
        "    ['product_id']).mean().reset_index()"
      ],
      "execution_count": null,
      "outputs": []
    },
    {
      "cell_type": "code",
      "metadata": {
        "id": "KxxM5yfjMnOF"
      },
      "source": [
        "weekly_subset_std_mean = weekly_subset_std.join(weekly_subset_mean.set_index('product_id'),\n",
        "                                   lsuffix='_week_std', rsuffix='_week_mean',\n",
        "                                   on='product_id')\n",
        "\n",
        "weekly = weekly_subset_std_mean.join(top_product_w.set_index('product_id'),\n",
        "                                   on='product_id')"
      ],
      "execution_count": null,
      "outputs": []
    },
    {
      "cell_type": "code",
      "metadata": {
        "id": "Ha_XEHrxNe1K"
      },
      "source": [
        "sub_analyse = sub_analyse.join(weekly.set_index('product_id'),\n",
        "                                   on='product_id')"
      ],
      "execution_count": null,
      "outputs": []
    },
    {
      "cell_type": "code",
      "metadata": {
        "id": "VyTYsIpaN2mk"
      },
      "source": [
        "#Calculating CV2 for the weekly data\n",
        "sub_analyse['CV2_week'] = (sub_analyse.sales_unit_week_std/\n",
        "                           sub_analyse.sales_unit_week_mean)**2"
      ],
      "execution_count": null,
      "outputs": []
    },
    {
      "cell_type": "code",
      "metadata": {
        "id": "IXquPhcpOwgN"
      },
      "source": [
        "conditions = [\n",
        "    (sub_analyse.ADI_weekly < 1.32) & (sub_analyse.CV2_week < 0.49),\n",
        "    (sub_analyse.ADI_weekly >= 1.32) & (sub_analyse.CV2_week < 0.49),\n",
        "    (sub_analyse.ADI_weekly < 1.32) & (sub_analyse.CV2_week >= 0.49),\n",
        "    (sub_analyse.ADI_weekly >= 1.32) & (sub_analyse.CV2_week >= 0.49)\n",
        "    ]\n",
        "profiles = ['smooth', 'intermittent', 'erratic', 'lumpy']"
      ],
      "execution_count": null,
      "outputs": []
    },
    {
      "cell_type": "code",
      "metadata": {
        "id": "xoffyaOnOzyx"
      },
      "source": [
        "#Creating a new column of demand profile for weeky data and assigning them to products,\n",
        "#based on the conditions defined above.\n",
        "sub_analyse['weekly_demand_profile'] = np.select(conditions, profiles)"
      ],
      "execution_count": null,
      "outputs": []
    },
    {
      "cell_type": "code",
      "metadata": {
        "colab": {
          "base_uri": "https://localhost:8080/",
          "height": 439
        },
        "id": "nMyClLOrPWPM",
        "outputId": "7bf1214c-8c54-492b-bc3b-50c9b7f5da27"
      },
      "source": [
        "sub_analyse"
      ],
      "execution_count": null,
      "outputs": [
        {
          "output_type": "execute_result",
          "data": {
            "text/html": [
              "<div>\n",
              "<style scoped>\n",
              "    .dataframe tbody tr th:only-of-type {\n",
              "        vertical-align: middle;\n",
              "    }\n",
              "\n",
              "    .dataframe tbody tr th {\n",
              "        vertical-align: top;\n",
              "    }\n",
              "\n",
              "    .dataframe thead th {\n",
              "        text-align: right;\n",
              "    }\n",
              "</style>\n",
              "<table border=\"1\" class=\"dataframe\">\n",
              "  <thead>\n",
              "    <tr style=\"text-align: right;\">\n",
              "      <th></th>\n",
              "      <th>product_id</th>\n",
              "      <th>sales_unit_std</th>\n",
              "      <th>sales_unit_mean</th>\n",
              "      <th>demand_bucket</th>\n",
              "      <th>ADI</th>\n",
              "      <th>CV2</th>\n",
              "      <th>demand_profile</th>\n",
              "      <th>sales_unit_week_std</th>\n",
              "      <th>sales_unit_week_mean</th>\n",
              "      <th>demand_bucket_weekly</th>\n",
              "      <th>ADI_weekly</th>\n",
              "      <th>CV2_week</th>\n",
              "      <th>weekly_demand_profile</th>\n",
              "    </tr>\n",
              "  </thead>\n",
              "  <tbody>\n",
              "    <tr>\n",
              "      <th>0</th>\n",
              "      <td>002159fe700ed3521f46cfcf6e941c76</td>\n",
              "      <td>0.000000</td>\n",
              "      <td>1.000000</td>\n",
              "      <td>8</td>\n",
              "      <td>76.125000</td>\n",
              "      <td>0.000000</td>\n",
              "      <td>intermittent</td>\n",
              "      <td>0.377964</td>\n",
              "      <td>1.142857</td>\n",
              "      <td>7</td>\n",
              "      <td>7.428571</td>\n",
              "      <td>0.109375</td>\n",
              "      <td>intermittent</td>\n",
              "    </tr>\n",
              "    <tr>\n",
              "      <th>1</th>\n",
              "      <td>00250175f79f584c14ab5cecd80553cd</td>\n",
              "      <td>1.511858</td>\n",
              "      <td>1.571429</td>\n",
              "      <td>7</td>\n",
              "      <td>87.000000</td>\n",
              "      <td>0.925620</td>\n",
              "      <td>lumpy</td>\n",
              "      <td>2.041241</td>\n",
              "      <td>1.833333</td>\n",
              "      <td>6</td>\n",
              "      <td>8.666667</td>\n",
              "      <td>1.239669</td>\n",
              "      <td>lumpy</td>\n",
              "    </tr>\n",
              "    <tr>\n",
              "      <th>2</th>\n",
              "      <td>005030ef108f58b46b78116f754d8d38</td>\n",
              "      <td>0.288675</td>\n",
              "      <td>1.083333</td>\n",
              "      <td>12</td>\n",
              "      <td>50.750000</td>\n",
              "      <td>0.071006</td>\n",
              "      <td>intermittent</td>\n",
              "      <td>0.674949</td>\n",
              "      <td>1.300000</td>\n",
              "      <td>10</td>\n",
              "      <td>5.200000</td>\n",
              "      <td>0.269560</td>\n",
              "      <td>intermittent</td>\n",
              "    </tr>\n",
              "    <tr>\n",
              "      <th>3</th>\n",
              "      <td>008cff0e5792219fae03e570f980b330</td>\n",
              "      <td>0.374634</td>\n",
              "      <td>1.157895</td>\n",
              "      <td>19</td>\n",
              "      <td>32.052632</td>\n",
              "      <td>0.104683</td>\n",
              "      <td>intermittent</td>\n",
              "      <td>0.619139</td>\n",
              "      <td>1.375000</td>\n",
              "      <td>16</td>\n",
              "      <td>3.250000</td>\n",
              "      <td>0.202755</td>\n",
              "      <td>intermittent</td>\n",
              "    </tr>\n",
              "    <tr>\n",
              "      <th>4</th>\n",
              "      <td>00ba6d766f0b1d7b78a5ce3e1e033263</td>\n",
              "      <td>0.687552</td>\n",
              "      <td>1.454545</td>\n",
              "      <td>11</td>\n",
              "      <td>55.363636</td>\n",
              "      <td>0.223437</td>\n",
              "      <td>intermittent</td>\n",
              "      <td>0.699206</td>\n",
              "      <td>1.600000</td>\n",
              "      <td>10</td>\n",
              "      <td>5.200000</td>\n",
              "      <td>0.190972</td>\n",
              "      <td>intermittent</td>\n",
              "    </tr>\n",
              "    <tr>\n",
              "      <th>...</th>\n",
              "      <td>...</td>\n",
              "      <td>...</td>\n",
              "      <td>...</td>\n",
              "      <td>...</td>\n",
              "      <td>...</td>\n",
              "      <td>...</td>\n",
              "      <td>...</td>\n",
              "      <td>...</td>\n",
              "      <td>...</td>\n",
              "      <td>...</td>\n",
              "      <td>...</td>\n",
              "      <td>...</td>\n",
              "      <td>...</td>\n",
              "    </tr>\n",
              "    <tr>\n",
              "      <th>1161</th>\n",
              "      <td>fed5c40c27e1c88560a9e92d82ee0825</td>\n",
              "      <td>0.307794</td>\n",
              "      <td>1.100000</td>\n",
              "      <td>20</td>\n",
              "      <td>30.450000</td>\n",
              "      <td>0.078295</td>\n",
              "      <td>intermittent</td>\n",
              "      <td>0.915475</td>\n",
              "      <td>1.466667</td>\n",
              "      <td>15</td>\n",
              "      <td>3.466667</td>\n",
              "      <td>0.389610</td>\n",
              "      <td>intermittent</td>\n",
              "    </tr>\n",
              "    <tr>\n",
              "      <th>1162</th>\n",
              "      <td>ff29d8cb1cd0cd5ea37b80dac9939e1c</td>\n",
              "      <td>0.358569</td>\n",
              "      <td>1.142857</td>\n",
              "      <td>21</td>\n",
              "      <td>29.000000</td>\n",
              "      <td>0.098437</td>\n",
              "      <td>intermittent</td>\n",
              "      <td>1.382783</td>\n",
              "      <td>1.714286</td>\n",
              "      <td>14</td>\n",
              "      <td>3.714286</td>\n",
              "      <td>0.650641</td>\n",
              "      <td>lumpy</td>\n",
              "    </tr>\n",
              "    <tr>\n",
              "      <th>1163</th>\n",
              "      <td>ff55834c0b3272853dfe62340f2bb91b</td>\n",
              "      <td>0.000000</td>\n",
              "      <td>1.000000</td>\n",
              "      <td>9</td>\n",
              "      <td>67.666667</td>\n",
              "      <td>0.000000</td>\n",
              "      <td>intermittent</td>\n",
              "      <td>0.353553</td>\n",
              "      <td>1.125000</td>\n",
              "      <td>8</td>\n",
              "      <td>6.500000</td>\n",
              "      <td>0.098765</td>\n",
              "      <td>intermittent</td>\n",
              "    </tr>\n",
              "    <tr>\n",
              "      <th>1164</th>\n",
              "      <td>ff7fccf8513f360157f0660fe51d1d88</td>\n",
              "      <td>0.000000</td>\n",
              "      <td>1.000000</td>\n",
              "      <td>13</td>\n",
              "      <td>46.846154</td>\n",
              "      <td>0.000000</td>\n",
              "      <td>intermittent</td>\n",
              "      <td>0.404520</td>\n",
              "      <td>1.181818</td>\n",
              "      <td>11</td>\n",
              "      <td>4.727273</td>\n",
              "      <td>0.117160</td>\n",
              "      <td>intermittent</td>\n",
              "    </tr>\n",
              "    <tr>\n",
              "      <th>1165</th>\n",
              "      <td>ffd4bf4306745865e5692f69bd237893</td>\n",
              "      <td>0.000000</td>\n",
              "      <td>1.000000</td>\n",
              "      <td>8</td>\n",
              "      <td>76.125000</td>\n",
              "      <td>0.000000</td>\n",
              "      <td>intermittent</td>\n",
              "      <td>0.000000</td>\n",
              "      <td>1.000000</td>\n",
              "      <td>8</td>\n",
              "      <td>6.500000</td>\n",
              "      <td>0.000000</td>\n",
              "      <td>intermittent</td>\n",
              "    </tr>\n",
              "  </tbody>\n",
              "</table>\n",
              "<p>1166 rows × 13 columns</p>\n",
              "</div>"
            ],
            "text/plain": [
              "                            product_id  ...  weekly_demand_profile\n",
              "0     002159fe700ed3521f46cfcf6e941c76  ...           intermittent\n",
              "1     00250175f79f584c14ab5cecd80553cd  ...                  lumpy\n",
              "2     005030ef108f58b46b78116f754d8d38  ...           intermittent\n",
              "3     008cff0e5792219fae03e570f980b330  ...           intermittent\n",
              "4     00ba6d766f0b1d7b78a5ce3e1e033263  ...           intermittent\n",
              "...                                ...  ...                    ...\n",
              "1161  fed5c40c27e1c88560a9e92d82ee0825  ...           intermittent\n",
              "1162  ff29d8cb1cd0cd5ea37b80dac9939e1c  ...                  lumpy\n",
              "1163  ff55834c0b3272853dfe62340f2bb91b  ...           intermittent\n",
              "1164  ff7fccf8513f360157f0660fe51d1d88  ...           intermittent\n",
              "1165  ffd4bf4306745865e5692f69bd237893  ...           intermittent\n",
              "\n",
              "[1166 rows x 13 columns]"
            ]
          },
          "metadata": {
            "tags": []
          },
          "execution_count": 127
        }
      ]
    },
    {
      "cell_type": "code",
      "metadata": {
        "id": "Jk-8YkIbkS3c"
      },
      "source": [
        "daily_profile = sub_analyse[['demand_profile','product_id']].groupby(\n",
        "    'demand_profile').size().reset_index(name='d_no_products')\n",
        "    \n",
        "weekly_profile = sub_analyse[['weekly_demand_profile','product_id']].groupby(\n",
        "    'weekly_demand_profile').size().reset_index(name='w_no_products')"
      ],
      "execution_count": null,
      "outputs": []
    },
    {
      "cell_type": "code",
      "metadata": {
        "id": "cmT61SgNmsj6"
      },
      "source": [
        "import matplotlib.pyplot as plt\n",
        "import matplotlib.colors as mcolors\n",
        "\n",
        "plt.style.use('seaborn')\n",
        "%matplotlib inline"
      ],
      "execution_count": null,
      "outputs": []
    },
    {
      "cell_type": "code",
      "metadata": {
        "id": "GSlVQNTp49iZ"
      },
      "source": [
        "def plot(x, y):\n",
        "  plt.figure(figsize=(16, 9))\n",
        "  plt.scatter(x, y, c='red', alpha=0.5)\n",
        "  plt.axhline(y=1.32)\n",
        "  plt.axvline(x=0.49)\n",
        "  plt.title('Demand Variability of The Products On The Daily Data', size=30)\n",
        "  plt.xlabel('CV2', size=30)\n",
        "  plt.ylabel('ADI', size=30)\n",
        "  plt.xticks(size=30)\n",
        "  plt.yticks(size=30)\n",
        "  plt.show()"
      ],
      "execution_count": null,
      "outputs": []
    },
    {
      "cell_type": "code",
      "metadata": {
        "colab": {
          "base_uri": "https://localhost:8080/",
          "height": 615
        },
        "id": "gtsHTYlFvA9_",
        "outputId": "dd064614-99fd-4307-a8e2-6d2a37d09de2"
      },
      "source": [
        "#Demand Variability of The Products On The Daily Data\n",
        "plot(sub_analyse.CV2, sub_analyse.ADI)"
      ],
      "execution_count": null,
      "outputs": [
        {
          "output_type": "display_data",
          "data": {
            "image/png": "[encoded data removed]",
            "text/plain": [
              "<Figure size 1152x648 with 1 Axes>"
            ]
          },
          "metadata": {
            "tags": [],
            "needs_background": "light"
          }
        }
      ]
    },
    {
      "cell_type": "code",
      "metadata": {
        "colab": {
          "base_uri": "https://localhost:8080/",
          "height": 615
        },
        "id": "qJxm199Yw-r0",
        "outputId": "b11bb5d1-fce1-475e-dd9c-fc5ad447192e"
      },
      "source": [
        "#Demand Variability of The Products On The Weekly Data\n",
        "plot(sub_analyse.CV2_week, sub_analyse.ADI_weekly)"
      ],
      "execution_count": null,
      "outputs": [
        {
          "output_type": "display_data",
          "data": {
            "image/png": "[encoded data removed]",
            "text/plain": [
              "<Figure size 1152x648 with 1 Axes>"
            ]
          },
          "metadata": {
            "tags": [],
            "needs_background": "light"
          }
        }
      ]
    },
    {
      "cell_type": "code",
      "metadata": {
        "colab": {
          "base_uri": "https://localhost:8080/",
          "height": 173
        },
        "id": "S1E-s7UTlPFr",
        "outputId": "1c0cd886-93c8-4eac-d674-ae7b3dda26f6"
      },
      "source": [
        "demand_v_ds = pd.merge(weekly_profile, daily_profile, how='left', \n",
        "                    left_on='weekly_demand_profile',\n",
        "                    right_on='demand_profile').drop(columns=['demand_profile'])\n",
        "\n",
        "demand_v_ds.columns = ['demand_profile','no_of_products_weekly','no_of_products_daily']\n",
        "demand_v_ds"
      ],
      "execution_count": null,
      "outputs": [
        {
          "output_type": "execute_result",
          "data": {
            "text/html": [
              "<div>\n",
              "<style scoped>\n",
              "    .dataframe tbody tr th:only-of-type {\n",
              "        vertical-align: middle;\n",
              "    }\n",
              "\n",
              "    .dataframe tbody tr th {\n",
              "        vertical-align: top;\n",
              "    }\n",
              "\n",
              "    .dataframe thead th {\n",
              "        text-align: right;\n",
              "    }\n",
              "</style>\n",
              "<table border=\"1\" class=\"dataframe\">\n",
              "  <thead>\n",
              "    <tr style=\"text-align: right;\">\n",
              "      <th></th>\n",
              "      <th>demand_profile</th>\n",
              "      <th>no_of_products_weekly</th>\n",
              "      <th>no_of_products_daily</th>\n",
              "    </tr>\n",
              "  </thead>\n",
              "  <tbody>\n",
              "    <tr>\n",
              "      <th>0</th>\n",
              "      <td>erratic</td>\n",
              "      <td>15</td>\n",
              "      <td>NaN</td>\n",
              "    </tr>\n",
              "    <tr>\n",
              "      <th>1</th>\n",
              "      <td>intermittent</td>\n",
              "      <td>986</td>\n",
              "      <td>1111.0</td>\n",
              "    </tr>\n",
              "    <tr>\n",
              "      <th>2</th>\n",
              "      <td>lumpy</td>\n",
              "      <td>153</td>\n",
              "      <td>55.0</td>\n",
              "    </tr>\n",
              "    <tr>\n",
              "      <th>3</th>\n",
              "      <td>smooth</td>\n",
              "      <td>12</td>\n",
              "      <td>NaN</td>\n",
              "    </tr>\n",
              "  </tbody>\n",
              "</table>\n",
              "</div>"
            ],
            "text/plain": [
              "  demand_profile  no_of_products_weekly  no_of_products_daily\n",
              "0        erratic                     15                   NaN\n",
              "1   intermittent                    986                1111.0\n",
              "2          lumpy                    153                  55.0\n",
              "3         smooth                     12                   NaN"
            ]
          },
          "metadata": {
            "tags": []
          },
          "execution_count": 135
        }
      ]
    },
    {
      "cell_type": "markdown",
      "metadata": {
        "id": "oVYtAIKUlkfo"
      },
      "source": [
        "As you can see, there is not Erratic or Smooth sales of the products on the daily sales data. Therefore, we are going to consider the weekly demand profile and filter the products. We will take the weekly aggregated data and we will select those products that fall in the smooth, erratic, and intermittent categories."
      ]
    },
    {
      "cell_type": "code",
      "metadata": {
        "id": "FT_6Fwb01rLD"
      },
      "source": [
        "filtered_products = sub_analyse[sub_analyse.weekly_demand_profile \n",
        "                                != 'lumpy'].product_id"
      ],
      "execution_count": null,
      "outputs": []
    },
    {
      "cell_type": "code",
      "metadata": {
        "id": "p2PVe51J7BuT",
        "colab": {
          "base_uri": "https://localhost:8080/",
          "height": 419
        },
        "outputId": "4b614553-e97c-4a5d-b8cd-edf22f5e9eb8"
      },
      "source": [
        "analysis_DF = analysis_DF[analysis_DF.product_id.isin(filtered_products)]\n",
        "analysis_DF"
      ],
      "execution_count": null,
      "outputs": [
        {
          "output_type": "execute_result",
          "data": {
            "text/html": [
              "<div>\n",
              "<style scoped>\n",
              "    .dataframe tbody tr th:only-of-type {\n",
              "        vertical-align: middle;\n",
              "    }\n",
              "\n",
              "    .dataframe tbody tr th {\n",
              "        vertical-align: top;\n",
              "    }\n",
              "\n",
              "    .dataframe thead th {\n",
              "        text-align: right;\n",
              "    }\n",
              "</style>\n",
              "<table border=\"1\" class=\"dataframe\">\n",
              "  <thead>\n",
              "    <tr style=\"text-align: right;\">\n",
              "      <th></th>\n",
              "      <th>Date</th>\n",
              "      <th>product_id</th>\n",
              "      <th>seller_id</th>\n",
              "      <th>price</th>\n",
              "      <th>sales_unit</th>\n",
              "    </tr>\n",
              "  </thead>\n",
              "  <tbody>\n",
              "    <tr>\n",
              "      <th>0</th>\n",
              "      <td>2016-09-04</td>\n",
              "      <td>c1488892604e4ba5cff5b4eb4d595400</td>\n",
              "      <td>1554a68530182680ad5c8b042c3ab563</td>\n",
              "      <td>39.99</td>\n",
              "      <td>1</td>\n",
              "    </tr>\n",
              "    <tr>\n",
              "      <th>7</th>\n",
              "      <td>2016-10-03</td>\n",
              "      <td>9c7bdf67b06b419aefb93cfdfc96c55d</td>\n",
              "      <td>ed49da7cadefc454d6a67de249eab240</td>\n",
              "      <td>21.50</td>\n",
              "      <td>1</td>\n",
              "    </tr>\n",
              "    <tr>\n",
              "      <th>43</th>\n",
              "      <td>2016-10-04</td>\n",
              "      <td>817e1c2d22418c36386406ccacfa53e8</td>\n",
              "      <td>624f4ece8da4aafb77699233d480f8ef</td>\n",
              "      <td>189.00</td>\n",
              "      <td>1</td>\n",
              "    </tr>\n",
              "    <tr>\n",
              "      <th>55</th>\n",
              "      <td>2016-10-04</td>\n",
              "      <td>c1488892604e4ba5cff5b4eb4d595400</td>\n",
              "      <td>1554a68530182680ad5c8b042c3ab563</td>\n",
              "      <td>39.99</td>\n",
              "      <td>1</td>\n",
              "    </tr>\n",
              "    <tr>\n",
              "      <th>67</th>\n",
              "      <td>2016-10-04</td>\n",
              "      <td>f422d0d9f8b5f7c27289382b14b61248</td>\n",
              "      <td>1554a68530182680ad5c8b042c3ab563</td>\n",
              "      <td>69.99</td>\n",
              "      <td>1</td>\n",
              "    </tr>\n",
              "    <tr>\n",
              "      <th>...</th>\n",
              "      <td>...</td>\n",
              "      <td>...</td>\n",
              "      <td>...</td>\n",
              "      <td>...</td>\n",
              "      <td>...</td>\n",
              "    </tr>\n",
              "    <tr>\n",
              "      <th>94627</th>\n",
              "      <td>2018-08-27</td>\n",
              "      <td>d2f5484cbffe4ca766301b21ab9246dd</td>\n",
              "      <td>36a968b544695394e4e9d7572688598f</td>\n",
              "      <td>12.88</td>\n",
              "      <td>1</td>\n",
              "    </tr>\n",
              "    <tr>\n",
              "      <th>94637</th>\n",
              "      <td>2018-08-27</td>\n",
              "      <td>e9c1abcc7126360336d8f56d49041a8c</td>\n",
              "      <td>679769a98cfcc6da877c8486ff1c13f3</td>\n",
              "      <td>349.00</td>\n",
              "      <td>1</td>\n",
              "    </tr>\n",
              "    <tr>\n",
              "      <th>94668</th>\n",
              "      <td>2018-08-28</td>\n",
              "      <td>719d571299707561c34ba04ab867b32a</td>\n",
              "      <td>0ef83d7d83ed97cd2a0049ac8be5f88a</td>\n",
              "      <td>49.00</td>\n",
              "      <td>1</td>\n",
              "    </tr>\n",
              "    <tr>\n",
              "      <th>94680</th>\n",
              "      <td>2018-08-28</td>\n",
              "      <td>d6aa421b9567e3e2a3a0caf8fb846cbc</td>\n",
              "      <td>99a54764c341d5dc80b4a8fac4eba3fb</td>\n",
              "      <td>41.80</td>\n",
              "      <td>1</td>\n",
              "    </tr>\n",
              "    <tr>\n",
              "      <th>94683</th>\n",
              "      <td>2018-08-28</td>\n",
              "      <td>e0cf79767c5b016251fe139915c59a26</td>\n",
              "      <td>da8622b14eb17ae2831f4ac5b9dab84a</td>\n",
              "      <td>29.90</td>\n",
              "      <td>1</td>\n",
              "    </tr>\n",
              "  </tbody>\n",
              "</table>\n",
              "<p>19996 rows × 5 columns</p>\n",
              "</div>"
            ],
            "text/plain": [
              "            Date                        product_id  ...   price  sales_unit\n",
              "0     2016-09-04  c1488892604e4ba5cff5b4eb4d595400  ...   39.99           1\n",
              "7     2016-10-03  9c7bdf67b06b419aefb93cfdfc96c55d  ...   21.50           1\n",
              "43    2016-10-04  817e1c2d22418c36386406ccacfa53e8  ...  189.00           1\n",
              "55    2016-10-04  c1488892604e4ba5cff5b4eb4d595400  ...   39.99           1\n",
              "67    2016-10-04  f422d0d9f8b5f7c27289382b14b61248  ...   69.99           1\n",
              "...          ...                               ...  ...     ...         ...\n",
              "94627 2018-08-27  d2f5484cbffe4ca766301b21ab9246dd  ...   12.88           1\n",
              "94637 2018-08-27  e9c1abcc7126360336d8f56d49041a8c  ...  349.00           1\n",
              "94668 2018-08-28  719d571299707561c34ba04ab867b32a  ...   49.00           1\n",
              "94680 2018-08-28  d6aa421b9567e3e2a3a0caf8fb846cbc  ...   41.80           1\n",
              "94683 2018-08-28  e0cf79767c5b016251fe139915c59a26  ...   29.90           1\n",
              "\n",
              "[19996 rows x 5 columns]"
            ]
          },
          "metadata": {
            "tags": []
          },
          "execution_count": 139
        }
      ]
    },
    {
      "cell_type": "markdown",
      "metadata": {
        "id": "j0TWWyIaoAbD"
      },
      "source": [
        "- Selecting the products that have historically changed their price at least three times in the 2-year span\n",
        "\n",
        "- Each of these prices has at least four days of sales."
      ]
    },
    {
      "cell_type": "code",
      "metadata": {
        "id": "g6cTUNQjmGGl"
      },
      "source": [
        "sub_df_2Y = analysis_DF[['product_id','price']\n",
        "                        ].groupby([analysis_DF.product_id,\n",
        "                                   analysis_DF.price]\n",
        "                                  ).size().reset_index(name='sales_days')\n",
        "\n",
        "sub_df_2Y = sub_df_2Y[sub_df_2Y.sales_days >= 4]\n",
        "\n",
        "top_p_price_change = sub_df_2Y.product_id.value_counts()\n",
        "top_p_price_change = top_p_price_change[top_p_price_change>=3].index\n",
        "\n",
        "sub_df_2Y = sub_df_2Y[sub_df_2Y.product_id.isin(top_p_price_change)]"
      ],
      "execution_count": null,
      "outputs": []
    },
    {
      "cell_type": "code",
      "metadata": {
        "id": "JNRazOf0xv9L"
      },
      "source": [
        "filtered_products_cs = sub_df_2Y.product_id.unique()"
      ],
      "execution_count": null,
      "outputs": []
    },
    {
      "cell_type": "code",
      "metadata": {
        "colab": {
          "base_uri": "https://localhost:8080/"
        },
        "id": "TkrbDvBDykHa",
        "outputId": "18e58aef-3078-4da2-e1c6-53080ef7fab6"
      },
      "source": [
        "print('Number of Products: {}'.format(len(filtered_products_cs)))"
      ],
      "execution_count": null,
      "outputs": [
        {
          "output_type": "stream",
          "text": [
            "Number of Products: 84\n"
          ],
          "name": "stdout"
        }
      ]
    },
    {
      "cell_type": "code",
      "metadata": {
        "colab": {
          "base_uri": "https://localhost:8080/",
          "height": 419
        },
        "id": "iUGDpUJJ0I6H",
        "outputId": "ab1928af-a115-4aee-fec7-26cd41a9657c"
      },
      "source": [
        "analysis_DF = analysis_DF[analysis_DF.product_id.isin(filtered_products_cs)]\n",
        "analysis_DF"
      ],
      "execution_count": null,
      "outputs": [
        {
          "output_type": "execute_result",
          "data": {
            "text/html": [
              "<div>\n",
              "<style scoped>\n",
              "    .dataframe tbody tr th:only-of-type {\n",
              "        vertical-align: middle;\n",
              "    }\n",
              "\n",
              "    .dataframe tbody tr th {\n",
              "        vertical-align: top;\n",
              "    }\n",
              "\n",
              "    .dataframe thead th {\n",
              "        text-align: right;\n",
              "    }\n",
              "</style>\n",
              "<table border=\"1\" class=\"dataframe\">\n",
              "  <thead>\n",
              "    <tr style=\"text-align: right;\">\n",
              "      <th></th>\n",
              "      <th>Date</th>\n",
              "      <th>product_id</th>\n",
              "      <th>seller_id</th>\n",
              "      <th>price</th>\n",
              "      <th>sales_unit</th>\n",
              "    </tr>\n",
              "  </thead>\n",
              "  <tbody>\n",
              "    <tr>\n",
              "      <th>442</th>\n",
              "      <td>2017-01-16</td>\n",
              "      <td>ca38c039b717207dec906f4fa9a21db7</td>\n",
              "      <td>59fb871bf6f4522a87ba567b42dafecf</td>\n",
              "      <td>164.99</td>\n",
              "      <td>1</td>\n",
              "    </tr>\n",
              "    <tr>\n",
              "      <th>443</th>\n",
              "      <td>2017-01-16</td>\n",
              "      <td>ca38c039b717207dec906f4fa9a21db7</td>\n",
              "      <td>59fb871bf6f4522a87ba567b42dafecf</td>\n",
              "      <td>184.99</td>\n",
              "      <td>1</td>\n",
              "    </tr>\n",
              "    <tr>\n",
              "      <th>497</th>\n",
              "      <td>2017-01-18</td>\n",
              "      <td>a1bf559ac1eab015ba992bd76d9d76c7</td>\n",
              "      <td>85d9eb9ddc5d00ca9336a2219c97bb13</td>\n",
              "      <td>19.90</td>\n",
              "      <td>1</td>\n",
              "    </tr>\n",
              "    <tr>\n",
              "      <th>506</th>\n",
              "      <td>2017-01-18</td>\n",
              "      <td>d696750e550fd0f733979dd7e5dff921</td>\n",
              "      <td>9de4643a8dbde634fe55621059d92273</td>\n",
              "      <td>173.85</td>\n",
              "      <td>1</td>\n",
              "    </tr>\n",
              "    <tr>\n",
              "      <th>526</th>\n",
              "      <td>2017-01-19</td>\n",
              "      <td>91b08d34d0ba4db44da2dc382867ba49</td>\n",
              "      <td>b76dba6c951ab00dc4edf0a1aa88037e</td>\n",
              "      <td>6.90</td>\n",
              "      <td>1</td>\n",
              "    </tr>\n",
              "    <tr>\n",
              "      <th>...</th>\n",
              "      <td>...</td>\n",
              "      <td>...</td>\n",
              "      <td>...</td>\n",
              "      <td>...</td>\n",
              "      <td>...</td>\n",
              "    </tr>\n",
              "    <tr>\n",
              "      <th>94443</th>\n",
              "      <td>2018-08-25</td>\n",
              "      <td>368c6c730842d78016ad823897a372db</td>\n",
              "      <td>1f50f920176fa81dab994f9023523100</td>\n",
              "      <td>49.90</td>\n",
              "      <td>1</td>\n",
              "    </tr>\n",
              "    <tr>\n",
              "      <th>94475</th>\n",
              "      <td>2018-08-25</td>\n",
              "      <td>c4baedd846ed09b85f78a781b522f126</td>\n",
              "      <td>a1043bafd471dff536d0c462352beb48</td>\n",
              "      <td>89.99</td>\n",
              "      <td>1</td>\n",
              "    </tr>\n",
              "    <tr>\n",
              "      <th>94500</th>\n",
              "      <td>2018-08-25</td>\n",
              "      <td>fbc1488c1a1e72ba175f53ab29a248e8</td>\n",
              "      <td>289cdb325fb7e7f891c38608bf9e0962</td>\n",
              "      <td>116.90</td>\n",
              "      <td>2</td>\n",
              "    </tr>\n",
              "    <tr>\n",
              "      <th>94579</th>\n",
              "      <td>2018-08-27</td>\n",
              "      <td>06bf70b6e1d67d96308235ef350edc61</td>\n",
              "      <td>2c9e548be18521d1c43cde1c582c6de8</td>\n",
              "      <td>79.90</td>\n",
              "      <td>1</td>\n",
              "    </tr>\n",
              "    <tr>\n",
              "      <th>94668</th>\n",
              "      <td>2018-08-28</td>\n",
              "      <td>719d571299707561c34ba04ab867b32a</td>\n",
              "      <td>0ef83d7d83ed97cd2a0049ac8be5f88a</td>\n",
              "      <td>49.00</td>\n",
              "      <td>1</td>\n",
              "    </tr>\n",
              "  </tbody>\n",
              "</table>\n",
              "<p>4842 rows × 5 columns</p>\n",
              "</div>"
            ],
            "text/plain": [
              "            Date                        product_id  ...   price  sales_unit\n",
              "442   2017-01-16  ca38c039b717207dec906f4fa9a21db7  ...  164.99           1\n",
              "443   2017-01-16  ca38c039b717207dec906f4fa9a21db7  ...  184.99           1\n",
              "497   2017-01-18  a1bf559ac1eab015ba992bd76d9d76c7  ...   19.90           1\n",
              "506   2017-01-18  d696750e550fd0f733979dd7e5dff921  ...  173.85           1\n",
              "526   2017-01-19  91b08d34d0ba4db44da2dc382867ba49  ...    6.90           1\n",
              "...          ...                               ...  ...     ...         ...\n",
              "94443 2018-08-25  368c6c730842d78016ad823897a372db  ...   49.90           1\n",
              "94475 2018-08-25  c4baedd846ed09b85f78a781b522f126  ...   89.99           1\n",
              "94500 2018-08-25  fbc1488c1a1e72ba175f53ab29a248e8  ...  116.90           2\n",
              "94579 2018-08-27  06bf70b6e1d67d96308235ef350edc61  ...   79.90           1\n",
              "94668 2018-08-28  719d571299707561c34ba04ab867b32a  ...   49.00           1\n",
              "\n",
              "[4842 rows x 5 columns]"
            ]
          },
          "metadata": {
            "tags": []
          },
          "execution_count": 189
        }
      ]
    },
    {
      "cell_type": "markdown",
      "metadata": {
        "id": "T1WzDzOf82wG"
      },
      "source": [
        "Above is the dataset containing top products on which the forecast and price optimization can be performed.\n",
        "\n",
        "Further analysis about disribution, anomaly/outlier detection, and out-of-stock soon will be uploaded here.\n",
        "\n",
        "The forecsast and optimization will be performed after further analysis."
      ]
    }
  ]
}